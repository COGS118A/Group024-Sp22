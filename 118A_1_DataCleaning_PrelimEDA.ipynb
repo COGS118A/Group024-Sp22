{
 "cells": [
  {
   "cell_type": "markdown",
   "id": "97fcd127",
   "metadata": {},
   "source": [
    "# Import, scan, and clean data\n",
    "\n",
    "Data should be relatively clean but it is nice to know what we are working with.\n",
    "\n",
    "Additionally, there are 3 datasets given to us via our Kaggle page for flights. We'd like to know how all 3 relate to each other, and whether some can be combined or ignored"
   ]
  },
  {
   "cell_type": "code",
   "execution_count": 1,
   "id": "ede000da",
   "metadata": {},
   "outputs": [],
   "source": [
    "#Import Packages\n",
    "import pandas as pd\n",
    "import numpy as np\n",
    "import matplotlib.pyplot as plt\n",
    "import seaborn as sns\n",
    "#import sklearn, etc."
   ]
  },
  {
   "cell_type": "code",
   "execution_count": 2,
   "id": "f515961b",
   "metadata": {},
   "outputs": [],
   "source": [
    "#import datasets as Pandas dataframes\n",
    "#NOTE: the filepath may be different for each user\n",
    "main_dataset = pd.read_csv('Datasets/Clean_Dataset.csv')\n",
    "business_df = pd.read_csv('Datasets/business.csv')\n",
    "economy_df = pd.read_csv('Datasets/economy.csv')"
   ]
  },
  {
   "cell_type": "code",
   "execution_count": 3,
   "id": "526ad90b",
   "metadata": {},
   "outputs": [
    {
     "data": {
      "text/html": [
       "<div>\n",
       "<style scoped>\n",
       "    .dataframe tbody tr th:only-of-type {\n",
       "        vertical-align: middle;\n",
       "    }\n",
       "\n",
       "    .dataframe tbody tr th {\n",
       "        vertical-align: top;\n",
       "    }\n",
       "\n",
       "    .dataframe thead th {\n",
       "        text-align: right;\n",
       "    }\n",
       "</style>\n",
       "<table border=\"1\" class=\"dataframe\">\n",
       "  <thead>\n",
       "    <tr style=\"text-align: right;\">\n",
       "      <th></th>\n",
       "      <th>Unnamed: 0</th>\n",
       "      <th>airline</th>\n",
       "      <th>flight</th>\n",
       "      <th>source_city</th>\n",
       "      <th>departure_time</th>\n",
       "      <th>stops</th>\n",
       "      <th>arrival_time</th>\n",
       "      <th>destination_city</th>\n",
       "      <th>class</th>\n",
       "      <th>duration</th>\n",
       "      <th>days_left</th>\n",
       "      <th>price</th>\n",
       "    </tr>\n",
       "  </thead>\n",
       "  <tbody>\n",
       "    <tr>\n",
       "      <th>0</th>\n",
       "      <td>0</td>\n",
       "      <td>SpiceJet</td>\n",
       "      <td>SG-8709</td>\n",
       "      <td>Delhi</td>\n",
       "      <td>Evening</td>\n",
       "      <td>zero</td>\n",
       "      <td>Night</td>\n",
       "      <td>Mumbai</td>\n",
       "      <td>Economy</td>\n",
       "      <td>2.17</td>\n",
       "      <td>1</td>\n",
       "      <td>5953</td>\n",
       "    </tr>\n",
       "    <tr>\n",
       "      <th>1</th>\n",
       "      <td>1</td>\n",
       "      <td>SpiceJet</td>\n",
       "      <td>SG-8157</td>\n",
       "      <td>Delhi</td>\n",
       "      <td>Early_Morning</td>\n",
       "      <td>zero</td>\n",
       "      <td>Morning</td>\n",
       "      <td>Mumbai</td>\n",
       "      <td>Economy</td>\n",
       "      <td>2.33</td>\n",
       "      <td>1</td>\n",
       "      <td>5953</td>\n",
       "    </tr>\n",
       "    <tr>\n",
       "      <th>2</th>\n",
       "      <td>2</td>\n",
       "      <td>AirAsia</td>\n",
       "      <td>I5-764</td>\n",
       "      <td>Delhi</td>\n",
       "      <td>Early_Morning</td>\n",
       "      <td>zero</td>\n",
       "      <td>Early_Morning</td>\n",
       "      <td>Mumbai</td>\n",
       "      <td>Economy</td>\n",
       "      <td>2.17</td>\n",
       "      <td>1</td>\n",
       "      <td>5956</td>\n",
       "    </tr>\n",
       "    <tr>\n",
       "      <th>3</th>\n",
       "      <td>3</td>\n",
       "      <td>Vistara</td>\n",
       "      <td>UK-995</td>\n",
       "      <td>Delhi</td>\n",
       "      <td>Morning</td>\n",
       "      <td>zero</td>\n",
       "      <td>Afternoon</td>\n",
       "      <td>Mumbai</td>\n",
       "      <td>Economy</td>\n",
       "      <td>2.25</td>\n",
       "      <td>1</td>\n",
       "      <td>5955</td>\n",
       "    </tr>\n",
       "    <tr>\n",
       "      <th>4</th>\n",
       "      <td>4</td>\n",
       "      <td>Vistara</td>\n",
       "      <td>UK-963</td>\n",
       "      <td>Delhi</td>\n",
       "      <td>Morning</td>\n",
       "      <td>zero</td>\n",
       "      <td>Morning</td>\n",
       "      <td>Mumbai</td>\n",
       "      <td>Economy</td>\n",
       "      <td>2.33</td>\n",
       "      <td>1</td>\n",
       "      <td>5955</td>\n",
       "    </tr>\n",
       "  </tbody>\n",
       "</table>\n",
       "</div>"
      ],
      "text/plain": [
       "   Unnamed: 0   airline   flight source_city departure_time stops  \\\n",
       "0           0  SpiceJet  SG-8709       Delhi        Evening  zero   \n",
       "1           1  SpiceJet  SG-8157       Delhi  Early_Morning  zero   \n",
       "2           2   AirAsia   I5-764       Delhi  Early_Morning  zero   \n",
       "3           3   Vistara   UK-995       Delhi        Morning  zero   \n",
       "4           4   Vistara   UK-963       Delhi        Morning  zero   \n",
       "\n",
       "    arrival_time destination_city    class  duration  days_left  price  \n",
       "0          Night           Mumbai  Economy      2.17          1   5953  \n",
       "1        Morning           Mumbai  Economy      2.33          1   5953  \n",
       "2  Early_Morning           Mumbai  Economy      2.17          1   5956  \n",
       "3      Afternoon           Mumbai  Economy      2.25          1   5955  \n",
       "4        Morning           Mumbai  Economy      2.33          1   5955  "
      ]
     },
     "execution_count": 3,
     "metadata": {},
     "output_type": "execute_result"
    }
   ],
   "source": [
    "main_dataset.head()"
   ]
  },
  {
   "cell_type": "code",
   "execution_count": 4,
   "id": "dea6e2f3",
   "metadata": {},
   "outputs": [
    {
     "name": "stdout",
     "output_type": "stream",
     "text": [
      "['Unnamed: 0', 'airline', 'flight', 'source_city', 'departure_time', 'stops', 'arrival_time', 'destination_city', 'class', 'duration', 'days_left', 'price']\n",
      "(300153, 12)\n"
     ]
    }
   ],
   "source": [
    "print(list(main_dataset.columns))\n",
    "print(main_dataset.shape)"
   ]
  },
  {
   "cell_type": "code",
   "execution_count": 5,
   "id": "d51e5405",
   "metadata": {},
   "outputs": [
    {
     "data": {
      "text/html": [
       "<div>\n",
       "<style scoped>\n",
       "    .dataframe tbody tr th:only-of-type {\n",
       "        vertical-align: middle;\n",
       "    }\n",
       "\n",
       "    .dataframe tbody tr th {\n",
       "        vertical-align: top;\n",
       "    }\n",
       "\n",
       "    .dataframe thead th {\n",
       "        text-align: right;\n",
       "    }\n",
       "</style>\n",
       "<table border=\"1\" class=\"dataframe\">\n",
       "  <thead>\n",
       "    <tr style=\"text-align: right;\">\n",
       "      <th></th>\n",
       "      <th>date</th>\n",
       "      <th>airline</th>\n",
       "      <th>ch_code</th>\n",
       "      <th>num_code</th>\n",
       "      <th>dep_time</th>\n",
       "      <th>from</th>\n",
       "      <th>time_taken</th>\n",
       "      <th>stop</th>\n",
       "      <th>arr_time</th>\n",
       "      <th>to</th>\n",
       "      <th>price</th>\n",
       "    </tr>\n",
       "  </thead>\n",
       "  <tbody>\n",
       "    <tr>\n",
       "      <th>0</th>\n",
       "      <td>11-02-2022</td>\n",
       "      <td>Air India</td>\n",
       "      <td>AI</td>\n",
       "      <td>868</td>\n",
       "      <td>18:00</td>\n",
       "      <td>Delhi</td>\n",
       "      <td>02h 00m</td>\n",
       "      <td>non-stop</td>\n",
       "      <td>20:00</td>\n",
       "      <td>Mumbai</td>\n",
       "      <td>25,612</td>\n",
       "    </tr>\n",
       "    <tr>\n",
       "      <th>1</th>\n",
       "      <td>11-02-2022</td>\n",
       "      <td>Air India</td>\n",
       "      <td>AI</td>\n",
       "      <td>624</td>\n",
       "      <td>19:00</td>\n",
       "      <td>Delhi</td>\n",
       "      <td>02h 15m</td>\n",
       "      <td>non-stop</td>\n",
       "      <td>21:15</td>\n",
       "      <td>Mumbai</td>\n",
       "      <td>25,612</td>\n",
       "    </tr>\n",
       "    <tr>\n",
       "      <th>2</th>\n",
       "      <td>11-02-2022</td>\n",
       "      <td>Air India</td>\n",
       "      <td>AI</td>\n",
       "      <td>531</td>\n",
       "      <td>20:00</td>\n",
       "      <td>Delhi</td>\n",
       "      <td>24h 45m</td>\n",
       "      <td>1-stop\\n\\t\\t\\t\\t\\t\\t\\t\\t\\t\\t\\t\\t\\n\\t\\t\\t\\t\\t\\t...</td>\n",
       "      <td>20:45</td>\n",
       "      <td>Mumbai</td>\n",
       "      <td>42,220</td>\n",
       "    </tr>\n",
       "    <tr>\n",
       "      <th>3</th>\n",
       "      <td>11-02-2022</td>\n",
       "      <td>Air India</td>\n",
       "      <td>AI</td>\n",
       "      <td>839</td>\n",
       "      <td>21:25</td>\n",
       "      <td>Delhi</td>\n",
       "      <td>26h 30m</td>\n",
       "      <td>1-stop\\n\\t\\t\\t\\t\\t\\t\\t\\t\\t\\t\\t\\t\\n\\t\\t\\t\\t\\t\\t...</td>\n",
       "      <td>23:55</td>\n",
       "      <td>Mumbai</td>\n",
       "      <td>44,450</td>\n",
       "    </tr>\n",
       "    <tr>\n",
       "      <th>4</th>\n",
       "      <td>11-02-2022</td>\n",
       "      <td>Air India</td>\n",
       "      <td>AI</td>\n",
       "      <td>544</td>\n",
       "      <td>17:15</td>\n",
       "      <td>Delhi</td>\n",
       "      <td>06h 40m</td>\n",
       "      <td>1-stop\\n\\t\\t\\t\\t\\t\\t\\t\\t\\t\\t\\t\\t\\n\\t\\t\\t\\t\\t\\t...</td>\n",
       "      <td>23:55</td>\n",
       "      <td>Mumbai</td>\n",
       "      <td>46,690</td>\n",
       "    </tr>\n",
       "  </tbody>\n",
       "</table>\n",
       "</div>"
      ],
      "text/plain": [
       "         date    airline ch_code  num_code dep_time   from time_taken  \\\n",
       "0  11-02-2022  Air India      AI       868    18:00  Delhi    02h 00m   \n",
       "1  11-02-2022  Air India      AI       624    19:00  Delhi    02h 15m   \n",
       "2  11-02-2022  Air India      AI       531    20:00  Delhi    24h 45m   \n",
       "3  11-02-2022  Air India      AI       839    21:25  Delhi    26h 30m   \n",
       "4  11-02-2022  Air India      AI       544    17:15  Delhi    06h 40m   \n",
       "\n",
       "                                                stop arr_time      to   price  \n",
       "0                                          non-stop     20:00  Mumbai  25,612  \n",
       "1                                          non-stop     21:15  Mumbai  25,612  \n",
       "2  1-stop\\n\\t\\t\\t\\t\\t\\t\\t\\t\\t\\t\\t\\t\\n\\t\\t\\t\\t\\t\\t...    20:45  Mumbai  42,220  \n",
       "3  1-stop\\n\\t\\t\\t\\t\\t\\t\\t\\t\\t\\t\\t\\t\\n\\t\\t\\t\\t\\t\\t...    23:55  Mumbai  44,450  \n",
       "4  1-stop\\n\\t\\t\\t\\t\\t\\t\\t\\t\\t\\t\\t\\t\\n\\t\\t\\t\\t\\t\\t...    23:55  Mumbai  46,690  "
      ]
     },
     "execution_count": 5,
     "metadata": {},
     "output_type": "execute_result"
    }
   ],
   "source": [
    "business_df.head()"
   ]
  },
  {
   "cell_type": "code",
   "execution_count": 6,
   "id": "06bf74d8",
   "metadata": {},
   "outputs": [
    {
     "name": "stdout",
     "output_type": "stream",
     "text": [
      "['date', 'airline', 'ch_code', 'num_code', 'dep_time', 'from', 'time_taken', 'stop', 'arr_time', 'to', 'price']\n",
      "(93487, 11)\n"
     ]
    }
   ],
   "source": [
    "print(list(business_df.columns))\n",
    "print(business_df.shape)"
   ]
  },
  {
   "cell_type": "code",
   "execution_count": 7,
   "id": "b83db847",
   "metadata": {},
   "outputs": [
    {
     "data": {
      "text/html": [
       "<div>\n",
       "<style scoped>\n",
       "    .dataframe tbody tr th:only-of-type {\n",
       "        vertical-align: middle;\n",
       "    }\n",
       "\n",
       "    .dataframe tbody tr th {\n",
       "        vertical-align: top;\n",
       "    }\n",
       "\n",
       "    .dataframe thead th {\n",
       "        text-align: right;\n",
       "    }\n",
       "</style>\n",
       "<table border=\"1\" class=\"dataframe\">\n",
       "  <thead>\n",
       "    <tr style=\"text-align: right;\">\n",
       "      <th></th>\n",
       "      <th>date</th>\n",
       "      <th>airline</th>\n",
       "      <th>ch_code</th>\n",
       "      <th>num_code</th>\n",
       "      <th>dep_time</th>\n",
       "      <th>from</th>\n",
       "      <th>time_taken</th>\n",
       "      <th>stop</th>\n",
       "      <th>arr_time</th>\n",
       "      <th>to</th>\n",
       "      <th>price</th>\n",
       "    </tr>\n",
       "  </thead>\n",
       "  <tbody>\n",
       "    <tr>\n",
       "      <th>0</th>\n",
       "      <td>11-02-2022</td>\n",
       "      <td>SpiceJet</td>\n",
       "      <td>SG</td>\n",
       "      <td>8709</td>\n",
       "      <td>18:55</td>\n",
       "      <td>Delhi</td>\n",
       "      <td>02h 10m</td>\n",
       "      <td>non-stop</td>\n",
       "      <td>21:05</td>\n",
       "      <td>Mumbai</td>\n",
       "      <td>5,953</td>\n",
       "    </tr>\n",
       "    <tr>\n",
       "      <th>1</th>\n",
       "      <td>11-02-2022</td>\n",
       "      <td>SpiceJet</td>\n",
       "      <td>SG</td>\n",
       "      <td>8157</td>\n",
       "      <td>06:20</td>\n",
       "      <td>Delhi</td>\n",
       "      <td>02h 20m</td>\n",
       "      <td>non-stop</td>\n",
       "      <td>08:40</td>\n",
       "      <td>Mumbai</td>\n",
       "      <td>5,953</td>\n",
       "    </tr>\n",
       "    <tr>\n",
       "      <th>2</th>\n",
       "      <td>11-02-2022</td>\n",
       "      <td>AirAsia</td>\n",
       "      <td>I5</td>\n",
       "      <td>764</td>\n",
       "      <td>04:25</td>\n",
       "      <td>Delhi</td>\n",
       "      <td>02h 10m</td>\n",
       "      <td>non-stop</td>\n",
       "      <td>06:35</td>\n",
       "      <td>Mumbai</td>\n",
       "      <td>5,956</td>\n",
       "    </tr>\n",
       "    <tr>\n",
       "      <th>3</th>\n",
       "      <td>11-02-2022</td>\n",
       "      <td>Vistara</td>\n",
       "      <td>UK</td>\n",
       "      <td>995</td>\n",
       "      <td>10:20</td>\n",
       "      <td>Delhi</td>\n",
       "      <td>02h 15m</td>\n",
       "      <td>non-stop</td>\n",
       "      <td>12:35</td>\n",
       "      <td>Mumbai</td>\n",
       "      <td>5,955</td>\n",
       "    </tr>\n",
       "    <tr>\n",
       "      <th>4</th>\n",
       "      <td>11-02-2022</td>\n",
       "      <td>Vistara</td>\n",
       "      <td>UK</td>\n",
       "      <td>963</td>\n",
       "      <td>08:50</td>\n",
       "      <td>Delhi</td>\n",
       "      <td>02h 20m</td>\n",
       "      <td>non-stop</td>\n",
       "      <td>11:10</td>\n",
       "      <td>Mumbai</td>\n",
       "      <td>5,955</td>\n",
       "    </tr>\n",
       "  </tbody>\n",
       "</table>\n",
       "</div>"
      ],
      "text/plain": [
       "         date   airline ch_code  num_code dep_time   from time_taken  \\\n",
       "0  11-02-2022  SpiceJet      SG      8709    18:55  Delhi    02h 10m   \n",
       "1  11-02-2022  SpiceJet      SG      8157    06:20  Delhi    02h 20m   \n",
       "2  11-02-2022   AirAsia      I5       764    04:25  Delhi    02h 10m   \n",
       "3  11-02-2022   Vistara      UK       995    10:20  Delhi    02h 15m   \n",
       "4  11-02-2022   Vistara      UK       963    08:50  Delhi    02h 20m   \n",
       "\n",
       "        stop arr_time      to  price  \n",
       "0  non-stop     21:05  Mumbai  5,953  \n",
       "1  non-stop     08:40  Mumbai  5,953  \n",
       "2  non-stop     06:35  Mumbai  5,956  \n",
       "3  non-stop     12:35  Mumbai  5,955  \n",
       "4  non-stop     11:10  Mumbai  5,955  "
      ]
     },
     "execution_count": 7,
     "metadata": {},
     "output_type": "execute_result"
    }
   ],
   "source": [
    "economy_df.head()"
   ]
  },
  {
   "cell_type": "code",
   "execution_count": 8,
   "id": "57af2d78",
   "metadata": {},
   "outputs": [
    {
     "name": "stdout",
     "output_type": "stream",
     "text": [
      "['date', 'airline', 'ch_code', 'num_code', 'dep_time', 'from', 'time_taken', 'stop', 'arr_time', 'to', 'price']\n",
      "(206774, 11)\n"
     ]
    }
   ],
   "source": [
    "print(list(economy_df.columns))\n",
    "print(economy_df.shape)"
   ]
  },
  {
   "cell_type": "code",
   "execution_count": 9,
   "id": "52358dd6",
   "metadata": {},
   "outputs": [
    {
     "data": {
      "text/plain": [
       "300261"
      ]
     },
     "execution_count": 9,
     "metadata": {},
     "output_type": "execute_result"
    }
   ],
   "source": [
    "206774+93487"
   ]
  },
  {
   "cell_type": "code",
   "execution_count": 10,
   "id": "7b81214d",
   "metadata": {},
   "outputs": [
    {
     "data": {
      "text/html": [
       "<div>\n",
       "<style scoped>\n",
       "    .dataframe tbody tr th:only-of-type {\n",
       "        vertical-align: middle;\n",
       "    }\n",
       "\n",
       "    .dataframe tbody tr th {\n",
       "        vertical-align: top;\n",
       "    }\n",
       "\n",
       "    .dataframe thead th {\n",
       "        text-align: right;\n",
       "    }\n",
       "</style>\n",
       "<table border=\"1\" class=\"dataframe\">\n",
       "  <thead>\n",
       "    <tr style=\"text-align: right;\">\n",
       "      <th></th>\n",
       "      <th>date</th>\n",
       "      <th>airline</th>\n",
       "      <th>ch_code</th>\n",
       "      <th>num_code</th>\n",
       "      <th>dep_time</th>\n",
       "      <th>from</th>\n",
       "      <th>time_taken</th>\n",
       "      <th>stop</th>\n",
       "      <th>arr_time</th>\n",
       "      <th>to</th>\n",
       "      <th>price</th>\n",
       "    </tr>\n",
       "  </thead>\n",
       "  <tbody>\n",
       "    <tr>\n",
       "      <th>0</th>\n",
       "      <td>11-02-2022</td>\n",
       "      <td>Air India</td>\n",
       "      <td>AI</td>\n",
       "      <td>868</td>\n",
       "      <td>18:00</td>\n",
       "      <td>Delhi</td>\n",
       "      <td>02h 00m</td>\n",
       "      <td>non-stop</td>\n",
       "      <td>20:00</td>\n",
       "      <td>Mumbai</td>\n",
       "      <td>25,612</td>\n",
       "    </tr>\n",
       "    <tr>\n",
       "      <th>1</th>\n",
       "      <td>11-02-2022</td>\n",
       "      <td>Air India</td>\n",
       "      <td>AI</td>\n",
       "      <td>624</td>\n",
       "      <td>19:00</td>\n",
       "      <td>Delhi</td>\n",
       "      <td>02h 15m</td>\n",
       "      <td>non-stop</td>\n",
       "      <td>21:15</td>\n",
       "      <td>Mumbai</td>\n",
       "      <td>25,612</td>\n",
       "    </tr>\n",
       "    <tr>\n",
       "      <th>35</th>\n",
       "      <td>12-02-2022</td>\n",
       "      <td>Air India</td>\n",
       "      <td>AI</td>\n",
       "      <td>868</td>\n",
       "      <td>18:00</td>\n",
       "      <td>Delhi</td>\n",
       "      <td>02h 00m</td>\n",
       "      <td>non-stop</td>\n",
       "      <td>20:00</td>\n",
       "      <td>Mumbai</td>\n",
       "      <td>25,612</td>\n",
       "    </tr>\n",
       "    <tr>\n",
       "      <th>36</th>\n",
       "      <td>12-02-2022</td>\n",
       "      <td>Air India</td>\n",
       "      <td>AI</td>\n",
       "      <td>887</td>\n",
       "      <td>07:00</td>\n",
       "      <td>Delhi</td>\n",
       "      <td>02h 05m</td>\n",
       "      <td>non-stop</td>\n",
       "      <td>09:05</td>\n",
       "      <td>Mumbai</td>\n",
       "      <td>25,612</td>\n",
       "    </tr>\n",
       "    <tr>\n",
       "      <th>37</th>\n",
       "      <td>12-02-2022</td>\n",
       "      <td>Air India</td>\n",
       "      <td>AI</td>\n",
       "      <td>665</td>\n",
       "      <td>08:00</td>\n",
       "      <td>Delhi</td>\n",
       "      <td>02h 10m</td>\n",
       "      <td>non-stop</td>\n",
       "      <td>10:10</td>\n",
       "      <td>Mumbai</td>\n",
       "      <td>25,612</td>\n",
       "    </tr>\n",
       "    <tr>\n",
       "      <th>38</th>\n",
       "      <td>12-02-2022</td>\n",
       "      <td>Air India</td>\n",
       "      <td>AI</td>\n",
       "      <td>805</td>\n",
       "      <td>20:00</td>\n",
       "      <td>Delhi</td>\n",
       "      <td>02h 10m</td>\n",
       "      <td>non-stop</td>\n",
       "      <td>22:10</td>\n",
       "      <td>Mumbai</td>\n",
       "      <td>25,612</td>\n",
       "    </tr>\n",
       "    <tr>\n",
       "      <th>39</th>\n",
       "      <td>12-02-2022</td>\n",
       "      <td>Air India</td>\n",
       "      <td>AI</td>\n",
       "      <td>678</td>\n",
       "      <td>09:00</td>\n",
       "      <td>Delhi</td>\n",
       "      <td>02h 15m</td>\n",
       "      <td>non-stop</td>\n",
       "      <td>11:15</td>\n",
       "      <td>Mumbai</td>\n",
       "      <td>25,612</td>\n",
       "    </tr>\n",
       "    <tr>\n",
       "      <th>40</th>\n",
       "      <td>12-02-2022</td>\n",
       "      <td>Air India</td>\n",
       "      <td>AI</td>\n",
       "      <td>624</td>\n",
       "      <td>19:00</td>\n",
       "      <td>Delhi</td>\n",
       "      <td>02h 15m</td>\n",
       "      <td>non-stop</td>\n",
       "      <td>21:15</td>\n",
       "      <td>Mumbai</td>\n",
       "      <td>25,612</td>\n",
       "    </tr>\n",
       "    <tr>\n",
       "      <th>41</th>\n",
       "      <td>12-02-2022</td>\n",
       "      <td>Air India</td>\n",
       "      <td>AI</td>\n",
       "      <td>636</td>\n",
       "      <td>14:30</td>\n",
       "      <td>Delhi</td>\n",
       "      <td>03h 30m</td>\n",
       "      <td>1-stop\\n\\t\\t\\t\\t\\t\\t\\t\\t\\t\\t\\t\\tVia IDR\\n\\t\\t\\...</td>\n",
       "      <td>18:00</td>\n",
       "      <td>Mumbai</td>\n",
       "      <td>25,612</td>\n",
       "    </tr>\n",
       "    <tr>\n",
       "      <th>42</th>\n",
       "      <td>12-02-2022</td>\n",
       "      <td>Air India</td>\n",
       "      <td>AI</td>\n",
       "      <td>441</td>\n",
       "      <td>17:50</td>\n",
       "      <td>Delhi</td>\n",
       "      <td>03h 45m</td>\n",
       "      <td>1-stop\\n\\t\\t\\t\\t\\t\\t\\t\\t\\t\\t\\t\\tVia IXU\\n\\t\\t\\...</td>\n",
       "      <td>21:35</td>\n",
       "      <td>Mumbai</td>\n",
       "      <td>25,612</td>\n",
       "    </tr>\n",
       "    <tr>\n",
       "      <th>123</th>\n",
       "      <td>13-02-2022</td>\n",
       "      <td>Air India</td>\n",
       "      <td>AI</td>\n",
       "      <td>868</td>\n",
       "      <td>18:00</td>\n",
       "      <td>Delhi</td>\n",
       "      <td>02h 00m</td>\n",
       "      <td>non-stop</td>\n",
       "      <td>20:00</td>\n",
       "      <td>Mumbai</td>\n",
       "      <td>25,612</td>\n",
       "    </tr>\n",
       "    <tr>\n",
       "      <th>124</th>\n",
       "      <td>13-02-2022</td>\n",
       "      <td>Air India</td>\n",
       "      <td>AI</td>\n",
       "      <td>887</td>\n",
       "      <td>07:00</td>\n",
       "      <td>Delhi</td>\n",
       "      <td>02h 05m</td>\n",
       "      <td>non-stop</td>\n",
       "      <td>09:05</td>\n",
       "      <td>Mumbai</td>\n",
       "      <td>25,612</td>\n",
       "    </tr>\n",
       "    <tr>\n",
       "      <th>125</th>\n",
       "      <td>13-02-2022</td>\n",
       "      <td>Air India</td>\n",
       "      <td>AI</td>\n",
       "      <td>665</td>\n",
       "      <td>08:00</td>\n",
       "      <td>Delhi</td>\n",
       "      <td>02h 10m</td>\n",
       "      <td>non-stop</td>\n",
       "      <td>10:10</td>\n",
       "      <td>Mumbai</td>\n",
       "      <td>25,612</td>\n",
       "    </tr>\n",
       "    <tr>\n",
       "      <th>126</th>\n",
       "      <td>13-02-2022</td>\n",
       "      <td>Air India</td>\n",
       "      <td>AI</td>\n",
       "      <td>805</td>\n",
       "      <td>20:00</td>\n",
       "      <td>Delhi</td>\n",
       "      <td>02h 10m</td>\n",
       "      <td>non-stop</td>\n",
       "      <td>22:10</td>\n",
       "      <td>Mumbai</td>\n",
       "      <td>25,612</td>\n",
       "    </tr>\n",
       "    <tr>\n",
       "      <th>127</th>\n",
       "      <td>13-02-2022</td>\n",
       "      <td>Air India</td>\n",
       "      <td>AI</td>\n",
       "      <td>624</td>\n",
       "      <td>19:00</td>\n",
       "      <td>Delhi</td>\n",
       "      <td>02h 15m</td>\n",
       "      <td>non-stop</td>\n",
       "      <td>21:15</td>\n",
       "      <td>Mumbai</td>\n",
       "      <td>25,612</td>\n",
       "    </tr>\n",
       "    <tr>\n",
       "      <th>128</th>\n",
       "      <td>13-02-2022</td>\n",
       "      <td>Air India</td>\n",
       "      <td>AI</td>\n",
       "      <td>636</td>\n",
       "      <td>14:30</td>\n",
       "      <td>Delhi</td>\n",
       "      <td>03h 30m</td>\n",
       "      <td>1-stop\\n\\t\\t\\t\\t\\t\\t\\t\\t\\t\\t\\t\\tVia IDR\\n\\t\\t\\...</td>\n",
       "      <td>18:00</td>\n",
       "      <td>Mumbai</td>\n",
       "      <td>25,612</td>\n",
       "    </tr>\n",
       "    <tr>\n",
       "      <th>129</th>\n",
       "      <td>13-02-2022</td>\n",
       "      <td>Air India</td>\n",
       "      <td>AI</td>\n",
       "      <td>441</td>\n",
       "      <td>17:50</td>\n",
       "      <td>Delhi</td>\n",
       "      <td>03h 45m</td>\n",
       "      <td>1-stop\\n\\t\\t\\t\\t\\t\\t\\t\\t\\t\\t\\t\\tVia IXU\\n\\t\\t\\...</td>\n",
       "      <td>21:35</td>\n",
       "      <td>Mumbai</td>\n",
       "      <td>25,612</td>\n",
       "    </tr>\n",
       "  </tbody>\n",
       "</table>\n",
       "</div>"
      ],
      "text/plain": [
       "           date    airline ch_code  num_code dep_time   from time_taken  \\\n",
       "0    11-02-2022  Air India      AI       868    18:00  Delhi    02h 00m   \n",
       "1    11-02-2022  Air India      AI       624    19:00  Delhi    02h 15m   \n",
       "35   12-02-2022  Air India      AI       868    18:00  Delhi    02h 00m   \n",
       "36   12-02-2022  Air India      AI       887    07:00  Delhi    02h 05m   \n",
       "37   12-02-2022  Air India      AI       665    08:00  Delhi    02h 10m   \n",
       "38   12-02-2022  Air India      AI       805    20:00  Delhi    02h 10m   \n",
       "39   12-02-2022  Air India      AI       678    09:00  Delhi    02h 15m   \n",
       "40   12-02-2022  Air India      AI       624    19:00  Delhi    02h 15m   \n",
       "41   12-02-2022  Air India      AI       636    14:30  Delhi    03h 30m   \n",
       "42   12-02-2022  Air India      AI       441    17:50  Delhi    03h 45m   \n",
       "123  13-02-2022  Air India      AI       868    18:00  Delhi    02h 00m   \n",
       "124  13-02-2022  Air India      AI       887    07:00  Delhi    02h 05m   \n",
       "125  13-02-2022  Air India      AI       665    08:00  Delhi    02h 10m   \n",
       "126  13-02-2022  Air India      AI       805    20:00  Delhi    02h 10m   \n",
       "127  13-02-2022  Air India      AI       624    19:00  Delhi    02h 15m   \n",
       "128  13-02-2022  Air India      AI       636    14:30  Delhi    03h 30m   \n",
       "129  13-02-2022  Air India      AI       441    17:50  Delhi    03h 45m   \n",
       "\n",
       "                                                  stop arr_time      to  \\\n",
       "0                                            non-stop     20:00  Mumbai   \n",
       "1                                            non-stop     21:15  Mumbai   \n",
       "35                                           non-stop     20:00  Mumbai   \n",
       "36                                           non-stop     09:05  Mumbai   \n",
       "37                                           non-stop     10:10  Mumbai   \n",
       "38                                           non-stop     22:10  Mumbai   \n",
       "39                                           non-stop     11:15  Mumbai   \n",
       "40                                           non-stop     21:15  Mumbai   \n",
       "41   1-stop\\n\\t\\t\\t\\t\\t\\t\\t\\t\\t\\t\\t\\tVia IDR\\n\\t\\t\\...    18:00  Mumbai   \n",
       "42   1-stop\\n\\t\\t\\t\\t\\t\\t\\t\\t\\t\\t\\t\\tVia IXU\\n\\t\\t\\...    21:35  Mumbai   \n",
       "123                                          non-stop     20:00  Mumbai   \n",
       "124                                          non-stop     09:05  Mumbai   \n",
       "125                                          non-stop     10:10  Mumbai   \n",
       "126                                          non-stop     22:10  Mumbai   \n",
       "127                                          non-stop     21:15  Mumbai   \n",
       "128  1-stop\\n\\t\\t\\t\\t\\t\\t\\t\\t\\t\\t\\t\\tVia IDR\\n\\t\\t\\...    18:00  Mumbai   \n",
       "129  1-stop\\n\\t\\t\\t\\t\\t\\t\\t\\t\\t\\t\\t\\tVia IXU\\n\\t\\t\\...    21:35  Mumbai   \n",
       "\n",
       "      price  \n",
       "0    25,612  \n",
       "1    25,612  \n",
       "35   25,612  \n",
       "36   25,612  \n",
       "37   25,612  \n",
       "38   25,612  \n",
       "39   25,612  \n",
       "40   25,612  \n",
       "41   25,612  \n",
       "42   25,612  \n",
       "123  25,612  \n",
       "124  25,612  \n",
       "125  25,612  \n",
       "126  25,612  \n",
       "127  25,612  \n",
       "128  25,612  \n",
       "129  25,612  "
      ]
     },
     "execution_count": 10,
     "metadata": {},
     "output_type": "execute_result"
    }
   ],
   "source": [
    "business_df.loc[business_df['price'] == '25,612']"
   ]
  },
  {
   "cell_type": "code",
   "execution_count": 11,
   "id": "e9215ea5",
   "metadata": {},
   "outputs": [
    {
     "data": {
      "text/html": [
       "<div>\n",
       "<style scoped>\n",
       "    .dataframe tbody tr th:only-of-type {\n",
       "        vertical-align: middle;\n",
       "    }\n",
       "\n",
       "    .dataframe tbody tr th {\n",
       "        vertical-align: top;\n",
       "    }\n",
       "\n",
       "    .dataframe thead th {\n",
       "        text-align: right;\n",
       "    }\n",
       "</style>\n",
       "<table border=\"1\" class=\"dataframe\">\n",
       "  <thead>\n",
       "    <tr style=\"text-align: right;\">\n",
       "      <th></th>\n",
       "      <th>Unnamed: 0</th>\n",
       "      <th>airline</th>\n",
       "      <th>flight</th>\n",
       "      <th>source_city</th>\n",
       "      <th>departure_time</th>\n",
       "      <th>stops</th>\n",
       "      <th>arrival_time</th>\n",
       "      <th>destination_city</th>\n",
       "      <th>class</th>\n",
       "      <th>duration</th>\n",
       "      <th>days_left</th>\n",
       "      <th>price</th>\n",
       "    </tr>\n",
       "  </thead>\n",
       "  <tbody>\n",
       "    <tr>\n",
       "      <th>206666</th>\n",
       "      <td>206666</td>\n",
       "      <td>Air_India</td>\n",
       "      <td>AI-868</td>\n",
       "      <td>Delhi</td>\n",
       "      <td>Evening</td>\n",
       "      <td>zero</td>\n",
       "      <td>Evening</td>\n",
       "      <td>Mumbai</td>\n",
       "      <td>Business</td>\n",
       "      <td>2.00</td>\n",
       "      <td>1</td>\n",
       "      <td>25612</td>\n",
       "    </tr>\n",
       "    <tr>\n",
       "      <th>206667</th>\n",
       "      <td>206667</td>\n",
       "      <td>Air_India</td>\n",
       "      <td>AI-624</td>\n",
       "      <td>Delhi</td>\n",
       "      <td>Evening</td>\n",
       "      <td>zero</td>\n",
       "      <td>Night</td>\n",
       "      <td>Mumbai</td>\n",
       "      <td>Business</td>\n",
       "      <td>2.25</td>\n",
       "      <td>1</td>\n",
       "      <td>25612</td>\n",
       "    </tr>\n",
       "    <tr>\n",
       "      <th>206701</th>\n",
       "      <td>206701</td>\n",
       "      <td>Air_India</td>\n",
       "      <td>AI-868</td>\n",
       "      <td>Delhi</td>\n",
       "      <td>Evening</td>\n",
       "      <td>zero</td>\n",
       "      <td>Evening</td>\n",
       "      <td>Mumbai</td>\n",
       "      <td>Business</td>\n",
       "      <td>2.00</td>\n",
       "      <td>2</td>\n",
       "      <td>25612</td>\n",
       "    </tr>\n",
       "    <tr>\n",
       "      <th>206702</th>\n",
       "      <td>206702</td>\n",
       "      <td>Air_India</td>\n",
       "      <td>AI-887</td>\n",
       "      <td>Delhi</td>\n",
       "      <td>Early_Morning</td>\n",
       "      <td>zero</td>\n",
       "      <td>Morning</td>\n",
       "      <td>Mumbai</td>\n",
       "      <td>Business</td>\n",
       "      <td>2.08</td>\n",
       "      <td>2</td>\n",
       "      <td>25612</td>\n",
       "    </tr>\n",
       "    <tr>\n",
       "      <th>206703</th>\n",
       "      <td>206703</td>\n",
       "      <td>Air_India</td>\n",
       "      <td>AI-665</td>\n",
       "      <td>Delhi</td>\n",
       "      <td>Early_Morning</td>\n",
       "      <td>zero</td>\n",
       "      <td>Morning</td>\n",
       "      <td>Mumbai</td>\n",
       "      <td>Business</td>\n",
       "      <td>2.17</td>\n",
       "      <td>2</td>\n",
       "      <td>25612</td>\n",
       "    </tr>\n",
       "    <tr>\n",
       "      <th>206704</th>\n",
       "      <td>206704</td>\n",
       "      <td>Air_India</td>\n",
       "      <td>AI-805</td>\n",
       "      <td>Delhi</td>\n",
       "      <td>Evening</td>\n",
       "      <td>zero</td>\n",
       "      <td>Night</td>\n",
       "      <td>Mumbai</td>\n",
       "      <td>Business</td>\n",
       "      <td>2.17</td>\n",
       "      <td>2</td>\n",
       "      <td>25612</td>\n",
       "    </tr>\n",
       "    <tr>\n",
       "      <th>206705</th>\n",
       "      <td>206705</td>\n",
       "      <td>Air_India</td>\n",
       "      <td>AI-678</td>\n",
       "      <td>Delhi</td>\n",
       "      <td>Morning</td>\n",
       "      <td>zero</td>\n",
       "      <td>Morning</td>\n",
       "      <td>Mumbai</td>\n",
       "      <td>Business</td>\n",
       "      <td>2.25</td>\n",
       "      <td>2</td>\n",
       "      <td>25612</td>\n",
       "    </tr>\n",
       "    <tr>\n",
       "      <th>206706</th>\n",
       "      <td>206706</td>\n",
       "      <td>Air_India</td>\n",
       "      <td>AI-624</td>\n",
       "      <td>Delhi</td>\n",
       "      <td>Evening</td>\n",
       "      <td>zero</td>\n",
       "      <td>Night</td>\n",
       "      <td>Mumbai</td>\n",
       "      <td>Business</td>\n",
       "      <td>2.25</td>\n",
       "      <td>2</td>\n",
       "      <td>25612</td>\n",
       "    </tr>\n",
       "    <tr>\n",
       "      <th>206707</th>\n",
       "      <td>206707</td>\n",
       "      <td>Air_India</td>\n",
       "      <td>AI-636</td>\n",
       "      <td>Delhi</td>\n",
       "      <td>Afternoon</td>\n",
       "      <td>one</td>\n",
       "      <td>Evening</td>\n",
       "      <td>Mumbai</td>\n",
       "      <td>Business</td>\n",
       "      <td>3.50</td>\n",
       "      <td>2</td>\n",
       "      <td>25612</td>\n",
       "    </tr>\n",
       "    <tr>\n",
       "      <th>206708</th>\n",
       "      <td>206708</td>\n",
       "      <td>Air_India</td>\n",
       "      <td>AI-441</td>\n",
       "      <td>Delhi</td>\n",
       "      <td>Evening</td>\n",
       "      <td>one</td>\n",
       "      <td>Night</td>\n",
       "      <td>Mumbai</td>\n",
       "      <td>Business</td>\n",
       "      <td>3.75</td>\n",
       "      <td>2</td>\n",
       "      <td>25612</td>\n",
       "    </tr>\n",
       "    <tr>\n",
       "      <th>206789</th>\n",
       "      <td>206789</td>\n",
       "      <td>Air_India</td>\n",
       "      <td>AI-868</td>\n",
       "      <td>Delhi</td>\n",
       "      <td>Evening</td>\n",
       "      <td>zero</td>\n",
       "      <td>Evening</td>\n",
       "      <td>Mumbai</td>\n",
       "      <td>Business</td>\n",
       "      <td>2.00</td>\n",
       "      <td>3</td>\n",
       "      <td>25612</td>\n",
       "    </tr>\n",
       "    <tr>\n",
       "      <th>206790</th>\n",
       "      <td>206790</td>\n",
       "      <td>Air_India</td>\n",
       "      <td>AI-887</td>\n",
       "      <td>Delhi</td>\n",
       "      <td>Early_Morning</td>\n",
       "      <td>zero</td>\n",
       "      <td>Morning</td>\n",
       "      <td>Mumbai</td>\n",
       "      <td>Business</td>\n",
       "      <td>2.08</td>\n",
       "      <td>3</td>\n",
       "      <td>25612</td>\n",
       "    </tr>\n",
       "    <tr>\n",
       "      <th>206791</th>\n",
       "      <td>206791</td>\n",
       "      <td>Air_India</td>\n",
       "      <td>AI-665</td>\n",
       "      <td>Delhi</td>\n",
       "      <td>Early_Morning</td>\n",
       "      <td>zero</td>\n",
       "      <td>Morning</td>\n",
       "      <td>Mumbai</td>\n",
       "      <td>Business</td>\n",
       "      <td>2.17</td>\n",
       "      <td>3</td>\n",
       "      <td>25612</td>\n",
       "    </tr>\n",
       "    <tr>\n",
       "      <th>206792</th>\n",
       "      <td>206792</td>\n",
       "      <td>Air_India</td>\n",
       "      <td>AI-805</td>\n",
       "      <td>Delhi</td>\n",
       "      <td>Evening</td>\n",
       "      <td>zero</td>\n",
       "      <td>Night</td>\n",
       "      <td>Mumbai</td>\n",
       "      <td>Business</td>\n",
       "      <td>2.17</td>\n",
       "      <td>3</td>\n",
       "      <td>25612</td>\n",
       "    </tr>\n",
       "    <tr>\n",
       "      <th>206793</th>\n",
       "      <td>206793</td>\n",
       "      <td>Air_India</td>\n",
       "      <td>AI-624</td>\n",
       "      <td>Delhi</td>\n",
       "      <td>Evening</td>\n",
       "      <td>zero</td>\n",
       "      <td>Night</td>\n",
       "      <td>Mumbai</td>\n",
       "      <td>Business</td>\n",
       "      <td>2.25</td>\n",
       "      <td>3</td>\n",
       "      <td>25612</td>\n",
       "    </tr>\n",
       "    <tr>\n",
       "      <th>206794</th>\n",
       "      <td>206794</td>\n",
       "      <td>Air_India</td>\n",
       "      <td>AI-636</td>\n",
       "      <td>Delhi</td>\n",
       "      <td>Afternoon</td>\n",
       "      <td>one</td>\n",
       "      <td>Evening</td>\n",
       "      <td>Mumbai</td>\n",
       "      <td>Business</td>\n",
       "      <td>3.50</td>\n",
       "      <td>3</td>\n",
       "      <td>25612</td>\n",
       "    </tr>\n",
       "    <tr>\n",
       "      <th>206795</th>\n",
       "      <td>206795</td>\n",
       "      <td>Air_India</td>\n",
       "      <td>AI-441</td>\n",
       "      <td>Delhi</td>\n",
       "      <td>Evening</td>\n",
       "      <td>one</td>\n",
       "      <td>Night</td>\n",
       "      <td>Mumbai</td>\n",
       "      <td>Business</td>\n",
       "      <td>3.75</td>\n",
       "      <td>3</td>\n",
       "      <td>25612</td>\n",
       "    </tr>\n",
       "  </tbody>\n",
       "</table>\n",
       "</div>"
      ],
      "text/plain": [
       "        Unnamed: 0    airline  flight source_city departure_time stops  \\\n",
       "206666      206666  Air_India  AI-868       Delhi        Evening  zero   \n",
       "206667      206667  Air_India  AI-624       Delhi        Evening  zero   \n",
       "206701      206701  Air_India  AI-868       Delhi        Evening  zero   \n",
       "206702      206702  Air_India  AI-887       Delhi  Early_Morning  zero   \n",
       "206703      206703  Air_India  AI-665       Delhi  Early_Morning  zero   \n",
       "206704      206704  Air_India  AI-805       Delhi        Evening  zero   \n",
       "206705      206705  Air_India  AI-678       Delhi        Morning  zero   \n",
       "206706      206706  Air_India  AI-624       Delhi        Evening  zero   \n",
       "206707      206707  Air_India  AI-636       Delhi      Afternoon   one   \n",
       "206708      206708  Air_India  AI-441       Delhi        Evening   one   \n",
       "206789      206789  Air_India  AI-868       Delhi        Evening  zero   \n",
       "206790      206790  Air_India  AI-887       Delhi  Early_Morning  zero   \n",
       "206791      206791  Air_India  AI-665       Delhi  Early_Morning  zero   \n",
       "206792      206792  Air_India  AI-805       Delhi        Evening  zero   \n",
       "206793      206793  Air_India  AI-624       Delhi        Evening  zero   \n",
       "206794      206794  Air_India  AI-636       Delhi      Afternoon   one   \n",
       "206795      206795  Air_India  AI-441       Delhi        Evening   one   \n",
       "\n",
       "       arrival_time destination_city     class  duration  days_left  price  \n",
       "206666      Evening           Mumbai  Business      2.00          1  25612  \n",
       "206667        Night           Mumbai  Business      2.25          1  25612  \n",
       "206701      Evening           Mumbai  Business      2.00          2  25612  \n",
       "206702      Morning           Mumbai  Business      2.08          2  25612  \n",
       "206703      Morning           Mumbai  Business      2.17          2  25612  \n",
       "206704        Night           Mumbai  Business      2.17          2  25612  \n",
       "206705      Morning           Mumbai  Business      2.25          2  25612  \n",
       "206706        Night           Mumbai  Business      2.25          2  25612  \n",
       "206707      Evening           Mumbai  Business      3.50          2  25612  \n",
       "206708        Night           Mumbai  Business      3.75          2  25612  \n",
       "206789      Evening           Mumbai  Business      2.00          3  25612  \n",
       "206790      Morning           Mumbai  Business      2.08          3  25612  \n",
       "206791      Morning           Mumbai  Business      2.17          3  25612  \n",
       "206792        Night           Mumbai  Business      2.17          3  25612  \n",
       "206793        Night           Mumbai  Business      2.25          3  25612  \n",
       "206794      Evening           Mumbai  Business      3.50          3  25612  \n",
       "206795        Night           Mumbai  Business      3.75          3  25612  "
      ]
     },
     "execution_count": 11,
     "metadata": {},
     "output_type": "execute_result"
    }
   ],
   "source": [
    "main_dataset.loc[main_dataset['price'] == 25612]"
   ]
  },
  {
   "cell_type": "code",
   "execution_count": 12,
   "id": "e032d740",
   "metadata": {},
   "outputs": [
    {
     "data": {
      "text/plain": [
       "True"
      ]
     },
     "execution_count": 12,
     "metadata": {},
     "output_type": "execute_result"
    }
   ],
   "source": [
    "len(main_dataset.loc[main_dataset['price'] == 25612]) == len(business_df.loc[business_df['price'] == '25,612'])"
   ]
  },
  {
   "cell_type": "markdown",
   "id": "9677f5e6",
   "metadata": {},
   "source": [
    "We can see that the cleaned dataset is a combination of the business and economy class flights with a few modifications (~100 dropped flights, prices converted from strings to ints, etc.).\n",
    "\n",
    "However, there are some immediate, glaring issues that should be taken care of:\n",
    " - We need to drop the unnamed column\n",
    " - We should convert the 'stops' (number of stops per flight) from categorical data to numerical data\n",
    " - We should fix some of the names for better readability (e.g. 'days_left' refers to number of days between booking and vacation, but this isn't obvious)\n",
    " \n",
    " Additionally, for quality of life, we may drop some columns we are less interested in working with. This would be done in a new dataframe, however, and will likely be done after we find some sort of test metric for usability (for example, we do not expect flight serial number to be a good predictor of price)."
   ]
  },
  {
   "cell_type": "code",
   "execution_count": 13,
   "id": "54bc973f",
   "metadata": {},
   "outputs": [],
   "source": [
    "main_dataset = main_dataset.drop(columns = ['Unnamed: 0'])"
   ]
  },
  {
   "cell_type": "code",
   "execution_count": 14,
   "id": "b565c419",
   "metadata": {},
   "outputs": [
    {
     "name": "stdout",
     "output_type": "stream",
     "text": [
      "['zero' 'one' 'two_or_more']\n"
     ]
    }
   ],
   "source": [
    "print(main_dataset['stops'].unique())\n",
    "def strtonum(ele):\n",
    "    if ele == 'zero':\n",
    "        num = 0\n",
    "            \n",
    "    elif ele == 'one':\n",
    "        num = 1\n",
    "            \n",
    "    else:\n",
    "        num = 2\n",
    "            \n",
    "    return num\n",
    "\n",
    "main_dataset['stops'] = main_dataset['stops'].apply(strtonum)"
   ]
  },
  {
   "cell_type": "code",
   "execution_count": 15,
   "id": "81e48cb6",
   "metadata": {},
   "outputs": [
    {
     "data": {
      "text/html": [
       "<div>\n",
       "<style scoped>\n",
       "    .dataframe tbody tr th:only-of-type {\n",
       "        vertical-align: middle;\n",
       "    }\n",
       "\n",
       "    .dataframe tbody tr th {\n",
       "        vertical-align: top;\n",
       "    }\n",
       "\n",
       "    .dataframe thead th {\n",
       "        text-align: right;\n",
       "    }\n",
       "</style>\n",
       "<table border=\"1\" class=\"dataframe\">\n",
       "  <thead>\n",
       "    <tr style=\"text-align: right;\">\n",
       "      <th></th>\n",
       "      <th>airline</th>\n",
       "      <th>flight</th>\n",
       "      <th>source_city</th>\n",
       "      <th>departure_time</th>\n",
       "      <th>stops</th>\n",
       "      <th>arrival_time</th>\n",
       "      <th>destination_city</th>\n",
       "      <th>class</th>\n",
       "      <th>duration</th>\n",
       "      <th>days_left</th>\n",
       "      <th>price</th>\n",
       "    </tr>\n",
       "  </thead>\n",
       "  <tbody>\n",
       "    <tr>\n",
       "      <th>0</th>\n",
       "      <td>SpiceJet</td>\n",
       "      <td>SG-8709</td>\n",
       "      <td>Delhi</td>\n",
       "      <td>Evening</td>\n",
       "      <td>0</td>\n",
       "      <td>Night</td>\n",
       "      <td>Mumbai</td>\n",
       "      <td>Economy</td>\n",
       "      <td>2.17</td>\n",
       "      <td>1</td>\n",
       "      <td>5953</td>\n",
       "    </tr>\n",
       "    <tr>\n",
       "      <th>1</th>\n",
       "      <td>SpiceJet</td>\n",
       "      <td>SG-8157</td>\n",
       "      <td>Delhi</td>\n",
       "      <td>Early_Morning</td>\n",
       "      <td>0</td>\n",
       "      <td>Morning</td>\n",
       "      <td>Mumbai</td>\n",
       "      <td>Economy</td>\n",
       "      <td>2.33</td>\n",
       "      <td>1</td>\n",
       "      <td>5953</td>\n",
       "    </tr>\n",
       "    <tr>\n",
       "      <th>2</th>\n",
       "      <td>AirAsia</td>\n",
       "      <td>I5-764</td>\n",
       "      <td>Delhi</td>\n",
       "      <td>Early_Morning</td>\n",
       "      <td>0</td>\n",
       "      <td>Early_Morning</td>\n",
       "      <td>Mumbai</td>\n",
       "      <td>Economy</td>\n",
       "      <td>2.17</td>\n",
       "      <td>1</td>\n",
       "      <td>5956</td>\n",
       "    </tr>\n",
       "    <tr>\n",
       "      <th>3</th>\n",
       "      <td>Vistara</td>\n",
       "      <td>UK-995</td>\n",
       "      <td>Delhi</td>\n",
       "      <td>Morning</td>\n",
       "      <td>0</td>\n",
       "      <td>Afternoon</td>\n",
       "      <td>Mumbai</td>\n",
       "      <td>Economy</td>\n",
       "      <td>2.25</td>\n",
       "      <td>1</td>\n",
       "      <td>5955</td>\n",
       "    </tr>\n",
       "    <tr>\n",
       "      <th>4</th>\n",
       "      <td>Vistara</td>\n",
       "      <td>UK-963</td>\n",
       "      <td>Delhi</td>\n",
       "      <td>Morning</td>\n",
       "      <td>0</td>\n",
       "      <td>Morning</td>\n",
       "      <td>Mumbai</td>\n",
       "      <td>Economy</td>\n",
       "      <td>2.33</td>\n",
       "      <td>1</td>\n",
       "      <td>5955</td>\n",
       "    </tr>\n",
       "  </tbody>\n",
       "</table>\n",
       "</div>"
      ],
      "text/plain": [
       "    airline   flight source_city departure_time  stops   arrival_time  \\\n",
       "0  SpiceJet  SG-8709       Delhi        Evening      0          Night   \n",
       "1  SpiceJet  SG-8157       Delhi  Early_Morning      0        Morning   \n",
       "2   AirAsia   I5-764       Delhi  Early_Morning      0  Early_Morning   \n",
       "3   Vistara   UK-995       Delhi        Morning      0      Afternoon   \n",
       "4   Vistara   UK-963       Delhi        Morning      0        Morning   \n",
       "\n",
       "  destination_city    class  duration  days_left  price  \n",
       "0           Mumbai  Economy      2.17          1   5953  \n",
       "1           Mumbai  Economy      2.33          1   5953  \n",
       "2           Mumbai  Economy      2.17          1   5956  \n",
       "3           Mumbai  Economy      2.25          1   5955  \n",
       "4           Mumbai  Economy      2.33          1   5955  "
      ]
     },
     "execution_count": 15,
     "metadata": {},
     "output_type": "execute_result"
    }
   ],
   "source": [
    "#main_dataset['days_left'] = main_dataset['days_left'].rename('hi') when we think of a name\n",
    "main_dataset.head()"
   ]
  },
  {
   "cell_type": "code",
   "execution_count": 16,
   "id": "859efa04",
   "metadata": {},
   "outputs": [
    {
     "data": {
      "text/plain": [
       "airline             False\n",
       "flight              False\n",
       "source_city         False\n",
       "departure_time      False\n",
       "stops               False\n",
       "arrival_time        False\n",
       "destination_city    False\n",
       "class               False\n",
       "duration            False\n",
       "days_left           False\n",
       "price               False\n",
       "dtype: bool"
      ]
     },
     "execution_count": 16,
     "metadata": {},
     "output_type": "execute_result"
    }
   ],
   "source": [
    "main_dataset.isnull().any()"
   ]
  },
  {
   "cell_type": "markdown",
   "id": "65a3e172",
   "metadata": {},
   "source": [
    "## Exploratory Data Analysis\n",
    "\n",
    "With all cleaning done, we'd like to begin looking at what features of the data might be good predictors of other features (in particular, we'd like to see which features correlate well with price)\n",
    "\n",
    "We can do this in the following ways:\n",
    " - Correlation Matrices (only works with integer data)\n",
    " - Linear Regression (also only works with integer data)\n",
    " - Multi-class scattar plots (allows us to compare two features (e.g. price and duration) with categorical data (e.g. airline))\n",
    "\n",
    "Still need to figure out better ways of comparing/predicting integer data (price) using categorical data\n",
    "\n",
    "Also, we have a lot of data, so figures get very overcomplicated very fast. We should stick to percentages whenever possible (like in corr matrices)"
   ]
  },
  {
   "cell_type": "code",
   "execution_count": 17,
   "id": "e5eef788",
   "metadata": {},
   "outputs": [
    {
     "data": {
      "text/plain": [
       "<matplotlib.colorbar.Colorbar at 0x7fae18eb76d0>"
      ]
     },
     "execution_count": 17,
     "metadata": {},
     "output_type": "execute_result"
    },
    {
     "data": {
      "image/png": "[encoded data removed]",
      "text/plain": [
       "<Figure size 288x288 with 2 Axes>"
      ]
     },
     "metadata": {
      "needs_background": "light"
     },
     "output_type": "display_data"
    }
   ],
   "source": [
    "data_scalars_only = main_dataset[['stops', 'duration', 'days_left', 'price']]\n",
    "corr_mat = data_scalars_only.corr()\n",
    "plt.matshow(corr_mat) #not sure how to change figure size, corr matrix is kind of strange to work with\n",
    "plt.xticks(range(data_scalars_only.shape[1]), data_scalars_only.columns) #optional: rotation=45\n",
    "plt.yticks(range(data_scalars_only.shape[1]), data_scalars_only.columns)\n",
    "plt.colorbar()"
   ]
  },
  {
   "cell_type": "code",
   "execution_count": 18,
   "id": "c3677bb6",
   "metadata": {},
   "outputs": [
    {
     "data": {
      "image/png": "[encoded data removed]",
      "text/plain": [
       "<Figure size 432x288 with 2 Axes>"
      ]
     },
     "metadata": {
      "needs_background": "light"
     },
     "output_type": "display_data"
    }
   ],
   "source": [
    "sns.heatmap(corr_mat, annot=True)\n",
    "plt.show()\n",
    "#works better because we can see numbers\n",
    "#duration and stops have high correlation; makes sense\n",
    "#highest correlation is only a 0.2 with price: duration and price"
   ]
  },
  {
   "cell_type": "code",
   "execution_count": 19,
   "id": "110f33e3",
   "metadata": {},
   "outputs": [
    {
     "data": {
      "text/plain": [
       "0         0\n",
       "1         0\n",
       "2         0\n",
       "3         0\n",
       "4         0\n",
       "         ..\n",
       "300148    1\n",
       "300149    1\n",
       "300150    1\n",
       "300151    1\n",
       "300152    1\n",
       "Name: stops, Length: 300153, dtype: int64"
      ]
     },
     "execution_count": 19,
     "metadata": {},
     "output_type": "execute_result"
    }
   ],
   "source": [
    "main_dataset['stops']"
   ]
  },
  {
   "cell_type": "code",
   "execution_count": 20,
   "id": "f26cda95",
   "metadata": {},
   "outputs": [
    {
     "data": {
      "text/plain": [
       "<AxesSubplot:xlabel='price', ylabel='duration'>"
      ]
     },
     "execution_count": 20,
     "metadata": {},
     "output_type": "execute_result"
    },
    {
     "name": "stderr",
     "output_type": "stream",
     "text": [
      "/Users/simran/Library/Python/3.8/lib/python/site-packages/IPython/core/pylabtools.py:134: UserWarning: Creating legend with loc=\"best\" can be slow with large amounts of data.\n",
      "  fig.canvas.print_figure(bytes_io, **kw)\n"
     ]
    },
    {
     "data": {
      "image/png": "[encoded data removed]",
      "text/plain": [
       "<Figure size 432x288 with 1 Axes>"
      ]
     },
     "metadata": {
      "needs_background": "light"
     },
     "output_type": "display_data"
    }
   ],
   "source": [
    "sns.scatterplot(data=main_dataset, x='price', y='duration', hue='airline') #oh dear god we have too much data\n",
    "#can already see a slight trend: Vistara seems to be most expensive, Indigo the cheapest, Air india the longest flights on average"
   ]
  },
  {
   "cell_type": "code",
   "execution_count": 21,
   "id": "38a67ae2-fed1-4c7f-b765-2599d1bb8c78",
   "metadata": {},
   "outputs": [
    {
     "data": {
      "text/html": [
       "<div>\n",
       "<style scoped>\n",
       "    .dataframe tbody tr th:only-of-type {\n",
       "        vertical-align: middle;\n",
       "    }\n",
       "\n",
       "    .dataframe tbody tr th {\n",
       "        vertical-align: top;\n",
       "    }\n",
       "\n",
       "    .dataframe thead th {\n",
       "        text-align: right;\n",
       "    }\n",
       "</style>\n",
       "<table border=\"1\" class=\"dataframe\">\n",
       "  <thead>\n",
       "    <tr style=\"text-align: right;\">\n",
       "      <th></th>\n",
       "      <th>airline</th>\n",
       "      <th>stops</th>\n",
       "      <th>duration</th>\n",
       "      <th>days_left</th>\n",
       "      <th>price</th>\n",
       "    </tr>\n",
       "  </thead>\n",
       "  <tbody>\n",
       "    <tr>\n",
       "      <th>0</th>\n",
       "      <td>AirAsia</td>\n",
       "      <td>0.988322</td>\n",
       "      <td>8.941714</td>\n",
       "      <td>27.735184</td>\n",
       "      <td>4091.072742</td>\n",
       "    </tr>\n",
       "    <tr>\n",
       "      <th>1</th>\n",
       "      <td>Air_India</td>\n",
       "      <td>0.963779</td>\n",
       "      <td>15.504235</td>\n",
       "      <td>25.497466</td>\n",
       "      <td>23507.019112</td>\n",
       "    </tr>\n",
       "    <tr>\n",
       "      <th>2</th>\n",
       "      <td>GO_FIRST</td>\n",
       "      <td>0.878393</td>\n",
       "      <td>8.755380</td>\n",
       "      <td>27.430415</td>\n",
       "      <td>5652.007595</td>\n",
       "    </tr>\n",
       "    <tr>\n",
       "      <th>3</th>\n",
       "      <td>Indigo</td>\n",
       "      <td>0.757004</td>\n",
       "      <td>5.795197</td>\n",
       "      <td>26.264309</td>\n",
       "      <td>5324.216303</td>\n",
       "    </tr>\n",
       "    <tr>\n",
       "      <th>4</th>\n",
       "      <td>SpiceJet</td>\n",
       "      <td>0.726778</td>\n",
       "      <td>12.579767</td>\n",
       "      <td>24.122850</td>\n",
       "      <td>6179.278881</td>\n",
       "    </tr>\n",
       "    <tr>\n",
       "      <th>5</th>\n",
       "      <td>Vistara</td>\n",
       "      <td>0.969951</td>\n",
       "      <td>13.326634</td>\n",
       "      <td>25.894532</td>\n",
       "      <td>30396.536302</td>\n",
       "    </tr>\n",
       "  </tbody>\n",
       "</table>\n",
       "</div>"
      ],
      "text/plain": [
       "     airline     stops   duration  days_left         price\n",
       "0    AirAsia  0.988322   8.941714  27.735184   4091.072742\n",
       "1  Air_India  0.963779  15.504235  25.497466  23507.019112\n",
       "2   GO_FIRST  0.878393   8.755380  27.430415   5652.007595\n",
       "3     Indigo  0.757004   5.795197  26.264309   5324.216303\n",
       "4   SpiceJet  0.726778  12.579767  24.122850   6179.278881\n",
       "5    Vistara  0.969951  13.326634  25.894532  30396.536302"
      ]
     },
     "execution_count": 21,
     "metadata": {},
     "output_type": "execute_result"
    }
   ],
   "source": [
    "# group by airlines\n",
    "df_airline = main_dataset.groupby('airline').mean().reset_index()\n",
    "df_airline"
   ]
  },
  {
   "cell_type": "code",
   "execution_count": 22,
   "id": "4c63ba6d-67b4-45f2-ae4f-5837e106cd61",
   "metadata": {},
   "outputs": [
    {
     "data": {
      "text/plain": [
       "Text(0, 0.5, 'Average Duration')"
      ]
     },
     "execution_count": 22,
     "metadata": {},
     "output_type": "execute_result"
    },
    {
     "data": {
      "image/png": "[encoded data removed]",
      "text/plain": [
       "<Figure size 432x288 with 1 Axes>"
      ]
     },
     "metadata": {
      "needs_background": "light"
     },
     "output_type": "display_data"
    }
   ],
   "source": [
    "ax = sns.barplot(x = 'airline', y = 'duration', data = df_airline)\n",
    "plt.title('Average Duration per Airline')\n",
    "plt.xlabel('Airline')\n",
    "plt.ylabel('Average Duration')"
   ]
  },
  {
   "cell_type": "markdown",
   "id": "25d77b68-a68c-44c4-8509-ebb054999ec8",
   "metadata": {},
   "source": [
    "- Air_India has longer flights on average than the other airlines\n",
    "- Indigo airlines has relatively short flights in comparison to the others"
   ]
  },
  {
   "cell_type": "code",
   "execution_count": 23,
   "id": "e1813a54-d062-4b2c-aeba-c083542aef30",
   "metadata": {},
   "outputs": [
    {
     "data": {
      "text/html": [
       "<div>\n",
       "<style scoped>\n",
       "    .dataframe tbody tr th:only-of-type {\n",
       "        vertical-align: middle;\n",
       "    }\n",
       "\n",
       "    .dataframe tbody tr th {\n",
       "        vertical-align: top;\n",
       "    }\n",
       "\n",
       "    .dataframe thead th {\n",
       "        text-align: right;\n",
       "    }\n",
       "</style>\n",
       "<table border=\"1\" class=\"dataframe\">\n",
       "  <thead>\n",
       "    <tr style=\"text-align: right;\">\n",
       "      <th></th>\n",
       "      <th>class</th>\n",
       "      <th>stops</th>\n",
       "      <th>duration</th>\n",
       "      <th>days_left</th>\n",
       "      <th>price</th>\n",
       "    </tr>\n",
       "  </thead>\n",
       "  <tbody>\n",
       "    <tr>\n",
       "      <th>0</th>\n",
       "      <td>Business</td>\n",
       "      <td>0.924920</td>\n",
       "      <td>13.704274</td>\n",
       "      <td>25.741857</td>\n",
       "      <td>52540.081124</td>\n",
       "    </tr>\n",
       "    <tr>\n",
       "      <th>1</th>\n",
       "      <td>Economy</td>\n",
       "      <td>0.924037</td>\n",
       "      <td>11.550060</td>\n",
       "      <td>26.123673</td>\n",
       "      <td>6572.342383</td>\n",
       "    </tr>\n",
       "  </tbody>\n",
       "</table>\n",
       "</div>"
      ],
      "text/plain": [
       "      class     stops   duration  days_left         price\n",
       "0  Business  0.924920  13.704274  25.741857  52540.081124\n",
       "1   Economy  0.924037  11.550060  26.123673   6572.342383"
      ]
     },
     "execution_count": 23,
     "metadata": {},
     "output_type": "execute_result"
    }
   ],
   "source": [
    "# group by airlines\n",
    "df_class = main_dataset.groupby('class').mean().reset_index()\n",
    "df_class"
   ]
  },
  {
   "cell_type": "code",
   "execution_count": 24,
   "id": "32e0e4c9-3f8d-48a9-80c5-d9a5b44f0930",
   "metadata": {},
   "outputs": [
    {
     "data": {
      "text/plain": [
       "Text(0, 0.5, 'Average Duration')"
      ]
     },
     "execution_count": 24,
     "metadata": {},
     "output_type": "execute_result"
    },
    {
     "data": {
      "image/png": "[encoded data removed]",
      "text/plain": [
       "<Figure size 432x288 with 1 Axes>"
      ]
     },
     "metadata": {
      "needs_background": "light"
     },
     "output_type": "display_data"
    }
   ],
   "source": [
    "ax1 = sns.barplot(x = 'class', y = 'duration', data = df_class)\n",
    "plt.title('Average Duration by Class')\n",
    "plt.xlabel('Class')\n",
    "plt.ylabel('Average Duration')"
   ]
  },
  {
   "cell_type": "markdown",
   "id": "1d319ef9-8549-4346-a423-8d63d9f7983b",
   "metadata": {},
   "source": [
    "- Business class flights in this dataset on average have a higher duration than the economy flights\n",
    "- Possible factor to consider when creating classifier => people prefer business class for longer flights"
   ]
  },
  {
   "cell_type": "code",
   "execution_count": 25,
   "id": "10c1454f-9610-4daa-8601-781f373e6440",
   "metadata": {},
   "outputs": [
    {
     "data": {
      "text/plain": [
       "Text(0, 0.5, 'Average Duration')"
      ]
     },
     "execution_count": 25,
     "metadata": {},
     "output_type": "execute_result"
    },
    {
     "data": {
      "image/png": "[encoded data removed]",
      "text/plain": [
       "<Figure size 432x288 with 1 Axes>"
      ]
     },
     "metadata": {
      "needs_background": "light"
     },
     "output_type": "display_data"
    }
   ],
   "source": [
    "ax2 = sns.barplot(x = 'airline', y = 'duration', hue = 'class', data = main_dataset)\n",
    "plt.title('Average Duration per Airline by Class')\n",
    "plt.xlabel('Airline')\n",
    "plt.ylabel('Average Duration')"
   ]
  },
  {
   "cell_type": "markdown",
   "id": "1d212b60-bcce-4190-9525-31c4c0153758",
   "metadata": {},
   "source": [
    "- Important to note that only Vistara and Air_India provide business class flights\n",
    "- As reflected in the earlier plot, Air_India still has the highest average duration and Indigo has the lowest"
   ]
  },
  {
   "cell_type": "code",
   "execution_count": 26,
   "id": "caa83592-a9f1-4f6e-917c-6652773dcb9a",
   "metadata": {},
   "outputs": [
    {
     "data": {
      "image/png": "[encoded data removed]",
      "text/plain": [
       "<Figure size 432x288 with 1 Axes>"
      ]
     },
     "metadata": {
      "needs_background": "light"
     },
     "output_type": "display_data"
    }
   ],
   "source": [
    "ax3 = sns.countplot(x='departure_time', hue = 'class', data = main_dataset)\n",
    "ax3.set_xlabel('Departure Time')\n",
    "ax3.set_ylabel('Count')\n",
    "ax3.set_title('Distribution of Departure Times per Class')\n",
    "ax3.tick_params(axis='x', rotation=90)"
   ]
  },
  {
   "cell_type": "markdown",
   "id": "1a28175c-106e-409e-96a8-7f4116c19f91",
   "metadata": {},
   "source": [
    "- Rarely any flight from either class departs late at night\n",
    "- Need to consider that only two airlines offer business class so distribution of business class may look skewed because of this\n",
    "- Most of the economy class flights depart in the morning "
   ]
  },
  {
   "cell_type": "code",
   "execution_count": 27,
   "id": "5e7dfc7f-2b1d-42b1-9a4d-7693c03316fb",
   "metadata": {},
   "outputs": [
    {
     "data": {
      "image/png": "[encoded data removed]",
      "text/plain": [
       "<Figure size 432x288 with 1 Axes>"
      ]
     },
     "metadata": {
      "needs_background": "light"
     },
     "output_type": "display_data"
    }
   ],
   "source": [
    "ax4 = sns.countplot(x='arrival_time', hue = 'class', data = main_dataset)\n",
    "ax4.set_xlabel('Arrival Time')\n",
    "ax4.set_ylabel('Count')\n",
    "ax4.set_title('Distribution of Arrival Times per Class')\n",
    "ax4.tick_params(axis='x', rotation=90)"
   ]
  },
  {
   "cell_type": "markdown",
   "id": "42b21d7a-e442-4279-b45e-59ce69714869",
   "metadata": {},
   "source": [
    "- Most of the economy class flights arrive at night\n",
    "- Similar number of business class flights arrive at evening and at night"
   ]
  },
  {
   "cell_type": "code",
   "execution_count": 28,
   "id": "164a794a-3c83-4359-8800-9d48dbad062e",
   "metadata": {},
   "outputs": [
    {
     "data": {
      "text/plain": [
       "Text(0.5, 1.0, 'Distribution of Days Left')"
      ]
     },
     "execution_count": 28,
     "metadata": {},
     "output_type": "execute_result"
    },
    {
     "data": {
      "image/png": "[encoded data removed]",
      "text/plain": [
       "<Figure size 432x288 with 1 Axes>"
      ]
     },
     "metadata": {
      "needs_background": "light"
     },
     "output_type": "display_data"
    }
   ],
   "source": [
    "ax5 = sns.barplot(x='class', y = 'days_left', hue = 'airline', data = main_dataset)\n",
    "ax5.set_xlabel('Airline')\n",
    "ax5.set_ylabel('Count')\n",
    "ax5.set_title('Distribution of Days Left')"
   ]
  },
  {
   "cell_type": "markdown",
   "id": "f0107297-bc13-4214-8df9-68a859ce51a3",
   "metadata": {},
   "source": [
    "- Most of them look relatively similar\n",
    "- SpiceJet has the lowest on average days left, could possibly mean that they offer better deals closer to desired dates when passengers are booking"
   ]
  },
  {
   "cell_type": "code",
   "execution_count": 29,
   "id": "3d4ce218-bb81-4360-b44e-5bedaf284d42",
   "metadata": {},
   "outputs": [
    {
     "data": {
      "text/plain": [
       "<seaborn.axisgrid.FacetGrid at 0x7fae193c06a0>"
      ]
     },
     "execution_count": 29,
     "metadata": {},
     "output_type": "execute_result"
    },
    {
     "data": {
      "image/png": "[encoded data removed]",
      "text/plain": [
       "<Figure size 360x360 with 1 Axes>"
      ]
     },
     "metadata": {
      "needs_background": "light"
     },
     "output_type": "display_data"
    }
   ],
   "source": [
    "sns.lmplot(x=\"duration\", y=\"price\", data=main_dataset)"
   ]
  },
  {
   "cell_type": "markdown",
   "id": "93c1f1f9-3a26-45c9-9dba-97940dd436a1",
   "metadata": {},
   "source": [
    "- No clear relationship shown by scatterplot between the two variables"
   ]
  },
  {
   "cell_type": "code",
   "execution_count": 30,
   "id": "f61ed56a-be9d-4524-9789-461c1a7e9779",
   "metadata": {},
   "outputs": [
    {
     "data": {
      "text/plain": [
       "Text(0.5, 1.0, 'Number of Stops and Price')"
      ]
     },
     "execution_count": 30,
     "metadata": {},
     "output_type": "execute_result"
    },
    {
     "data": {
      "image/png": "[encoded data removed]",
      "text/plain": [
       "<Figure size 432x288 with 1 Axes>"
      ]
     },
     "metadata": {
      "needs_background": "light"
     },
     "output_type": "display_data"
    }
   ],
   "source": [
    "ax6 = sns.barplot(x = 'stops', y = 'price', data = main_dataset)\n",
    "ax6.set_title('Number of Stops and Price')"
   ]
  },
  {
   "cell_type": "markdown",
   "id": "85f0bbf4-9725-404f-a439-c6f654a56c37",
   "metadata": {},
   "source": [
    "- Things to consider: whether the no stop flights are shorter/longer and how that impacts price, whether all airlines offer multiple stops\n",
    "- Interesting to see that flights with one stop tend to be higher priced than those with zero"
   ]
  },
  {
   "cell_type": "code",
   "execution_count": 31,
   "id": "fe2a20d5-3a59-46f0-b3b9-5ce87b7cac9b",
   "metadata": {},
   "outputs": [
    {
     "data": {
      "text/plain": [
       "Text(0.5, 1.0, 'Number of Stops and Duration')"
      ]
     },
     "execution_count": 31,
     "metadata": {},
     "output_type": "execute_result"
    },
    {
     "data": {
      "image/png": "[encoded data removed]",
      "text/plain": [
       "<Figure size 432x288 with 1 Axes>"
      ]
     },
     "metadata": {
      "needs_background": "light"
     },
     "output_type": "display_data"
    }
   ],
   "source": [
    "ax7 = sns.barplot(x = 'stops', y = 'duration', data = main_dataset)\n",
    "ax7.set_title('Number of Stops and Duration')"
   ]
  },
  {
   "cell_type": "markdown",
   "id": "486388e3-fc01-43d7-8d87-a2710696298e",
   "metadata": {},
   "source": [
    "- Pattern looks to be that longer flights have more stops (as expected) \n",
    "- Flights with one stop tend to be almost as long as those with two, but tend to be greater in price as seen by the previous plot which could mean that price is greatly influenced by both duration and number of stops together"
   ]
  }
 ],
 "metadata": {
  "kernelspec": {
   "display_name": "Python 3 (ipykernel)",
   "language": "python",
   "name": "python3"
  },
  "language_info": {
   "codemirror_mode": {
    "name": "ipython",
    "version": 3
   },
   "file_extension": ".py",
   "mimetype": "text/x-python",
   "name": "python",
   "nbconvert_exporter": "python",
   "pygments_lexer": "ipython3",
   "version": "3.8.3"
  }
 },
 "nbformat": 4,
 "nbformat_minor": 5
}
