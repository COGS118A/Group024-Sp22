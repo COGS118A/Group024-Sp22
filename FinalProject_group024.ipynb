{
 "cells": [
  {
   "cell_type": "markdown",
   "metadata": {},
   "source": [
    "# COGS 118A - Final Project"
   ]
  },
  {
   "cell_type": "markdown",
   "metadata": {},
   "source": [
    "# Flight Price Predictor\n",
    "\n",
    "## Group members\n",
    "\n",
    "- Drake Coy\n",
    "- Aditi Krishnakumar\n",
    "- Simran Nayyer\n",
    "- Jasmine Qiang\n",
    "- Luke Sztajnkrycer"
   ]
  },
  {
   "cell_type": "markdown",
   "metadata": {},
   "source": [
    "# Abstract \n",
    "Our project is centered around accurately predicting the price of flights to find the best booking times and routes. Our goal is to enable customers to plan their trips as efficiently and cost effectively as possible. We examine data collected from ‘Easemytrip,’ an online booking platform, between February 11th and March 31st of 2022 that includes flight information from India about airline companies, flight codes, source/destination cities, flight times, and more. There are 12 total features that mostly take the form of discrete categorical variables (‘Delhi,’ ‘morning,’ ‘economy,’ etc.), and include 300,000 unique observations. We implement linear regression, nonlinear regression, decision tree, and random forest models to make our predictions. Each method is compared using R-squared, adjusted R-squared, root mean squared error, and mean absolute error metrics to evaluate their performance. We will then evaluate our decision tree success rate by using an accuracy classification score based upon the predicted prices, or bucket of prices. We ultimately found that a random forest provided the best results, followed closely by a single decision tree, and then a linear regression model."
   ]
  },
  {
   "cell_type": "markdown",
   "metadata": {},
   "source": [
    "# Background\n",
    "\n",
    "Groves & Gini used a standard PLS regression to construct their model, as well as lagged feature computation to weight temporal relationships in the data. <a name=\"groves\"></a>[<sup>[1]</sup>](#grovesnote)\n",
    "\n",
    "Wohlfarth et al. used a marked point process of returns to create a piecewise reconstruction of the price trajectory, which they then used to create an intensity image to perform clustering, feature-based classification, and model generation. <a name=\"Wohlfarth\"></a>[<sup>[2]</sup>](#Wohlfarthnote)\n",
    "\n",
    "Guo & Luh used a committee machine of neural networks, combining RBF and MLP networks to balance local data characteristics with global trends. <a name=\"Guo\"></a>[<sup>[3]</sup>](#Guonote)\n",
    "\n",
    "Etzioni et al. compared reinforcement learning and rule learning, where the system determined whether to buy or wait for each instance of a ticket price. They also compared those with a moving average model to predict the price of a flight based on its own history. <a name=\"Etzioni\"></a>[<sup>[4]</sup>](#Etzioninote)\n",
    "\n",
    "In general, most of the prior work seems to agree that for this task, it is important to choose a model that considers more general, long-term patterns as opposed to finer details."
   ]
  },
  {
   "cell_type": "markdown",
   "metadata": {},
   "source": [
    "# Problem Statement\n",
    "\n",
    "When booking flights, there is often a tradeoff between aspects such as comfort (in terms of the airline) and or time spent (duration of the flight) that make the experience uncomfortable in the name of saving money. Our team intends to give insight into what factors influence flight pricing the most so that when readers of our work are booking flights in the future, they will be able to prioritize these factors in order to minimize their flight price. We plan to provide this service through linear regression by establishing relationships between flight price and other factors and through a decision tree by combining various results of our regression to categorize flights."
   ]
  },
  {
   "cell_type": "markdown",
   "metadata": {
    "tags": []
   },
   "source": [
    "# Data\n",
    "Dataset: https://www.kaggle.com/datasets/shubhambathwal/flight-price-prediction\n",
    "\n",
    "Our dataset contains flight data to six metropolitan cities in India from Easemytrip which is an online platform for booking plane tickets. There are 300,261 observations in this dataset and 11 variables per observation. The 11 features are as follows: airline, flight (number), source city, departure time, stops, arrival time, destination city, class, duration, days left (from the booking date till fight date), and price. Some critical variables from this list include the airline, days left, destination city, and stops as we think that these variables logically should have the most influence on the price variable. The dataset seems to be cleaned already but depending on how we aim to explore the analysis, we may need to one-hot encode certain categorical variables."
   ]
  },
  {
   "cell_type": "code",
   "execution_count": 2,
   "metadata": {},
   "outputs": [
    {
     "data": {
      "text/html": [
       "<div>\n",
       "<style scoped>\n",
       "    .dataframe tbody tr th:only-of-type {\n",
       "        vertical-align: middle;\n",
       "    }\n",
       "\n",
       "    .dataframe tbody tr th {\n",
       "        vertical-align: top;\n",
       "    }\n",
       "\n",
       "    .dataframe thead th {\n",
       "        text-align: right;\n",
       "    }\n",
       "</style>\n",
       "<table border=\"1\" class=\"dataframe\">\n",
       "  <thead>\n",
       "    <tr style=\"text-align: right;\">\n",
       "      <th></th>\n",
       "      <th>airline</th>\n",
       "      <th>flight</th>\n",
       "      <th>source_city</th>\n",
       "      <th>departure_time</th>\n",
       "      <th>stops</th>\n",
       "      <th>arrival_time</th>\n",
       "      <th>destination_city</th>\n",
       "      <th>class</th>\n",
       "      <th>duration</th>\n",
       "      <th>days_left</th>\n",
       "      <th>price</th>\n",
       "    </tr>\n",
       "  </thead>\n",
       "  <tbody>\n",
       "    <tr>\n",
       "      <th>0</th>\n",
       "      <td>SpiceJet</td>\n",
       "      <td>SG-8709</td>\n",
       "      <td>Delhi</td>\n",
       "      <td>Evening</td>\n",
       "      <td>0</td>\n",
       "      <td>Night</td>\n",
       "      <td>Mumbai</td>\n",
       "      <td>Economy</td>\n",
       "      <td>2.17</td>\n",
       "      <td>1</td>\n",
       "      <td>5953</td>\n",
       "    </tr>\n",
       "    <tr>\n",
       "      <th>1</th>\n",
       "      <td>SpiceJet</td>\n",
       "      <td>SG-8157</td>\n",
       "      <td>Delhi</td>\n",
       "      <td>Early_Morning</td>\n",
       "      <td>0</td>\n",
       "      <td>Morning</td>\n",
       "      <td>Mumbai</td>\n",
       "      <td>Economy</td>\n",
       "      <td>2.33</td>\n",
       "      <td>1</td>\n",
       "      <td>5953</td>\n",
       "    </tr>\n",
       "    <tr>\n",
       "      <th>2</th>\n",
       "      <td>AirAsia</td>\n",
       "      <td>I5-764</td>\n",
       "      <td>Delhi</td>\n",
       "      <td>Early_Morning</td>\n",
       "      <td>0</td>\n",
       "      <td>Early_Morning</td>\n",
       "      <td>Mumbai</td>\n",
       "      <td>Economy</td>\n",
       "      <td>2.17</td>\n",
       "      <td>1</td>\n",
       "      <td>5956</td>\n",
       "    </tr>\n",
       "    <tr>\n",
       "      <th>3</th>\n",
       "      <td>Vistara</td>\n",
       "      <td>UK-995</td>\n",
       "      <td>Delhi</td>\n",
       "      <td>Morning</td>\n",
       "      <td>0</td>\n",
       "      <td>Afternoon</td>\n",
       "      <td>Mumbai</td>\n",
       "      <td>Economy</td>\n",
       "      <td>2.25</td>\n",
       "      <td>1</td>\n",
       "      <td>5955</td>\n",
       "    </tr>\n",
       "    <tr>\n",
       "      <th>4</th>\n",
       "      <td>Vistara</td>\n",
       "      <td>UK-963</td>\n",
       "      <td>Delhi</td>\n",
       "      <td>Morning</td>\n",
       "      <td>0</td>\n",
       "      <td>Morning</td>\n",
       "      <td>Mumbai</td>\n",
       "      <td>Economy</td>\n",
       "      <td>2.33</td>\n",
       "      <td>1</td>\n",
       "      <td>5955</td>\n",
       "    </tr>\n",
       "  </tbody>\n",
       "</table>\n",
       "</div>"
      ],
      "text/plain": [
       "    airline   flight source_city departure_time  stops   arrival_time  \\\n",
       "0  SpiceJet  SG-8709       Delhi        Evening      0          Night   \n",
       "1  SpiceJet  SG-8157       Delhi  Early_Morning      0        Morning   \n",
       "2   AirAsia   I5-764       Delhi  Early_Morning      0  Early_Morning   \n",
       "3   Vistara   UK-995       Delhi        Morning      0      Afternoon   \n",
       "4   Vistara   UK-963       Delhi        Morning      0        Morning   \n",
       "\n",
       "  destination_city    class  duration  days_left  price  \n",
       "0           Mumbai  Economy      2.17          1   5953  \n",
       "1           Mumbai  Economy      2.33          1   5953  \n",
       "2           Mumbai  Economy      2.17          1   5956  \n",
       "3           Mumbai  Economy      2.25          1   5955  \n",
       "4           Mumbai  Economy      2.33          1   5955  "
      ]
     },
     "execution_count": 2,
     "metadata": {},
     "output_type": "execute_result"
    }
   ],
   "source": [
    "import pandas as pd\n",
    "import numpy as np\n",
    "from sklearn.preprocessing import LabelEncoder\n",
    "#import datasets as Pandas dataframes\n",
    "#NOTE: the filepath may be different for each user\n",
    "main_dataset = pd.read_csv('Datasets/Clean_Dataset.csv')\n",
    "business_df = pd.read_csv('Datasets/business.csv')\n",
    "economy_df = pd.read_csv('Datasets/economy.csv')\n",
    "\n",
    "def strtonum(ele):\n",
    "    if ele == 'zero':\n",
    "        num = 0\n",
    "            \n",
    "    elif ele == 'one':\n",
    "        num = 1\n",
    "            \n",
    "    else:\n",
    "        num = 2\n",
    "            \n",
    "    return num\n",
    "\n",
    "main_dataset['stops'] = main_dataset['stops'].apply(strtonum)\n",
    "\n",
    "main_dataset = main_dataset.drop(columns = ['Unnamed: 0'])\n",
    "main_dataset.head()"
   ]
  },
  {
   "cell_type": "markdown",
   "metadata": {},
   "source": [
    "We further transform our data by encoding each of the categorical data strings as numbers for their respective variable, so that regression and other types of modeling can be done more easily. These are converted using LabelEncoder.\n",
    "\n",
    "For example, airline: 'SpiceJet' becomes airline 4. City 'Delhi' becomes city 2."
   ]
  },
  {
   "cell_type": "code",
   "execution_count": 3,
   "metadata": {},
   "outputs": [
    {
     "data": {
      "text/html": [
       "<div>\n",
       "<style scoped>\n",
       "    .dataframe tbody tr th:only-of-type {\n",
       "        vertical-align: middle;\n",
       "    }\n",
       "\n",
       "    .dataframe tbody tr th {\n",
       "        vertical-align: top;\n",
       "    }\n",
       "\n",
       "    .dataframe thead th {\n",
       "        text-align: right;\n",
       "    }\n",
       "</style>\n",
       "<table border=\"1\" class=\"dataframe\">\n",
       "  <thead>\n",
       "    <tr style=\"text-align: right;\">\n",
       "      <th></th>\n",
       "      <th>airline</th>\n",
       "      <th>source_city</th>\n",
       "      <th>departure_time</th>\n",
       "      <th>stops</th>\n",
       "      <th>arrival_time</th>\n",
       "      <th>destination_city</th>\n",
       "      <th>class</th>\n",
       "      <th>duration</th>\n",
       "      <th>days_left</th>\n",
       "      <th>price</th>\n",
       "    </tr>\n",
       "  </thead>\n",
       "  <tbody>\n",
       "    <tr>\n",
       "      <th>0</th>\n",
       "      <td>4</td>\n",
       "      <td>2</td>\n",
       "      <td>2</td>\n",
       "      <td>0</td>\n",
       "      <td>5</td>\n",
       "      <td>5</td>\n",
       "      <td>1</td>\n",
       "      <td>2.17</td>\n",
       "      <td>1</td>\n",
       "      <td>5953</td>\n",
       "    </tr>\n",
       "    <tr>\n",
       "      <th>1</th>\n",
       "      <td>4</td>\n",
       "      <td>2</td>\n",
       "      <td>1</td>\n",
       "      <td>0</td>\n",
       "      <td>4</td>\n",
       "      <td>5</td>\n",
       "      <td>1</td>\n",
       "      <td>2.33</td>\n",
       "      <td>1</td>\n",
       "      <td>5953</td>\n",
       "    </tr>\n",
       "    <tr>\n",
       "      <th>2</th>\n",
       "      <td>0</td>\n",
       "      <td>2</td>\n",
       "      <td>1</td>\n",
       "      <td>0</td>\n",
       "      <td>1</td>\n",
       "      <td>5</td>\n",
       "      <td>1</td>\n",
       "      <td>2.17</td>\n",
       "      <td>1</td>\n",
       "      <td>5956</td>\n",
       "    </tr>\n",
       "    <tr>\n",
       "      <th>3</th>\n",
       "      <td>5</td>\n",
       "      <td>2</td>\n",
       "      <td>4</td>\n",
       "      <td>0</td>\n",
       "      <td>0</td>\n",
       "      <td>5</td>\n",
       "      <td>1</td>\n",
       "      <td>2.25</td>\n",
       "      <td>1</td>\n",
       "      <td>5955</td>\n",
       "    </tr>\n",
       "    <tr>\n",
       "      <th>4</th>\n",
       "      <td>5</td>\n",
       "      <td>2</td>\n",
       "      <td>4</td>\n",
       "      <td>0</td>\n",
       "      <td>4</td>\n",
       "      <td>5</td>\n",
       "      <td>1</td>\n",
       "      <td>2.33</td>\n",
       "      <td>1</td>\n",
       "      <td>5955</td>\n",
       "    </tr>\n",
       "  </tbody>\n",
       "</table>\n",
       "</div>"
      ],
      "text/plain": [
       "   airline  source_city  departure_time  stops  arrival_time  \\\n",
       "0        4            2               2      0             5   \n",
       "1        4            2               1      0             4   \n",
       "2        0            2               1      0             1   \n",
       "3        5            2               4      0             0   \n",
       "4        5            2               4      0             4   \n",
       "\n",
       "   destination_city  class  duration  days_left  price  \n",
       "0                 5      1      2.17          1   5953  \n",
       "1                 5      1      2.33          1   5953  \n",
       "2                 5      1      2.17          1   5956  \n",
       "3                 5      1      2.25          1   5955  \n",
       "4                 5      1      2.33          1   5955  "
      ]
     },
     "execution_count": 3,
     "metadata": {},
     "output_type": "execute_result"
    }
   ],
   "source": [
    "encoder = LabelEncoder()\n",
    "data = main_dataset.drop(['flight'],axis=1)\n",
    "data['airline'] = encoder.fit_transform(data['airline'])\n",
    "data['source_city'] = encoder.fit_transform(data['source_city'])\n",
    "data['departure_time'] = encoder.fit_transform(data['departure_time'])\n",
    "data['arrival_time'] = encoder.fit_transform(data['arrival_time'])\n",
    "data['destination_city'] = encoder.fit_transform(data['destination_city'])\n",
    "data['class'] = encoder.fit_transform(data['class'])\n",
    "\n",
    "data.head()"
   ]
  },
  {
   "cell_type": "code",
   "execution_count": 4,
   "metadata": {},
   "outputs": [
    {
     "data": {
      "text/plain": [
       "array([4, 0, 5, 2, 3, 1])"
      ]
     },
     "execution_count": 4,
     "metadata": {},
     "output_type": "execute_result"
    }
   ],
   "source": [
    "data['airline'].unique()"
   ]
  },
  {
   "cell_type": "markdown",
   "metadata": {},
   "source": [
    "# Proposed Solution\n",
    "\n",
    "There is no true way to determine the best tradeoff between comfort, price, and time when it comes to flights. This is primarily due to the fact that individuals have different preferences, available time, amounts of money, etc. Thus, we opt for a solution that takes into account all of these variables, and more, to arrange groups of flights/tickets that have a broad appeal to different consumer groups. For example, we may group a set of flights that share characteristics of low price, medium-to-long flight time, and free luggage booking to cater to individuals who like to travel often and cheaply. We may group another set of flights based on quality of service and amount of reroutes to cater to individuals with greater amounts of money who prefer nice, one-and-done flights.\n",
    "\n",
    "Notably, while we have some broad ideas of consumer/ticket groups in mind (such as the examples described above), we aim to construct these groups analytically, with variable contents and cutoff (e.g. tickets underneath x price, trip has less than x connecting flights) determined by their relationship to other variables in this dataset. As of now, the best way we believe we can approach this is through Linear Regression. Not only can we use regression to find relationships between our variables, but we can use these relationships to construct ideal ticket categories that appeal to a broad range of people. The fit of the relationship between any two variables can be described by the R-squared metric.\n",
    "\n",
    "Once we have constructed these ticket categories, we will program a decision tree that classifies each flight by their assigned categories. This should give us a better idea of how each flight grouping is oriented in space (though we may have to resort to dimensionality-reducing methods such as PCA or scrap this visualization if the groups are too hyper-dimensional), and provide us with a simple-yet-effective set of criteria that allow us to arrive at any given group. In the real world, this might translate to a customer being offered a range of tickets that suit their preferences after answering a short list of questions. The shorter the list and the better the accuracy of each group, the better, which means we desire to make our tree as simple and accurate as possible. We plan to use K-means cross validation to ensure that our model is generalizable to any given portion of the dataset (since we likely do not have other datasets to work with, we can treat this set as 5-10 smaller datasets), and we are also considering comparing our performance to other decision tree models specified in lecture (assuming they are not copyrighted). plan to use GridSearchCV (or a related function, if there is a more applicable one) with a param grid to test how changing hyper-parameters and their parameters affects our tree.\n",
    "\n",
    "Additionally, we will try operationalizing the same idea listed above using random forests instead of decision trees. We will again use a parameter grid to select both parameters and hyperparameters for the model.\n",
    "\n",
    "All data cleaning, modeling, and visualization will likely be done using a combination of functions from the Pandas, NumPy, and Scikit-Learn libraries. We will create our own functions when needed and specify clearly which functions we use in our final project submission."
   ]
  },
  {
   "cell_type": "markdown",
   "metadata": {},
   "source": [
    "# Evaluation Metrics\n",
    "\n",
    "Since we are using a regression model to predict continuous data (price), our primary evaluation metric will be an R Square Score which indicates the percentage of variance in the dependent variable that is explained by the independent variables (i.e. how well the model fits our dependent variable (price)). It is a score between 0 and 1 where 1 indicates a perfect fit between predicted and actual values.\n",
    "\n",
    "$$\n",
    "R^2 = \\frac{Variance \\: explained \\: by \\: the \\: model}{Total \\: Variance} \\\\\n",
    "= 1 - \\frac{\\sum(y_i - \\hat y_i)^2}{\\sum(y_i - \\bar y)^2}\n",
    "$$\n",
    "\n",
    "The numerator contains the sum of the residuals squared and the denominator is the sum squared of the distance between the data and the mean.\n",
    "\n",
    "Since R Square does not account for the problem of overfitting, we will additionally look at Adjusted R Square which penalizes additional independent variables added to the model and adjusts the evaluation metric to account for overfitting. It is always less than or equal to the R Square score.\n",
    "\n",
    "$$\n",
    "R^2_{adj} = 1 - \\frac{(1-R^2)(n-1)}{n-k-1}\n",
    "$$\n",
    "\n",
    " N is the number of sample data points and k is the number of independent variables in the model.\n",
    "\n",
    "We will supplement our evaluation with Mean Absolute Error as another evaluation metric. This will help us understand how far off our price predictions are from the ground truth.\n",
    "\n",
    "$$\n",
    "MAE = \\frac{|(y_i - y_p)|}{n}\\\\\n",
    "y_i = actual \\: value\\\\\n",
    "y_p = predicted \\: value\\\\\n",
    "n = number \\: of \\: observations/rows\n",
    "$$"
   ]
  },
  {
   "cell_type": "markdown",
   "metadata": {},
   "source": [
    "# Results"
   ]
  },
  {
   "cell_type": "code",
   "execution_count": 5,
   "metadata": {},
   "outputs": [],
   "source": [
    "#Import Packages\n",
    "import matplotlib.pyplot as plt\n",
    "import seaborn as sns\n",
    "from sklearn.model_selection import cross_val_score, RepeatedKFold, GridSearchCV\n",
    "from sklearn.tree import DecisionTreeClassifier, DecisionTreeRegressor\n",
    "from sklearn import tree\n",
    "from sklearn.tree import export_text\n",
    "from sklearn import metrics\n",
    "from sklearn.metrics import mean_squared_error, mean_absolute_error\n",
    "from sklearn.ensemble import ExtraTreesRegressor\n",
    "from sklearn.preprocessing import LabelEncoder\n",
    "from sklearn.model_selection import train_test_split\n",
    "from sklearn.linear_model import LinearRegression"
   ]
  },
  {
   "cell_type": "markdown",
   "metadata": {
    "jp-MarkdownHeadingCollapsed": true,
    "tags": []
   },
   "source": [
    "## Linear Regression Exploration\n",
    "Since we're trying to predict a continuous variable, price, based on a set of different variables, we figure it is good to start with a relatively basic and interpretable type of model: Linear regression.\n",
    "\n",
    "Before trying to optimize our regression model, we measure performance across a generic linear regression model (SKlearn's LinearRegression() with no special parameters) applied to various transformations of our data. This includes looking at features just within one ticket class, or with the most salient features.\n",
    "\n",
    "The regression function derives its accuracy scores using the R^2 metric. Whenever an accuracy or .score function is called, the resulting proportion should always be an R^2 measurement."
   ]
  },
  {
   "cell_type": "code",
   "execution_count": 6,
   "metadata": {},
   "outputs": [],
   "source": [
    "from sklearn.model_selection import train_test_split\n",
    "from sklearn.linear_model import LinearRegression"
   ]
  },
  {
   "cell_type": "code",
   "execution_count": 7,
   "metadata": {},
   "outputs": [
    {
     "name": "stdout",
     "output_type": "stream",
     "text": [
      "(240122, 9) (240122,)\n"
     ]
    }
   ],
   "source": [
    "X = data.drop('price', axis=1)\n",
    "y = data['price']\n",
    "X_train, X_test, y_train, y_test = train_test_split(X, y, test_size = 0.20)\n",
    "print(X_train.shape, y_train.shape)"
   ]
  },
  {
   "cell_type": "markdown",
   "metadata": {},
   "source": [
    "__Basic Linear regression using subsets of all 9 features (see comments for details)__"
   ]
  },
  {
   "cell_type": "code",
   "execution_count": 8,
   "metadata": {},
   "outputs": [
    {
     "data": {
      "text/plain": [
       "0.9063015255369791"
      ]
     },
     "execution_count": 8,
     "metadata": {},
     "output_type": "execute_result"
    }
   ],
   "source": [
    "#using all features\n",
    "X_train, X_test, y_train, y_test = train_test_split(X, y, test_size = 0.20)\n",
    "reg = LinearRegression().fit(X_train, y_train)\n",
    "reg.score(X_train, y_train)"
   ]
  },
  {
   "cell_type": "code",
   "execution_count": 9,
   "metadata": {},
   "outputs": [
    {
     "data": {
      "text/plain": [
       "0.9059713500923537"
      ]
     },
     "execution_count": 9,
     "metadata": {},
     "output_type": "execute_result"
    }
   ],
   "source": [
    "#dropping the four least impactful features\n",
    "X1 = X.drop(['departure_time', 'arrival_time', 'destination_city', 'source_city'], axis=1)\n",
    "X1_train, X1_test, y_train, y_test = train_test_split(X1, y, test_size = 0.20)\n",
    "reg1 = LinearRegression().fit(X1_train, y_train)\n",
    "reg1.score(X1_train, y_train)"
   ]
  },
  {
   "cell_type": "code",
   "execution_count": 10,
   "metadata": {},
   "outputs": [
    {
     "data": {
      "text/plain": [
       "0.893899054784603"
      ]
     },
     "execution_count": 10,
     "metadata": {},
     "output_type": "execute_result"
    }
   ],
   "source": [
    "#using just 'duration,' 'stops,' and 'class.'\n",
    "X2 = X1.drop(['airline', 'days_left'], axis=1)\n",
    "X2_train, X2_test, y_train, y_test = train_test_split(X2, y, test_size = 0.20)\n",
    "reg1 = LinearRegression().fit(X2_train, y_train)\n",
    "reg1.score(X2_train, y_train)"
   ]
  },
  {
   "cell_type": "code",
   "execution_count": 11,
   "metadata": {},
   "outputs": [
    {
     "data": {
      "text/plain": [
       "0.8800897810189402"
      ]
     },
     "execution_count": 11,
     "metadata": {},
     "output_type": "execute_result"
    }
   ],
   "source": [
    "#using just 'class'\n",
    "X3 = X2.drop(['duration', 'stops'], axis=1)\n",
    "X3_train, X3_test, y_train, y_test = train_test_split(X3, y, test_size = 0.20)\n",
    "reg1 = LinearRegression().fit(X3_train, y_train)\n",
    "reg1.score(X3_train, y_train)"
   ]
  },
  {
   "cell_type": "markdown",
   "metadata": {},
   "source": [
    "__Regression within each 'class' of ticket__"
   ]
  },
  {
   "cell_type": "code",
   "execution_count": 12,
   "metadata": {},
   "outputs": [
    {
     "data": {
      "text/plain": [
       "array([1])"
      ]
     },
     "execution_count": 12,
     "metadata": {},
     "output_type": "execute_result"
    }
   ],
   "source": [
    "business_trees = data[data['class'] == 1]\n",
    "business_trees.get('class').unique()"
   ]
  },
  {
   "cell_type": "code",
   "execution_count": 13,
   "metadata": {},
   "outputs": [
    {
     "data": {
      "text/plain": [
       "0.4459486249946689"
      ]
     },
     "execution_count": 13,
     "metadata": {},
     "output_type": "execute_result"
    }
   ],
   "source": [
    "#Looking at all features within the the business class\n",
    "XB = business_trees.drop('price', axis=1)\n",
    "y = business_trees['price']\n",
    "XB_train, XB_test, y_train, y_test = train_test_split(XB, y, test_size = 0.20)\n",
    "reg1 = LinearRegression().fit(XB_train, y_train)\n",
    "reg1.score(XB_train, y_train)"
   ]
  },
  {
   "cell_type": "code",
   "execution_count": 14,
   "metadata": {},
   "outputs": [
    {
     "data": {
      "text/plain": [
       "array([0])"
      ]
     },
     "execution_count": 14,
     "metadata": {},
     "output_type": "execute_result"
    }
   ],
   "source": [
    "economy_trees = data[data['class'] == 0]\n",
    "economy_trees.get('class').unique()"
   ]
  },
  {
   "cell_type": "code",
   "execution_count": 15,
   "metadata": {},
   "outputs": [
    {
     "data": {
      "text/plain": [
       "0.45835131125460504"
      ]
     },
     "execution_count": 15,
     "metadata": {},
     "output_type": "execute_result"
    }
   ],
   "source": [
    "#Looking at all features within the the economy class\n",
    "XE = economy_trees.drop('price', axis=1)\n",
    "y = economy_trees['price']\n",
    "XE_train, XE_test, y_train, y_test = train_test_split(XE, y, test_size = 0.20)\n",
    "reg1 = LinearRegression().fit(XE_train, y_train)\n",
    "reg1.score(XE_train, y_train)"
   ]
  },
  {
   "cell_type": "markdown",
   "metadata": {},
   "source": [
    "### Optimizing Linear Regression\n",
    "\n",
    "These scores are ok, but we think they can be better. \n",
    "\n",
    "We now take a deeper dive into how we can properly use Regression to predict ticket prices.\n",
    "\n",
    "This involves using gridsearches to determine the best parameters (i.e. normalization vs. no normalization, and intercept vs. no intercept), as well as learning and validation curves as performance checks.\n",
    "\n",
    "We start with linear regression, and proceed down a few different avenues to see where the best performance lies; this includes within-class regression, regression with fewer features, and nonlinear regression.\n",
    "\n",
    "Finally, it is worth noting that in addition to the accuracy R^2 metric, we calculate root mean squared error and mean absolute error between our predicted and actual test prices."
   ]
  },
  {
   "cell_type": "code",
   "execution_count": 16,
   "metadata": {},
   "outputs": [],
   "source": [
    "from sklearn.model_selection import learning_curve"
   ]
  },
  {
   "cell_type": "code",
   "execution_count": 17,
   "metadata": {},
   "outputs": [
    {
     "name": "stdout",
     "output_type": "stream",
     "text": [
      "(240122, 9) (240122,)\n"
     ]
    }
   ],
   "source": [
    "X = data.drop('price', axis=1)\n",
    "y = data['price']\n",
    "X_train, X_test, y_train, y_test = train_test_split(X, y, test_size = 0.20)\n",
    "print(X_train.shape, y_train.shape)"
   ]
  },
  {
   "cell_type": "code",
   "execution_count": 18,
   "metadata": {},
   "outputs": [
    {
     "data": {
      "text/html": [
       "<div>\n",
       "<style scoped>\n",
       "    .dataframe tbody tr th:only-of-type {\n",
       "        vertical-align: middle;\n",
       "    }\n",
       "\n",
       "    .dataframe tbody tr th {\n",
       "        vertical-align: top;\n",
       "    }\n",
       "\n",
       "    .dataframe thead th {\n",
       "        text-align: right;\n",
       "    }\n",
       "</style>\n",
       "<table border=\"1\" class=\"dataframe\">\n",
       "  <thead>\n",
       "    <tr style=\"text-align: right;\">\n",
       "      <th></th>\n",
       "      <th>airline</th>\n",
       "      <th>source_city</th>\n",
       "      <th>departure_time</th>\n",
       "      <th>stops</th>\n",
       "      <th>arrival_time</th>\n",
       "      <th>destination_city</th>\n",
       "      <th>class</th>\n",
       "      <th>duration</th>\n",
       "      <th>days_left</th>\n",
       "    </tr>\n",
       "  </thead>\n",
       "  <tbody>\n",
       "    <tr>\n",
       "      <th>73993</th>\n",
       "      <td>2</td>\n",
       "      <td>5</td>\n",
       "      <td>1</td>\n",
       "      <td>1</td>\n",
       "      <td>0</td>\n",
       "      <td>3</td>\n",
       "      <td>1</td>\n",
       "      <td>9.50</td>\n",
       "      <td>27</td>\n",
       "    </tr>\n",
       "    <tr>\n",
       "      <th>290076</th>\n",
       "      <td>1</td>\n",
       "      <td>1</td>\n",
       "      <td>1</td>\n",
       "      <td>1</td>\n",
       "      <td>2</td>\n",
       "      <td>2</td>\n",
       "      <td>0</td>\n",
       "      <td>12.83</td>\n",
       "      <td>45</td>\n",
       "    </tr>\n",
       "    <tr>\n",
       "      <th>225030</th>\n",
       "      <td>1</td>\n",
       "      <td>5</td>\n",
       "      <td>1</td>\n",
       "      <td>1</td>\n",
       "      <td>3</td>\n",
       "      <td>2</td>\n",
       "      <td>0</td>\n",
       "      <td>17.08</td>\n",
       "      <td>2</td>\n",
       "    </tr>\n",
       "    <tr>\n",
       "      <th>254465</th>\n",
       "      <td>5</td>\n",
       "      <td>0</td>\n",
       "      <td>2</td>\n",
       "      <td>1</td>\n",
       "      <td>4</td>\n",
       "      <td>4</td>\n",
       "      <td>0</td>\n",
       "      <td>13.75</td>\n",
       "      <td>27</td>\n",
       "    </tr>\n",
       "    <tr>\n",
       "      <th>870</th>\n",
       "      <td>1</td>\n",
       "      <td>2</td>\n",
       "      <td>5</td>\n",
       "      <td>1</td>\n",
       "      <td>4</td>\n",
       "      <td>5</td>\n",
       "      <td>1</td>\n",
       "      <td>11.33</td>\n",
       "      <td>6</td>\n",
       "    </tr>\n",
       "  </tbody>\n",
       "</table>\n",
       "</div>"
      ],
      "text/plain": [
       "        airline  source_city  departure_time  stops  arrival_time  \\\n",
       "73993         2            5               1      1             0   \n",
       "290076        1            1               1      1             2   \n",
       "225030        1            5               1      1             3   \n",
       "254465        5            0               2      1             4   \n",
       "870           1            2               5      1             4   \n",
       "\n",
       "        destination_city  class  duration  days_left  \n",
       "73993                  3      1      9.50         27  \n",
       "290076                 2      0     12.83         45  \n",
       "225030                 2      0     17.08          2  \n",
       "254465                 4      0     13.75         27  \n",
       "870                    5      1     11.33          6  "
      ]
     },
     "execution_count": 18,
     "metadata": {},
     "output_type": "execute_result"
    }
   ],
   "source": [
    "X_test.head()"
   ]
  },
  {
   "cell_type": "markdown",
   "metadata": {},
   "source": [
    "We can include a __learning curve__ to check whether there is enough data to do train/validate/test split or whether we need to use other strategies such as K-Folds, LOOCV, etc"
   ]
  },
  {
   "cell_type": "code",
   "execution_count": 19,
   "metadata": {},
   "outputs": [],
   "source": [
    "# Obtain scores from learning curve function\n",
    "# cv is the number of folds while performing Cross Validation\n",
    "sizes, training_scores, testing_scores = learning_curve(LinearRegression(),\n",
    "                                                        X_train, y_train, cv = 5, scoring='neg_mean_squared_error')\n"
   ]
  },
  {
   "cell_type": "code",
   "execution_count": 20,
   "metadata": {},
   "outputs": [
    {
     "name": "stdout",
     "output_type": "stream",
     "text": [
      "Mean training scores\n",
      "\n",
      " 19209     4.820730e+07\n",
      "62431     4.812951e+07\n",
      "105653    4.835239e+07\n",
      "148875    4.807336e+07\n",
      "192097    4.808536e+07\n",
      "dtype: float64\n",
      "\n",
      " --------------------\n",
      "\n",
      "Mean validation scores\n",
      "\n",
      " 19209     4.811041e+07\n",
      "62431     4.809061e+07\n",
      "105653    4.809449e+07\n",
      "148875    4.809142e+07\n",
      "192097    4.809260e+07\n",
      "dtype: float64\n",
      "[ 19209  62431 105653 148875 192097]\n"
     ]
    }
   ],
   "source": [
    "train_scores_mean = -training_scores.mean(axis = 1)\n",
    "validation_scores_mean = -testing_scores.mean(axis = 1)\n",
    "print('Mean training scores\\n\\n', pd.Series(train_scores_mean, index = sizes))\n",
    "print('\\n', '-' * 20) # separator\n",
    "print('\\nMean validation scores\\n\\n',pd.Series(validation_scores_mean, index = sizes))\n",
    "\n",
    "print(sizes)"
   ]
  },
  {
   "cell_type": "code",
   "execution_count": 21,
   "metadata": {},
   "outputs": [
    {
     "data": {
      "text/plain": [
       "<matplotlib.legend.Legend at 0x1c680be4a08>"
      ]
     },
     "execution_count": 21,
     "metadata": {},
     "output_type": "execute_result"
    },
    {
     "data": {
      "image/png": "[encoded data removed]",
      "text/plain": [
       "<Figure size 432x288 with 1 Axes>"
      ]
     },
     "metadata": {
      "needs_background": "light"
     },
     "output_type": "display_data"
    }
   ],
   "source": [
    "plt.plot(sizes, train_scores_mean, label = 'Training error')\n",
    "plt.plot(sizes, validation_scores_mean, label = 'Validation error')\n",
    "plt.ylabel('MSE', fontsize = 14)\n",
    "plt.xlabel('Training set size', fontsize = 14)\n",
    "plt.title('Learning curves for a linear regression model', fontsize = 18, y = 1.03)\n",
    "plt.legend()"
   ]
  },
  {
   "cell_type": "markdown",
   "metadata": {},
   "source": [
    "- Validation error seems to stay consistent for all the training sizes\n",
    "- Training error increases as set size increases\n",
    "    - We're not sure why this is; our training set size is incredibly large - over 200,000 observations in most cases. There should certainly be enough data to reliably do train/validation/test splits."
   ]
  },
  {
   "cell_type": "markdown",
   "metadata": {},
   "source": [
    "### Model Selection"
   ]
  },
  {
   "cell_type": "markdown",
   "metadata": {},
   "source": [
    "#### Hyperparameter Tuning\n",
    "\n",
    "As mentioned above, we now tune hyperparameters for the linear regression model.\n",
    "\n",
    "This is another proof of concept: Since the general magnitude, mean, and variance of each variable vary quite significantly, the model should always be standardized. Additionally, in general, adding a constant (to adjust the y-intercept) helps the model. So we expect to see the best hyperparameters include a constant and normalize the data."
   ]
  },
  {
   "cell_type": "code",
   "execution_count": 22,
   "metadata": {},
   "outputs": [
    {
     "data": {
      "text/plain": [
       "GridSearchCV(cv=KFold(n_splits=5, random_state=None, shuffle=True),\n",
       "             error_score=nan,\n",
       "             estimator=LinearRegression(copy_X=True, fit_intercept=True,\n",
       "                                        n_jobs=None, normalize=False),\n",
       "             iid='deprecated', n_jobs=None,\n",
       "             param_grid={'fit_intercept': [True, False],\n",
       "                         'normalize': [True, False]},\n",
       "             pre_dispatch='2*n_jobs', refit=True, return_train_score=False,\n",
       "             scoring='r2', verbose=0)"
      ]
     },
     "execution_count": 22,
     "metadata": {},
     "output_type": "execute_result"
    }
   ],
   "source": [
    "from sklearn.model_selection import KFold, GridSearchCV\n",
    "kf = KFold(n_splits=5, shuffle=True)\n",
    "\n",
    "reg = LinearRegression()\n",
    "parameters = {\"normalize\":[True, False],\n",
    "              \"fit_intercept\": [True, False]\n",
    "             }\n",
    "\n",
    "grid = GridSearchCV(estimator=reg, param_grid = parameters, cv = kf, \n",
    "                    scoring='r2')\n",
    "grid.fit(X_train, y_train)"
   ]
  },
  {
   "cell_type": "code",
   "execution_count": 23,
   "metadata": {},
   "outputs": [
    {
     "data": {
      "text/html": [
       "<div>\n",
       "<style scoped>\n",
       "    .dataframe tbody tr th:only-of-type {\n",
       "        vertical-align: middle;\n",
       "    }\n",
       "\n",
       "    .dataframe tbody tr th {\n",
       "        vertical-align: top;\n",
       "    }\n",
       "\n",
       "    .dataframe thead th {\n",
       "        text-align: right;\n",
       "    }\n",
       "</style>\n",
       "<table border=\"1\" class=\"dataframe\">\n",
       "  <thead>\n",
       "    <tr style=\"text-align: right;\">\n",
       "      <th></th>\n",
       "      <th>mean_fit_time</th>\n",
       "      <th>std_fit_time</th>\n",
       "      <th>mean_score_time</th>\n",
       "      <th>std_score_time</th>\n",
       "      <th>param_fit_intercept</th>\n",
       "      <th>param_normalize</th>\n",
       "      <th>params</th>\n",
       "      <th>split0_test_score</th>\n",
       "      <th>split1_test_score</th>\n",
       "      <th>split2_test_score</th>\n",
       "      <th>split3_test_score</th>\n",
       "      <th>split4_test_score</th>\n",
       "      <th>mean_test_score</th>\n",
       "      <th>std_test_score</th>\n",
       "      <th>rank_test_score</th>\n",
       "    </tr>\n",
       "  </thead>\n",
       "  <tbody>\n",
       "    <tr>\n",
       "      <th>0</th>\n",
       "      <td>0.047273</td>\n",
       "      <td>0.002718</td>\n",
       "      <td>0.002992</td>\n",
       "      <td>3.234067e-07</td>\n",
       "      <td>True</td>\n",
       "      <td>True</td>\n",
       "      <td>{'fit_intercept': True, 'normalize': True}</td>\n",
       "      <td>0.905538</td>\n",
       "      <td>0.906879</td>\n",
       "      <td>0.907453</td>\n",
       "      <td>0.905420</td>\n",
       "      <td>0.907141</td>\n",
       "      <td>0.906486</td>\n",
       "      <td>0.000843</td>\n",
       "      <td>1</td>\n",
       "    </tr>\n",
       "    <tr>\n",
       "      <th>1</th>\n",
       "      <td>0.043695</td>\n",
       "      <td>0.003187</td>\n",
       "      <td>0.003189</td>\n",
       "      <td>4.001569e-04</td>\n",
       "      <td>True</td>\n",
       "      <td>False</td>\n",
       "      <td>{'fit_intercept': True, 'normalize': False}</td>\n",
       "      <td>0.905538</td>\n",
       "      <td>0.906879</td>\n",
       "      <td>0.907453</td>\n",
       "      <td>0.905420</td>\n",
       "      <td>0.907141</td>\n",
       "      <td>0.906486</td>\n",
       "      <td>0.000843</td>\n",
       "      <td>1</td>\n",
       "    </tr>\n",
       "    <tr>\n",
       "      <th>2</th>\n",
       "      <td>0.040487</td>\n",
       "      <td>0.002263</td>\n",
       "      <td>0.003394</td>\n",
       "      <td>4.917253e-04</td>\n",
       "      <td>False</td>\n",
       "      <td>True</td>\n",
       "      <td>{'fit_intercept': False, 'normalize': True}</td>\n",
       "      <td>0.773330</td>\n",
       "      <td>0.771172</td>\n",
       "      <td>0.773638</td>\n",
       "      <td>0.774856</td>\n",
       "      <td>0.772976</td>\n",
       "      <td>0.773194</td>\n",
       "      <td>0.001193</td>\n",
       "      <td>3</td>\n",
       "    </tr>\n",
       "    <tr>\n",
       "      <th>3</th>\n",
       "      <td>0.038894</td>\n",
       "      <td>0.001648</td>\n",
       "      <td>0.002792</td>\n",
       "      <td>7.455133e-04</td>\n",
       "      <td>False</td>\n",
       "      <td>False</td>\n",
       "      <td>{'fit_intercept': False, 'normalize': False}</td>\n",
       "      <td>0.773330</td>\n",
       "      <td>0.771172</td>\n",
       "      <td>0.773638</td>\n",
       "      <td>0.774856</td>\n",
       "      <td>0.772976</td>\n",
       "      <td>0.773194</td>\n",
       "      <td>0.001193</td>\n",
       "      <td>3</td>\n",
       "    </tr>\n",
       "  </tbody>\n",
       "</table>\n",
       "</div>"
      ],
      "text/plain": [
       "   mean_fit_time  std_fit_time  mean_score_time  std_score_time  \\\n",
       "0       0.047273      0.002718         0.002992    3.234067e-07   \n",
       "1       0.043695      0.003187         0.003189    4.001569e-04   \n",
       "2       0.040487      0.002263         0.003394    4.917253e-04   \n",
       "3       0.038894      0.001648         0.002792    7.455133e-04   \n",
       "\n",
       "  param_fit_intercept param_normalize  \\\n",
       "0                True            True   \n",
       "1                True           False   \n",
       "2               False            True   \n",
       "3               False           False   \n",
       "\n",
       "                                         params  split0_test_score  \\\n",
       "0    {'fit_intercept': True, 'normalize': True}           0.905538   \n",
       "1   {'fit_intercept': True, 'normalize': False}           0.905538   \n",
       "2   {'fit_intercept': False, 'normalize': True}           0.773330   \n",
       "3  {'fit_intercept': False, 'normalize': False}           0.773330   \n",
       "\n",
       "   split1_test_score  split2_test_score  split3_test_score  split4_test_score  \\\n",
       "0           0.906879           0.907453           0.905420           0.907141   \n",
       "1           0.906879           0.907453           0.905420           0.907141   \n",
       "2           0.771172           0.773638           0.774856           0.772976   \n",
       "3           0.771172           0.773638           0.774856           0.772976   \n",
       "\n",
       "   mean_test_score  std_test_score  rank_test_score  \n",
       "0         0.906486        0.000843                1  \n",
       "1         0.906486        0.000843                1  \n",
       "2         0.773194        0.001193                3  \n",
       "3         0.773194        0.001193                3  "
      ]
     },
     "execution_count": 23,
     "metadata": {},
     "output_type": "execute_result"
    }
   ],
   "source": [
    "pd.DataFrame(grid.cv_results_)"
   ]
  },
  {
   "cell_type": "code",
   "execution_count": 24,
   "metadata": {},
   "outputs": [
    {
     "name": "stdout",
     "output_type": "stream",
     "text": [
      "Best Score:  0.9064862817182655\n",
      "Best Params:  {'fit_intercept': True, 'normalize': True}\n"
     ]
    }
   ],
   "source": [
    "print(\"Best Score: \", grid.best_score_)\n",
    "print(\"Best Params: \", grid.best_params_)"
   ]
  },
  {
   "cell_type": "code",
   "execution_count": 25,
   "metadata": {},
   "outputs": [
    {
     "name": "stdout",
     "output_type": "stream",
     "text": [
      "Training score:  0.9065032069383963\n",
      "Testing score:  0.9058242331166518\n"
     ]
    }
   ],
   "source": [
    "reg_best = LinearRegression(fit_intercept= True, normalize= True).fit(X_train, y_train)\n",
    "print(\"Training score: \", reg_best.score(X_train, y_train))\n",
    "print(\"Testing score: \", reg_best.score(X_test, y_test))"
   ]
  },
  {
   "cell_type": "code",
   "execution_count": 26,
   "metadata": {},
   "outputs": [],
   "source": [
    "y_pred = reg_best.predict(X_test)"
   ]
  },
  {
   "cell_type": "code",
   "execution_count": 27,
   "metadata": {},
   "outputs": [
    {
     "name": "stdout",
     "output_type": "stream",
     "text": [
      "RMSE:  6989.144681760124\n",
      "MAE:  4553.541652821806\n"
     ]
    }
   ],
   "source": [
    "from sklearn.metrics import mean_squared_error, mean_absolute_error\n",
    "print(\"RMSE: \", np.sqrt(mean_squared_error(y_test, y_pred)))\n",
    "print(\"MAE: \", mean_absolute_error(y_test, y_pred))"
   ]
  },
  {
   "cell_type": "markdown",
   "metadata": {},
   "source": [
    "__We indeed find that the best estimator is the one which normalizes data and fits using an intercept.__"
   ]
  },
  {
   "cell_type": "markdown",
   "metadata": {},
   "source": [
    "#### Algorithm Selection: varying the degree of polynomial regression\n",
    "Now we move on from linear regression, and try nonlinear regression. We can once again use gridsearch to loop through hyperparameters: this time, we alter the degree of polynomial used in the regression.\n",
    "\n",
    "It is worth noting that the SKlearn PolynomialFeatures function applies the polynomial features to existing data - in this case, our linear model. Since we found that our best linear model used and intercept and normalized data, we use the same options for our linear model in this section. Since we normalize using the LinearRegression setting, we do not include StandardScaler in the pipeline."
   ]
  },
  {
   "cell_type": "code",
   "execution_count": 28,
   "metadata": {},
   "outputs": [],
   "source": [
    "from sklearn.pipeline import Pipeline\n",
    "from sklearn.preprocessing import PolynomialFeatures"
   ]
  },
  {
   "cell_type": "code",
   "execution_count": 29,
   "metadata": {},
   "outputs": [
    {
     "name": "stdout",
     "output_type": "stream",
     "text": [
      "Fitting 5 folds for each of 5 candidates, totalling 25 fits\n",
      "[CV] poly__degree=1 ..................................................\n",
      "[CV] ................................... poly__degree=1, total=   0.1s\n",
      "[CV] poly__degree=1 ..................................................\n",
      "[CV] ................................... poly__degree=1, total=   0.1s\n",
      "[CV] poly__degree=1 .................................................."
     ]
    },
    {
     "name": "stderr",
     "output_type": "stream",
     "text": [
      "[Parallel(n_jobs=1)]: Using backend SequentialBackend with 1 concurrent workers.\n",
      "[Parallel(n_jobs=1)]: Done   1 out of   1 | elapsed:    0.0s remaining:    0.0s\n"
     ]
    },
    {
     "name": "stdout",
     "output_type": "stream",
     "text": [
      "\n",
      "[CV] ................................... poly__degree=1, total=   0.1s\n",
      "[CV] poly__degree=1 ..................................................\n",
      "[CV] ................................... poly__degree=1, total=   0.1s\n",
      "[CV] poly__degree=1 ..................................................\n",
      "[CV] ................................... poly__degree=1, total=   0.1s\n",
      "[CV] poly__degree=2 ..................................................\n",
      "[CV] ................................... poly__degree=2, total=   0.5s\n",
      "[CV] poly__degree=2 ..................................................\n",
      "[CV] ................................... poly__degree=2, total=   0.5s\n",
      "[CV] poly__degree=2 ..................................................\n",
      "[CV] ................................... poly__degree=2, total=   0.5s\n",
      "[CV] poly__degree=2 ..................................................\n",
      "[CV] ................................... poly__degree=2, total=   0.5s\n",
      "[CV] poly__degree=2 ..................................................\n",
      "[CV] ................................... poly__degree=2, total=   0.5s\n",
      "[CV] poly__degree=3 ..................................................\n",
      "[CV] ................................... poly__degree=3, total=   2.4s\n",
      "[CV] poly__degree=3 ..................................................\n",
      "[CV] ................................... poly__degree=3, total=   2.3s\n",
      "[CV] poly__degree=3 ..................................................\n",
      "[CV] ................................... poly__degree=3, total=   2.3s\n",
      "[CV] poly__degree=3 ..................................................\n",
      "[CV] ................................... poly__degree=3, total=   2.3s\n",
      "[CV] poly__degree=3 ..................................................\n",
      "[CV] ................................... poly__degree=3, total=   2.3s\n",
      "[CV] poly__degree=4 ..................................................\n",
      "[CV] ................................... poly__degree=4, total=   8.8s\n",
      "[CV] poly__degree=4 ..................................................\n",
      "[CV] ................................... poly__degree=4, total=   8.7s\n",
      "[CV] poly__degree=4 ..................................................\n",
      "[CV] ................................... poly__degree=4, total=   8.5s\n",
      "[CV] poly__degree=4 ..................................................\n",
      "[CV] ................................... poly__degree=4, total=   8.6s\n",
      "[CV] poly__degree=4 ..................................................\n",
      "[CV] ................................... poly__degree=4, total=  10.6s\n",
      "[CV] poly__degree=5 ..................................................\n",
      "[CV] ................................... poly__degree=5, total=  37.5s\n",
      "[CV] poly__degree=5 ..................................................\n",
      "[CV] ................................... poly__degree=5, total=  32.6s\n",
      "[CV] poly__degree=5 ..................................................\n",
      "[CV] ................................... poly__degree=5, total=  32.4s\n",
      "[CV] poly__degree=5 ..................................................\n",
      "[CV] ................................... poly__degree=5, total=  32.1s\n",
      "[CV] poly__degree=5 ..................................................\n",
      "[CV] ................................... poly__degree=5, total=  32.8s\n"
     ]
    },
    {
     "name": "stderr",
     "output_type": "stream",
     "text": [
      "[Parallel(n_jobs=1)]: Done  25 out of  25 | elapsed:  3.8min finished\n"
     ]
    },
    {
     "data": {
      "text/plain": [
       "GridSearchCV(cv=KFold(n_splits=5, random_state=None, shuffle=True),\n",
       "             error_score=nan,\n",
       "             estimator=Pipeline(memory=None,\n",
       "                                steps=[('poly',\n",
       "                                        PolynomialFeatures(degree=2,\n",
       "                                                           include_bias=True,\n",
       "                                                           interaction_only=False,\n",
       "                                                           order='C')),\n",
       "                                       ('model',\n",
       "                                        LinearRegression(copy_X=True,\n",
       "                                                         fit_intercept=True,\n",
       "                                                         n_jobs=None,\n",
       "                                                         normalize=True))],\n",
       "                                verbose=False),\n",
       "             iid='deprecated', n_jobs=None,\n",
       "             param_grid={'poly__degree': [1, 2, 3, 4, 5]},\n",
       "             pre_dispatch='2*n_jobs', refit=True, return_train_score=False,\n",
       "             scoring='r2', verbose=2)"
      ]
     },
     "execution_count": 29,
     "metadata": {},
     "output_type": "execute_result"
    }
   ],
   "source": [
    "pipe = Pipeline(steps=[\n",
    "    ('poly', PolynomialFeatures(include_bias=True)),\n",
    "    ('model', LinearRegression(fit_intercept= True, normalize= True)),])\n",
    "\n",
    "poly_search = GridSearchCV(\n",
    "    estimator=pipe,\n",
    "    param_grid={'poly__degree': [1,2,3,4,5]},\n",
    "    scoring='r2', verbose = 2,\n",
    "    cv=kf\n",
    ")\n",
    "poly_search.fit(X_train, y_train)"
   ]
  },
  {
   "cell_type": "code",
   "execution_count": 30,
   "metadata": {},
   "outputs": [
    {
     "data": {
      "text/html": [
       "<div>\n",
       "<style scoped>\n",
       "    .dataframe tbody tr th:only-of-type {\n",
       "        vertical-align: middle;\n",
       "    }\n",
       "\n",
       "    .dataframe tbody tr th {\n",
       "        vertical-align: top;\n",
       "    }\n",
       "\n",
       "    .dataframe thead th {\n",
       "        text-align: right;\n",
       "    }\n",
       "</style>\n",
       "<table border=\"1\" class=\"dataframe\">\n",
       "  <thead>\n",
       "    <tr style=\"text-align: right;\">\n",
       "      <th></th>\n",
       "      <th>mean_fit_time</th>\n",
       "      <th>std_fit_time</th>\n",
       "      <th>mean_score_time</th>\n",
       "      <th>std_score_time</th>\n",
       "      <th>param_poly__degree</th>\n",
       "      <th>params</th>\n",
       "      <th>split0_test_score</th>\n",
       "      <th>split1_test_score</th>\n",
       "      <th>split2_test_score</th>\n",
       "      <th>split3_test_score</th>\n",
       "      <th>split4_test_score</th>\n",
       "      <th>mean_test_score</th>\n",
       "      <th>std_test_score</th>\n",
       "      <th>rank_test_score</th>\n",
       "    </tr>\n",
       "  </thead>\n",
       "  <tbody>\n",
       "    <tr>\n",
       "      <th>0</th>\n",
       "      <td>0.081621</td>\n",
       "      <td>0.009038</td>\n",
       "      <td>0.004967</td>\n",
       "      <td>0.000627</td>\n",
       "      <td>1</td>\n",
       "      <td>{'poly__degree': 1}</td>\n",
       "      <td>0.906473</td>\n",
       "      <td>0.905612</td>\n",
       "      <td>0.907121</td>\n",
       "      <td>0.907439</td>\n",
       "      <td>0.905820</td>\n",
       "      <td>0.906493</td>\n",
       "      <td>0.000710</td>\n",
       "      <td>5</td>\n",
       "    </tr>\n",
       "    <tr>\n",
       "      <th>1</th>\n",
       "      <td>0.458368</td>\n",
       "      <td>0.006615</td>\n",
       "      <td>0.028524</td>\n",
       "      <td>0.002046</td>\n",
       "      <td>2</td>\n",
       "      <td>{'poly__degree': 2}</td>\n",
       "      <td>0.940360</td>\n",
       "      <td>0.939218</td>\n",
       "      <td>0.939609</td>\n",
       "      <td>0.940559</td>\n",
       "      <td>0.939882</td>\n",
       "      <td>0.939925</td>\n",
       "      <td>0.000489</td>\n",
       "      <td>4</td>\n",
       "    </tr>\n",
       "    <tr>\n",
       "      <th>2</th>\n",
       "      <td>2.220408</td>\n",
       "      <td>0.047967</td>\n",
       "      <td>0.106316</td>\n",
       "      <td>0.007479</td>\n",
       "      <td>3</td>\n",
       "      <td>{'poly__degree': 3}</td>\n",
       "      <td>0.948001</td>\n",
       "      <td>0.946790</td>\n",
       "      <td>0.947437</td>\n",
       "      <td>0.948136</td>\n",
       "      <td>0.947594</td>\n",
       "      <td>0.947592</td>\n",
       "      <td>0.000475</td>\n",
       "      <td>3</td>\n",
       "    </tr>\n",
       "    <tr>\n",
       "      <th>3</th>\n",
       "      <td>8.736054</td>\n",
       "      <td>0.756643</td>\n",
       "      <td>0.296193</td>\n",
       "      <td>0.020481</td>\n",
       "      <td>4</td>\n",
       "      <td>{'poly__degree': 4}</td>\n",
       "      <td>0.954087</td>\n",
       "      <td>0.952742</td>\n",
       "      <td>0.953455</td>\n",
       "      <td>0.954168</td>\n",
       "      <td>0.953705</td>\n",
       "      <td>0.953631</td>\n",
       "      <td>0.000514</td>\n",
       "      <td>2</td>\n",
       "    </tr>\n",
       "    <tr>\n",
       "      <th>4</th>\n",
       "      <td>32.729156</td>\n",
       "      <td>2.039578</td>\n",
       "      <td>0.756343</td>\n",
       "      <td>0.043463</td>\n",
       "      <td>5</td>\n",
       "      <td>{'poly__degree': 5}</td>\n",
       "      <td>0.960230</td>\n",
       "      <td>0.958797</td>\n",
       "      <td>0.959854</td>\n",
       "      <td>0.960658</td>\n",
       "      <td>0.960118</td>\n",
       "      <td>0.959931</td>\n",
       "      <td>0.000624</td>\n",
       "      <td>1</td>\n",
       "    </tr>\n",
       "  </tbody>\n",
       "</table>\n",
       "</div>"
      ],
      "text/plain": [
       "   mean_fit_time  std_fit_time  mean_score_time  std_score_time  \\\n",
       "0       0.081621      0.009038         0.004967        0.000627   \n",
       "1       0.458368      0.006615         0.028524        0.002046   \n",
       "2       2.220408      0.047967         0.106316        0.007479   \n",
       "3       8.736054      0.756643         0.296193        0.020481   \n",
       "4      32.729156      2.039578         0.756343        0.043463   \n",
       "\n",
       "  param_poly__degree               params  split0_test_score  \\\n",
       "0                  1  {'poly__degree': 1}           0.906473   \n",
       "1                  2  {'poly__degree': 2}           0.940360   \n",
       "2                  3  {'poly__degree': 3}           0.948001   \n",
       "3                  4  {'poly__degree': 4}           0.954087   \n",
       "4                  5  {'poly__degree': 5}           0.960230   \n",
       "\n",
       "   split1_test_score  split2_test_score  split3_test_score  split4_test_score  \\\n",
       "0           0.905612           0.907121           0.907439           0.905820   \n",
       "1           0.939218           0.939609           0.940559           0.939882   \n",
       "2           0.946790           0.947437           0.948136           0.947594   \n",
       "3           0.952742           0.953455           0.954168           0.953705   \n",
       "4           0.958797           0.959854           0.960658           0.960118   \n",
       "\n",
       "   mean_test_score  std_test_score  rank_test_score  \n",
       "0         0.906493        0.000710                5  \n",
       "1         0.939925        0.000489                4  \n",
       "2         0.947592        0.000475                3  \n",
       "3         0.953631        0.000514                2  \n",
       "4         0.959931        0.000624                1  "
      ]
     },
     "execution_count": 30,
     "metadata": {},
     "output_type": "execute_result"
    }
   ],
   "source": [
    "pd.DataFrame(poly_search.cv_results_)"
   ]
  },
  {
   "cell_type": "code",
   "execution_count": 31,
   "metadata": {},
   "outputs": [
    {
     "name": "stdout",
     "output_type": "stream",
     "text": [
      "Best Score:  0.9599314919804863\n",
      "Best Params:  {'poly__degree': 5}\n"
     ]
    }
   ],
   "source": [
    "print(\"Best Score: \", poly_search.best_score_)\n",
    "print(\"Best Params: \", poly_search.best_params_)"
   ]
  },
  {
   "cell_type": "code",
   "execution_count": 32,
   "metadata": {},
   "outputs": [
    {
     "name": "stdout",
     "output_type": "stream",
     "text": [
      "Training score:  0.9607421587676915\n",
      "Testing score:  0.9597589139355108\n"
     ]
    }
   ],
   "source": [
    "poly_best = poly_search.best_estimator_.fit(X_train,y_train)\n",
    "print(\"Training score: \", poly_best.score(X_train, y_train))\n",
    "print(\"Testing score: \", poly_best.score(X_test, y_test))"
   ]
  },
  {
   "cell_type": "code",
   "execution_count": 33,
   "metadata": {},
   "outputs": [
    {
     "name": "stdout",
     "output_type": "stream",
     "text": [
      "RMSE:  4568.6647950230235\n",
      "MAE:  2761.605044685246\n"
     ]
    }
   ],
   "source": [
    "y_pred = poly_best.predict(X_test)\n",
    "print(\"RMSE: \", np.sqrt(mean_squared_error(y_test, y_pred)))\n",
    "print(\"MAE: \", mean_absolute_error(y_test, y_pred))"
   ]
  },
  {
   "cell_type": "markdown",
   "metadata": {},
   "source": [
    "__Polynomial Degree 5 seems to have the best score, but is this the result of overfitting? To check, we generate a validation curve comparing degrees of fit over the entire dataset.__"
   ]
  },
  {
   "cell_type": "code",
   "execution_count": 34,
   "metadata": {},
   "outputs": [],
   "source": [
    "from sklearn.model_selection import validation_curve\n",
    "degrees = np.arange(1, 5)\n",
    "model = Pipeline(steps=[\n",
    "    ('poly', PolynomialFeatures(include_bias=True)),\n",
    "    ('model', LinearRegression(fit_intercept= True, normalize= True)),])"
   ]
  },
  {
   "cell_type": "code",
   "execution_count": 35,
   "metadata": {},
   "outputs": [
    {
     "name": "stderr",
     "output_type": "stream",
     "text": [
      "[Parallel(n_jobs=1)]: Using backend SequentialBackend with 1 concurrent workers.\n",
      "[Parallel(n_jobs=1)]: Done   1 out of   1 | elapsed:    0.1s remaining:    0.0s\n"
     ]
    },
    {
     "name": "stdout",
     "output_type": "stream",
     "text": [
      "[CV] poly__degree=1 ..................................................\n",
      "[CV] ................................... poly__degree=1, total=   0.1s\n",
      "[CV] poly__degree=2 ..................................................\n",
      "[CV] ................................... poly__degree=2, total=   0.6s\n",
      "[CV] poly__degree=3 ..................................................\n",
      "[CV] ................................... poly__degree=3, total=   2.7s\n",
      "[CV] poly__degree=4 ..................................................\n",
      "[CV] ................................... poly__degree=4, total=  10.4s\n",
      "[CV] poly__degree=1 ..................................................\n",
      "[CV] ................................... poly__degree=1, total=   0.1s\n",
      "[CV] poly__degree=2 ..................................................\n",
      "[CV] ................................... poly__degree=2, total=   0.5s\n",
      "[CV] poly__degree=3 ..................................................\n",
      "[CV] ................................... poly__degree=3, total=   2.6s\n",
      "[CV] poly__degree=4 ..................................................\n",
      "[CV] ................................... poly__degree=4, total=  10.3s\n",
      "[CV] poly__degree=1 ..................................................\n",
      "[CV] ................................... poly__degree=1, total=   0.1s\n",
      "[CV] poly__degree=2 ..................................................\n",
      "[CV] ................................... poly__degree=2, total=   0.5s\n",
      "[CV] poly__degree=3 ..................................................\n",
      "[CV] ................................... poly__degree=3, total=   2.7s\n",
      "[CV] poly__degree=4 ..................................................\n",
      "[CV] ................................... poly__degree=4, total=  10.3s\n",
      "[CV] poly__degree=1 ..................................................\n",
      "[CV] ................................... poly__degree=1, total=   0.1s\n",
      "[CV] poly__degree=2 ..................................................\n",
      "[CV] ................................... poly__degree=2, total=   0.6s\n",
      "[CV] poly__degree=3 ..................................................\n",
      "[CV] ................................... poly__degree=3, total=   2.6s\n",
      "[CV] poly__degree=4 ..................................................\n",
      "[CV] ................................... poly__degree=4, total=  10.3s\n",
      "[CV] poly__degree=1 ..................................................\n",
      "[CV] ................................... poly__degree=1, total=   0.1s\n",
      "[CV] poly__degree=2 ..................................................\n",
      "[CV] ................................... poly__degree=2, total=   0.5s\n",
      "[CV] poly__degree=3 ..................................................\n",
      "[CV] ................................... poly__degree=3, total=   2.6s\n",
      "[CV] poly__degree=4 ..................................................\n",
      "[CV] ................................... poly__degree=4, total=  10.4s\n"
     ]
    },
    {
     "name": "stderr",
     "output_type": "stream",
     "text": [
      "[Parallel(n_jobs=1)]: Done  20 out of  20 | elapsed:  1.3min finished\n"
     ]
    }
   ],
   "source": [
    "train_scores, validation_scores = validation_curve(\n",
    "                 model, X, y,\n",
    "                 param_name='poly__degree',\n",
    "                 param_range=degrees, verbose = 2)"
   ]
  },
  {
   "cell_type": "code",
   "execution_count": 36,
   "metadata": {},
   "outputs": [
    {
     "data": {
      "text/plain": [
       "(array([[0.90080151, 0.90124967, 0.90156539, 0.91799955, 0.89291134],\n",
       "        [0.93564115, 0.93630923, 0.93632712, 0.94466554, 0.93905773],\n",
       "        [0.94379882, 0.94425935, 0.94433277, 0.9529013 , 0.94735922],\n",
       "        [0.95148169, 0.95202728, 0.95204402, 0.95911411, 0.95786459]]),\n",
       " array([[-1.43023956e-01, -1.25270974e-01, -1.17464736e-01,\n",
       "          8.40537017e-01,  8.42682075e-02],\n",
       "        [ 4.18911847e-01,  2.33251608e-01,  3.90531716e-01,\n",
       "          9.06645190e-01,  3.04864819e-01],\n",
       "        [ 5.13196347e-01,  2.78414354e-01,  4.89546694e-01,\n",
       "          9.09493764e-01, -1.08531823e+21],\n",
       "        [ 1.56964452e-01, -8.74540069e+00, -2.38287432e+00,\n",
       "          8.97531868e-01, -1.12430578e+20]]))"
      ]
     },
     "execution_count": 36,
     "metadata": {},
     "output_type": "execute_result"
    }
   ],
   "source": [
    "train_scores, validation_scores"
   ]
  },
  {
   "cell_type": "code",
   "execution_count": 37,
   "metadata": {},
   "outputs": [
    {
     "data": {
      "image/png": "[encoded data removed]",
      "text/plain": [
       "<Figure size 432x288 with 1 Axes>"
      ]
     },
     "metadata": {
      "needs_background": "light"
     },
     "output_type": "display_data"
    }
   ],
   "source": [
    "plt.figure(figsize=(6, 4))\n",
    "plt.plot(degrees, validation_scores.mean(axis=1),\n",
    "         label='cross-validation')\n",
    "plt.plot(degrees, train_scores.mean(axis=1), label='training')\n",
    "\n",
    "plt.legend(loc='best')\n",
    "plt.xlabel('degree of fit')\n",
    "plt.ylabel('explained variance')\n",
    "plt.title('Validation curve')\n",
    "plt.tight_layout()"
   ]
  },
  {
   "cell_type": "markdown",
   "metadata": {},
   "source": [
    "- We see that training score is consistently high throughout the degrees of fit. We assume this is due to the high training size for our data\n",
    "- Cross validation scores remain similarly high up until degree 2, and then decrease rapidly.\n",
    "    - This suggests that using a polynomial regression of degree 5 may indeed cause overfitting to the training data. We should use degree one or two instead."
   ]
  },
  {
   "cell_type": "code",
   "execution_count": 38,
   "metadata": {},
   "outputs": [
    {
     "data": {
      "text/plain": [
       "array([ 1.07809112e-01,  4.50841036e-01, -2.17063646e+20, -2.24861155e+19])"
      ]
     },
     "execution_count": 38,
     "metadata": {},
     "output_type": "execute_result"
    }
   ],
   "source": [
    "validation_scores.mean(axis=1)"
   ]
  },
  {
   "cell_type": "code",
   "execution_count": 39,
   "metadata": {},
   "outputs": [
    {
     "data": {
      "text/plain": [
       "array([-48207302.28404972, -48129510.61593349, -48352385.54530077,\n",
       "       -48073364.19526364, -48085357.71999982])"
      ]
     },
     "execution_count": 39,
     "metadata": {},
     "output_type": "execute_result"
    }
   ],
   "source": [
    "training_scores.mean(axis=1)"
   ]
  },
  {
   "cell_type": "code",
   "execution_count": 40,
   "metadata": {},
   "outputs": [
    {
     "data": {
      "text/plain": [
       "1"
      ]
     },
     "execution_count": 40,
     "metadata": {},
     "output_type": "execute_result"
    }
   ],
   "source": [
    "np.argmax(validation_scores.mean(axis=1))"
   ]
  },
  {
   "cell_type": "markdown",
   "metadata": {},
   "source": [
    "__We quickly test the performance of a degree 2 polynomial model:__"
   ]
  },
  {
   "cell_type": "code",
   "execution_count": 41,
   "metadata": {},
   "outputs": [
    {
     "name": "stdout",
     "output_type": "stream",
     "text": [
      "Training score:  0.9399624790123804\n",
      "Testing score:  0.9395685092564328\n"
     ]
    }
   ],
   "source": [
    "model = Pipeline(steps=[\n",
    "    ('poly', PolynomialFeatures(degree = 2, include_bias=False)),\n",
    "    ('model', LinearRegression(fit_intercept= True, normalize= True)),])\n",
    "model.fit(X_train, y_train)\n",
    "print(\"Training score: \", model.score(X_train, y_train))\n",
    "print(\"Testing score: \",model.score(X_test, y_test))"
   ]
  },
  {
   "cell_type": "code",
   "execution_count": 42,
   "metadata": {},
   "outputs": [],
   "source": [
    "y_pred = model.predict(X_test)"
   ]
  },
  {
   "cell_type": "code",
   "execution_count": 43,
   "metadata": {},
   "outputs": [
    {
     "name": "stdout",
     "output_type": "stream",
     "text": [
      "RMSE:  5598.685884805855\n",
      "MAE:  3508.95817026931\n"
     ]
    }
   ],
   "source": [
    "print(\"RMSE: \", np.sqrt(mean_squared_error(y_test, y_pred)))\n",
    "print(\"MAE: \", mean_absolute_error(y_test, y_pred))"
   ]
  },
  {
   "cell_type": "markdown",
   "metadata": {},
   "source": [
    "We find higher RMSE and MAE using this model than we do with the degree 5 model, however it is likely that this model is more interpretable, as it is a lower power. This is an interesting tradeoff (though for raw power, one might still consider using the degree 5 polynomial."
   ]
  },
  {
   "cell_type": "markdown",
   "metadata": {},
   "source": [
    "### Other regression variations\n",
    "While polynomial regression seems to capture the true trend of prices a bit better, we still have extremely high error. This may be due to the overwhelming reflection of ticket classes (of which there are only 2) on price."
   ]
  },
  {
   "cell_type": "markdown",
   "metadata": {},
   "source": [
    "Recall the plot that displays variable importance, created in EDA. It found that class accounted for about 90% of the variation in price. This dwarfs other variables."
   ]
  },
  {
   "cell_type": "markdown",
   "metadata": {},
   "source": [
    "The validation curve we created above shows us that training error is lowest when the regression degree is 1 or 2. Our guess is that because ticket class has such a high contribution to ticket price that the regression uses class almost entirely. Class is nothing more than an indicator variable (taking only 0 or 1), and in this case, regression would simply be y=b if class 0, y = b + m if class 1, with a few extra subtle predictors using the remaining variables. This is little more than basic classification; in fact, price and duration, stops, etc. are linearly separable with respect to ticket class labels.\n",
    "\n",
    "Clearly, this is not what we want, though. Being able to classify ticket class based on price and any other feature is cool but relatively useless - price is what is most cared about."
   ]
  },
  {
   "cell_type": "code",
   "execution_count": 44,
   "metadata": {},
   "outputs": [],
   "source": [
    "pd.DataFrame(y_test)\n",
    "combined_test = X_test\n",
    "combined_test.insert(0, 'price', y_test)"
   ]
  },
  {
   "cell_type": "code",
   "execution_count": 45,
   "metadata": {},
   "outputs": [
    {
     "data": {
      "text/html": [
       "<div>\n",
       "<style scoped>\n",
       "    .dataframe tbody tr th:only-of-type {\n",
       "        vertical-align: middle;\n",
       "    }\n",
       "\n",
       "    .dataframe tbody tr th {\n",
       "        vertical-align: top;\n",
       "    }\n",
       "\n",
       "    .dataframe thead th {\n",
       "        text-align: right;\n",
       "    }\n",
       "</style>\n",
       "<table border=\"1\" class=\"dataframe\">\n",
       "  <thead>\n",
       "    <tr style=\"text-align: right;\">\n",
       "      <th></th>\n",
       "      <th>price</th>\n",
       "      <th>airline</th>\n",
       "      <th>source_city</th>\n",
       "      <th>departure_time</th>\n",
       "      <th>stops</th>\n",
       "      <th>arrival_time</th>\n",
       "      <th>destination_city</th>\n",
       "      <th>class</th>\n",
       "      <th>duration</th>\n",
       "      <th>days_left</th>\n",
       "    </tr>\n",
       "  </thead>\n",
       "  <tbody>\n",
       "    <tr>\n",
       "      <th>73993</th>\n",
       "      <td>4262</td>\n",
       "      <td>2</td>\n",
       "      <td>5</td>\n",
       "      <td>1</td>\n",
       "      <td>1</td>\n",
       "      <td>0</td>\n",
       "      <td>3</td>\n",
       "      <td>1</td>\n",
       "      <td>9.50</td>\n",
       "      <td>27</td>\n",
       "    </tr>\n",
       "    <tr>\n",
       "      <th>290076</th>\n",
       "      <td>45185</td>\n",
       "      <td>1</td>\n",
       "      <td>1</td>\n",
       "      <td>1</td>\n",
       "      <td>1</td>\n",
       "      <td>2</td>\n",
       "      <td>2</td>\n",
       "      <td>0</td>\n",
       "      <td>12.83</td>\n",
       "      <td>45</td>\n",
       "    </tr>\n",
       "    <tr>\n",
       "      <th>225030</th>\n",
       "      <td>46720</td>\n",
       "      <td>1</td>\n",
       "      <td>5</td>\n",
       "      <td>1</td>\n",
       "      <td>1</td>\n",
       "      <td>3</td>\n",
       "      <td>2</td>\n",
       "      <td>0</td>\n",
       "      <td>17.08</td>\n",
       "      <td>2</td>\n",
       "    </tr>\n",
       "    <tr>\n",
       "      <th>254465</th>\n",
       "      <td>51817</td>\n",
       "      <td>5</td>\n",
       "      <td>0</td>\n",
       "      <td>2</td>\n",
       "      <td>1</td>\n",
       "      <td>4</td>\n",
       "      <td>4</td>\n",
       "      <td>0</td>\n",
       "      <td>13.75</td>\n",
       "      <td>27</td>\n",
       "    </tr>\n",
       "    <tr>\n",
       "      <th>870</th>\n",
       "      <td>12150</td>\n",
       "      <td>1</td>\n",
       "      <td>2</td>\n",
       "      <td>5</td>\n",
       "      <td>1</td>\n",
       "      <td>4</td>\n",
       "      <td>5</td>\n",
       "      <td>1</td>\n",
       "      <td>11.33</td>\n",
       "      <td>6</td>\n",
       "    </tr>\n",
       "  </tbody>\n",
       "</table>\n",
       "</div>"
      ],
      "text/plain": [
       "        price  airline  source_city  departure_time  stops  arrival_time  \\\n",
       "73993    4262        2            5               1      1             0   \n",
       "290076  45185        1            1               1      1             2   \n",
       "225030  46720        1            5               1      1             3   \n",
       "254465  51817        5            0               2      1             4   \n",
       "870     12150        1            2               5      1             4   \n",
       "\n",
       "        destination_city  class  duration  days_left  \n",
       "73993                  3      1      9.50         27  \n",
       "290076                 2      0     12.83         45  \n",
       "225030                 2      0     17.08          2  \n",
       "254465                 4      0     13.75         27  \n",
       "870                    5      1     11.33          6  "
      ]
     },
     "execution_count": 45,
     "metadata": {},
     "output_type": "execute_result"
    }
   ],
   "source": [
    "combined_test.head()"
   ]
  },
  {
   "cell_type": "code",
   "execution_count": 46,
   "metadata": {},
   "outputs": [
    {
     "data": {
      "text/plain": [
       "<matplotlib.axes._subplots.AxesSubplot at 0x1c681174048>"
      ]
     },
     "execution_count": 46,
     "metadata": {},
     "output_type": "execute_result"
    },
    {
     "data": {
      "image/png": "[encoded data removed]",
      "text/plain": [
       "<Figure size 432x288 with 1 Axes>"
      ]
     },
     "metadata": {
      "needs_background": "light"
     },
     "output_type": "display_data"
    }
   ],
   "source": [
    "#linearly separable data!\n",
    "sns.scatterplot(data=combined_test, x='duration', y='price', hue='class')"
   ]
  },
  {
   "cell_type": "code",
   "execution_count": 47,
   "metadata": {},
   "outputs": [
    {
     "data": {
      "text/plain": [
       "Text(0.5, 1.0, 'stops vs price')"
      ]
     },
     "execution_count": 47,
     "metadata": {},
     "output_type": "execute_result"
    },
    {
     "data": {
      "image/png": "[encoded data removed]",
      "text/plain": [
       "<Figure size 432x288 with 1 Axes>"
      ]
     },
     "metadata": {
      "needs_background": "light"
     },
     "output_type": "display_data"
    }
   ],
   "source": [
    "#as can be seen, multi-dimensional linear regression plots are not very interpretable\n",
    "sns.scatterplot(data=combined_test, x='stops', y='price', hue='class')\n",
    "plt.plot(y_test, y_pred, color='g')\n",
    "plt.title('stops vs price')"
   ]
  },
  {
   "cell_type": "markdown",
   "metadata": {},
   "source": [
    "__So, we have some other ideas to try using LR:__\n",
    "\n",
    "1) It is clear that class is the largest feature in selection of price. Outside of class, how well can we predict price? We can start to test this by repeating linear regression using only tickets of a certain class.\n",
    "\n",
    "2) Regression doesn't work well if variables are not correlated with whatever we're trying to predict (price, in this case). We  repeat linear regression with only key variables: ticket class, and whatever else is highly correlated with price."
   ]
  },
  {
   "cell_type": "markdown",
   "metadata": {},
   "source": [
    "### In-class Regression\n",
    "Regression only using data from Economy class\n",
    "\n",
    "As data is now only from a single class, price should vary far less (since it primarily varies between classes). Keeping class fixed, we see if we can achieve better price predictions.\n",
    "\n",
    "We make use of the same tools employed in the last section: A gridsearch over degrees for a polynomial regression model applied to a linear regression model including an intercept and normalizing data. \n",
    "\n",
    "Results are once again evaluated using R^2, RMSE, and MAE measures."
   ]
  },
  {
   "cell_type": "code",
   "execution_count": 48,
   "metadata": {},
   "outputs": [
    {
     "data": {
      "text/html": [
       "<div>\n",
       "<style scoped>\n",
       "    .dataframe tbody tr th:only-of-type {\n",
       "        vertical-align: middle;\n",
       "    }\n",
       "\n",
       "    .dataframe tbody tr th {\n",
       "        vertical-align: top;\n",
       "    }\n",
       "\n",
       "    .dataframe thead th {\n",
       "        text-align: right;\n",
       "    }\n",
       "</style>\n",
       "<table border=\"1\" class=\"dataframe\">\n",
       "  <thead>\n",
       "    <tr style=\"text-align: right;\">\n",
       "      <th></th>\n",
       "      <th>airline</th>\n",
       "      <th>source_city</th>\n",
       "      <th>departure_time</th>\n",
       "      <th>stops</th>\n",
       "      <th>arrival_time</th>\n",
       "      <th>destination_city</th>\n",
       "      <th>class</th>\n",
       "      <th>duration</th>\n",
       "      <th>days_left</th>\n",
       "      <th>price</th>\n",
       "    </tr>\n",
       "  </thead>\n",
       "  <tbody>\n",
       "    <tr>\n",
       "      <th>0</th>\n",
       "      <td>4</td>\n",
       "      <td>2</td>\n",
       "      <td>2</td>\n",
       "      <td>0</td>\n",
       "      <td>5</td>\n",
       "      <td>5</td>\n",
       "      <td>1</td>\n",
       "      <td>2.17</td>\n",
       "      <td>1</td>\n",
       "      <td>5953</td>\n",
       "    </tr>\n",
       "    <tr>\n",
       "      <th>1</th>\n",
       "      <td>4</td>\n",
       "      <td>2</td>\n",
       "      <td>1</td>\n",
       "      <td>0</td>\n",
       "      <td>4</td>\n",
       "      <td>5</td>\n",
       "      <td>1</td>\n",
       "      <td>2.33</td>\n",
       "      <td>1</td>\n",
       "      <td>5953</td>\n",
       "    </tr>\n",
       "    <tr>\n",
       "      <th>2</th>\n",
       "      <td>0</td>\n",
       "      <td>2</td>\n",
       "      <td>1</td>\n",
       "      <td>0</td>\n",
       "      <td>1</td>\n",
       "      <td>5</td>\n",
       "      <td>1</td>\n",
       "      <td>2.17</td>\n",
       "      <td>1</td>\n",
       "      <td>5956</td>\n",
       "    </tr>\n",
       "    <tr>\n",
       "      <th>3</th>\n",
       "      <td>5</td>\n",
       "      <td>2</td>\n",
       "      <td>4</td>\n",
       "      <td>0</td>\n",
       "      <td>0</td>\n",
       "      <td>5</td>\n",
       "      <td>1</td>\n",
       "      <td>2.25</td>\n",
       "      <td>1</td>\n",
       "      <td>5955</td>\n",
       "    </tr>\n",
       "    <tr>\n",
       "      <th>4</th>\n",
       "      <td>5</td>\n",
       "      <td>2</td>\n",
       "      <td>4</td>\n",
       "      <td>0</td>\n",
       "      <td>4</td>\n",
       "      <td>5</td>\n",
       "      <td>1</td>\n",
       "      <td>2.33</td>\n",
       "      <td>1</td>\n",
       "      <td>5955</td>\n",
       "    </tr>\n",
       "  </tbody>\n",
       "</table>\n",
       "</div>"
      ],
      "text/plain": [
       "   airline  source_city  departure_time  stops  arrival_time  \\\n",
       "0        4            2               2      0             5   \n",
       "1        4            2               1      0             4   \n",
       "2        0            2               1      0             1   \n",
       "3        5            2               4      0             0   \n",
       "4        5            2               4      0             4   \n",
       "\n",
       "   destination_city  class  duration  days_left  price  \n",
       "0                 5      1      2.17          1   5953  \n",
       "1                 5      1      2.33          1   5953  \n",
       "2                 5      1      2.17          1   5956  \n",
       "3                 5      1      2.25          1   5955  \n",
       "4                 5      1      2.33          1   5955  "
      ]
     },
     "execution_count": 48,
     "metadata": {},
     "output_type": "execute_result"
    }
   ],
   "source": [
    "#economy class: only class 1\n",
    "#I am aware we have separate datasets for these, but I'd rather index the main dataset to keep notation and cleaning the same\n",
    "economy_data = data.loc[data['class'] == 1]\n",
    "economy_data.head()"
   ]
  },
  {
   "cell_type": "code",
   "execution_count": 49,
   "metadata": {},
   "outputs": [
    {
     "name": "stdout",
     "output_type": "stream",
     "text": [
      "(165332, 9) (165332,)\n"
     ]
    }
   ],
   "source": [
    "X = economy_data.drop('price', axis=1)\n",
    "y = economy_data['price']\n",
    "\n",
    "X_train, X_test, y_train, y_test = train_test_split(X, y, test_size = 0.20)\n",
    "print(X_train.shape, y_train.shape)"
   ]
  },
  {
   "cell_type": "code",
   "execution_count": 50,
   "metadata": {},
   "outputs": [
    {
     "data": {
      "text/plain": [
       "GridSearchCV(cv=KFold(n_splits=5, random_state=None, shuffle=True),\n",
       "             error_score=nan,\n",
       "             estimator=LinearRegression(copy_X=True, fit_intercept=True,\n",
       "                                        n_jobs=None, normalize=False),\n",
       "             iid='deprecated', n_jobs=None,\n",
       "             param_grid={'fit_intercept': [True, False],\n",
       "                         'normalize': [True, False]},\n",
       "             pre_dispatch='2*n_jobs', refit=True, return_train_score=False,\n",
       "             scoring='r2', verbose=0)"
      ]
     },
     "execution_count": 50,
     "metadata": {},
     "output_type": "execute_result"
    }
   ],
   "source": [
    "#start with linear regression, as before\n",
    "kf = KFold(n_splits=5, shuffle=True)\n",
    "\n",
    "reg = LinearRegression()\n",
    "parameters = {\"normalize\":[True, False],\n",
    "              \"fit_intercept\": [True, False]\n",
    "             }\n",
    "\n",
    "grid = GridSearchCV(estimator=reg, param_grid = parameters, cv = kf, \n",
    "                    scoring='r2')\n",
    "grid.fit(X_train, y_train)"
   ]
  },
  {
   "cell_type": "code",
   "execution_count": 51,
   "metadata": {},
   "outputs": [
    {
     "name": "stdout",
     "output_type": "stream",
     "text": [
      "Best Score:  0.4479533471271512\n",
      "Best Params:  {'fit_intercept': True, 'normalize': True}\n"
     ]
    }
   ],
   "source": [
    "LR_economy_est = grid.best_estimator_.fit(X_train,y_train)\n",
    "print(\"Best Score: \", grid.best_score_)\n",
    "print(\"Best Params: \", grid.best_params_)"
   ]
  },
  {
   "cell_type": "markdown",
   "metadata": {},
   "source": [
    "We get the best score using an intercept and normalization, as before, but our best r^2 is far lower without class."
   ]
  },
  {
   "cell_type": "code",
   "execution_count": 52,
   "metadata": {},
   "outputs": [
    {
     "data": {
      "text/plain": [
       "LinearRegression(copy_X=True, fit_intercept=True, n_jobs=None, normalize=True)"
      ]
     },
     "execution_count": 52,
     "metadata": {},
     "output_type": "execute_result"
    }
   ],
   "source": [
    "LR_economy_est"
   ]
  },
  {
   "cell_type": "code",
   "execution_count": 53,
   "metadata": {},
   "outputs": [
    {
     "name": "stdout",
     "output_type": "stream",
     "text": [
      "Fitting 5 folds for each of 4 candidates, totalling 20 fits\n",
      "[CV] poly__degree=1 ..................................................\n",
      "[CV] ................................... poly__degree=1, total=   0.0s\n",
      "[CV] poly__degree=1 ..................................................\n",
      "[CV] ................................... poly__degree=1, total=   0.0s\n",
      "[CV] poly__degree=1 ..................................................\n",
      "[CV] ................................... poly__degree=1, total=   0.0s\n",
      "[CV] poly__degree=1 ..................................................\n",
      "[CV] ................................... poly__degree=1, total=   0.1s"
     ]
    },
    {
     "name": "stderr",
     "output_type": "stream",
     "text": [
      "[Parallel(n_jobs=1)]: Using backend SequentialBackend with 1 concurrent workers.\n",
      "[Parallel(n_jobs=1)]: Done   1 out of   1 | elapsed:    0.0s remaining:    0.0s\n"
     ]
    },
    {
     "name": "stdout",
     "output_type": "stream",
     "text": [
      "\n",
      "[CV] poly__degree=1 ..................................................\n",
      "[CV] ................................... poly__degree=1, total=   0.0s\n",
      "[CV] poly__degree=2 ..................................................\n",
      "[CV] ................................... poly__degree=2, total=   0.3s\n",
      "[CV] poly__degree=2 ..................................................\n",
      "[CV] ................................... poly__degree=2, total=   0.3s\n",
      "[CV] poly__degree=2 ..................................................\n",
      "[CV] ................................... poly__degree=2, total=   0.3s\n",
      "[CV] poly__degree=2 ..................................................\n",
      "[CV] ................................... poly__degree=2, total=   0.3s\n",
      "[CV] poly__degree=2 ..................................................\n",
      "[CV] ................................... poly__degree=2, total=   0.3s\n",
      "[CV] poly__degree=3 ..................................................\n",
      "[CV] ................................... poly__degree=3, total=   1.4s\n",
      "[CV] poly__degree=3 ..................................................\n",
      "[CV] ................................... poly__degree=3, total=   1.3s\n",
      "[CV] poly__degree=3 ..................................................\n",
      "[CV] ................................... poly__degree=3, total=   1.3s\n",
      "[CV] poly__degree=3 ..................................................\n",
      "[CV] ................................... poly__degree=3, total=   1.3s\n",
      "[CV] poly__degree=3 ..................................................\n",
      "[CV] ................................... poly__degree=3, total=   1.3s\n",
      "[CV] poly__degree=4 ..................................................\n",
      "[CV] ................................... poly__degree=4, total=   5.4s\n",
      "[CV] poly__degree=4 ..................................................\n",
      "[CV] ................................... poly__degree=4, total=   5.5s\n",
      "[CV] poly__degree=4 ..................................................\n",
      "[CV] ................................... poly__degree=4, total=   5.5s\n",
      "[CV] poly__degree=4 ..................................................\n",
      "[CV] ................................... poly__degree=4, total=   5.2s\n",
      "[CV] poly__degree=4 ..................................................\n",
      "[CV] ................................... poly__degree=4, total=   5.4s\n"
     ]
    },
    {
     "name": "stderr",
     "output_type": "stream",
     "text": [
      "[Parallel(n_jobs=1)]: Done  20 out of  20 | elapsed:   35.1s finished\n"
     ]
    },
    {
     "data": {
      "text/plain": [
       "GridSearchCV(cv=KFold(n_splits=5, random_state=None, shuffle=True),\n",
       "             error_score=nan,\n",
       "             estimator=Pipeline(memory=None,\n",
       "                                steps=[('poly',\n",
       "                                        PolynomialFeatures(degree=2,\n",
       "                                                           include_bias=False,\n",
       "                                                           interaction_only=False,\n",
       "                                                           order='C')),\n",
       "                                       ('model',\n",
       "                                        LinearRegression(copy_X=True,\n",
       "                                                         fit_intercept=True,\n",
       "                                                         n_jobs=None,\n",
       "                                                         normalize=True))],\n",
       "                                verbose=False),\n",
       "             iid='deprecated', n_jobs=None,\n",
       "             param_grid={'poly__degree': [1, 2, 3, 4]}, pre_dispatch='2*n_jobs',\n",
       "             refit=True, return_train_score=False, scoring='r2', verbose=2)"
      ]
     },
     "execution_count": 53,
     "metadata": {},
     "output_type": "execute_result"
    }
   ],
   "source": [
    "#now we apply the best estimator to a nonlinear regression scheme, as before\n",
    "pipe = Pipeline(steps=[\n",
    "    ('poly', PolynomialFeatures(include_bias=False)),\n",
    "    ('model', LR_economy_est)])\n",
    "\n",
    "poly_search_econ = GridSearchCV(\n",
    "    estimator=pipe,\n",
    "    param_grid={'poly__degree': [1,2,3,4]},\n",
    "    scoring='r2', verbose = 2,\n",
    "    cv=kf\n",
    ")\n",
    "poly_search_econ.fit(X_train, y_train)"
   ]
  },
  {
   "cell_type": "code",
   "execution_count": 54,
   "metadata": {},
   "outputs": [
    {
     "data": {
      "text/html": [
       "<div>\n",
       "<style scoped>\n",
       "    .dataframe tbody tr th:only-of-type {\n",
       "        vertical-align: middle;\n",
       "    }\n",
       "\n",
       "    .dataframe tbody tr th {\n",
       "        vertical-align: top;\n",
       "    }\n",
       "\n",
       "    .dataframe thead th {\n",
       "        text-align: right;\n",
       "    }\n",
       "</style>\n",
       "<table border=\"1\" class=\"dataframe\">\n",
       "  <thead>\n",
       "    <tr style=\"text-align: right;\">\n",
       "      <th></th>\n",
       "      <th>mean_fit_time</th>\n",
       "      <th>std_fit_time</th>\n",
       "      <th>mean_score_time</th>\n",
       "      <th>std_score_time</th>\n",
       "      <th>param_poly__degree</th>\n",
       "      <th>params</th>\n",
       "      <th>split0_test_score</th>\n",
       "      <th>split1_test_score</th>\n",
       "      <th>split2_test_score</th>\n",
       "      <th>split3_test_score</th>\n",
       "      <th>split4_test_score</th>\n",
       "      <th>mean_test_score</th>\n",
       "      <th>std_test_score</th>\n",
       "      <th>rank_test_score</th>\n",
       "    </tr>\n",
       "  </thead>\n",
       "  <tbody>\n",
       "    <tr>\n",
       "      <th>0</th>\n",
       "      <td>0.043731</td>\n",
       "      <td>0.002938</td>\n",
       "      <td>0.003010</td>\n",
       "      <td>0.000015</td>\n",
       "      <td>1</td>\n",
       "      <td>{'poly__degree': 1}</td>\n",
       "      <td>0.448757</td>\n",
       "      <td>0.450863</td>\n",
       "      <td>0.448294</td>\n",
       "      <td>0.446191</td>\n",
       "      <td>0.445712</td>\n",
       "      <td>0.447963</td>\n",
       "      <td>0.001863</td>\n",
       "      <td>4</td>\n",
       "    </tr>\n",
       "    <tr>\n",
       "      <th>1</th>\n",
       "      <td>0.249743</td>\n",
       "      <td>0.003344</td>\n",
       "      <td>0.019563</td>\n",
       "      <td>0.002856</td>\n",
       "      <td>2</td>\n",
       "      <td>{'poly__degree': 2}</td>\n",
       "      <td>0.568063</td>\n",
       "      <td>0.571745</td>\n",
       "      <td>0.567213</td>\n",
       "      <td>0.571115</td>\n",
       "      <td>0.569887</td>\n",
       "      <td>0.569604</td>\n",
       "      <td>0.001734</td>\n",
       "      <td>3</td>\n",
       "    </tr>\n",
       "    <tr>\n",
       "      <th>2</th>\n",
       "      <td>1.255941</td>\n",
       "      <td>0.029660</td>\n",
       "      <td>0.061043</td>\n",
       "      <td>0.007502</td>\n",
       "      <td>3</td>\n",
       "      <td>{'poly__degree': 3}</td>\n",
       "      <td>0.619756</td>\n",
       "      <td>0.624423</td>\n",
       "      <td>0.462239</td>\n",
       "      <td>0.627640</td>\n",
       "      <td>0.621686</td>\n",
       "      <td>0.591149</td>\n",
       "      <td>0.064510</td>\n",
       "      <td>2</td>\n",
       "    </tr>\n",
       "    <tr>\n",
       "      <th>3</th>\n",
       "      <td>5.212764</td>\n",
       "      <td>0.092731</td>\n",
       "      <td>0.190098</td>\n",
       "      <td>0.006096</td>\n",
       "      <td>4</td>\n",
       "      <td>{'poly__degree': 4}</td>\n",
       "      <td>0.662991</td>\n",
       "      <td>0.670220</td>\n",
       "      <td>0.667970</td>\n",
       "      <td>0.670111</td>\n",
       "      <td>0.664721</td>\n",
       "      <td>0.667203</td>\n",
       "      <td>0.002900</td>\n",
       "      <td>1</td>\n",
       "    </tr>\n",
       "  </tbody>\n",
       "</table>\n",
       "</div>"
      ],
      "text/plain": [
       "   mean_fit_time  std_fit_time  mean_score_time  std_score_time  \\\n",
       "0       0.043731      0.002938         0.003010        0.000015   \n",
       "1       0.249743      0.003344         0.019563        0.002856   \n",
       "2       1.255941      0.029660         0.061043        0.007502   \n",
       "3       5.212764      0.092731         0.190098        0.006096   \n",
       "\n",
       "  param_poly__degree               params  split0_test_score  \\\n",
       "0                  1  {'poly__degree': 1}           0.448757   \n",
       "1                  2  {'poly__degree': 2}           0.568063   \n",
       "2                  3  {'poly__degree': 3}           0.619756   \n",
       "3                  4  {'poly__degree': 4}           0.662991   \n",
       "\n",
       "   split1_test_score  split2_test_score  split3_test_score  split4_test_score  \\\n",
       "0           0.450863           0.448294           0.446191           0.445712   \n",
       "1           0.571745           0.567213           0.571115           0.569887   \n",
       "2           0.624423           0.462239           0.627640           0.621686   \n",
       "3           0.670220           0.667970           0.670111           0.664721   \n",
       "\n",
       "   mean_test_score  std_test_score  rank_test_score  \n",
       "0         0.447963        0.001863                4  \n",
       "1         0.569604        0.001734                3  \n",
       "2         0.591149        0.064510                2  \n",
       "3         0.667203        0.002900                1  "
      ]
     },
     "execution_count": 54,
     "metadata": {},
     "output_type": "execute_result"
    }
   ],
   "source": [
    "#it seems degree 5 was too computationally intensive to fit, so it has been removed.\n",
    "pd.DataFrame(poly_search_econ.cv_results_)"
   ]
  },
  {
   "cell_type": "code",
   "execution_count": 55,
   "metadata": {},
   "outputs": [
    {
     "name": "stdout",
     "output_type": "stream",
     "text": [
      "Best Score:  0.667202842023524\n",
      "Best Params:  {'poly__degree': 4}\n"
     ]
    }
   ],
   "source": [
    "print(\"Best Score: \", poly_search_econ.best_score_)\n",
    "print(\"Best Params: \", poly_search_econ.best_params_)"
   ]
  },
  {
   "cell_type": "code",
   "execution_count": 56,
   "metadata": {},
   "outputs": [
    {
     "data": {
      "text/plain": [
       "Pipeline(memory=None,\n",
       "         steps=[('poly',\n",
       "                 PolynomialFeatures(degree=4, include_bias=False,\n",
       "                                    interaction_only=False, order='C')),\n",
       "                ('model',\n",
       "                 LinearRegression(copy_X=True, fit_intercept=True, n_jobs=None,\n",
       "                                  normalize=True))],\n",
       "         verbose=False)"
      ]
     },
     "execution_count": 56,
     "metadata": {},
     "output_type": "execute_result"
    }
   ],
   "source": [
    "poly_econ_best = poly_search_econ.best_estimator_.fit(X_train,y_train)\n",
    "poly_econ_best"
   ]
  },
  {
   "cell_type": "code",
   "execution_count": 57,
   "metadata": {},
   "outputs": [
    {
     "name": "stdout",
     "output_type": "stream",
     "text": [
      "RMSE:  2190.0679080319087\n",
      "MAE:  1454.9506701504815\n"
     ]
    }
   ],
   "source": [
    "y_pred = poly_econ_best.predict(X_test)\n",
    "print(\"RMSE: \", np.sqrt(mean_squared_error(y_test, y_pred)))\n",
    "print(\"MAE: \", mean_absolute_error(y_test, y_pred))"
   ]
  },
  {
   "cell_type": "markdown",
   "metadata": {},
   "source": [
    "__This is quite interesting. Despite a lower R^2/accuracy score (0.67 here, compared to 0.94 in the between-classes model), this model has much lower RMSE and MAE than the between-class model (RMSE: 2160 here, compared to 5604 in the between-classes model).__\n",
    "\n",
    "This implies that RMSE/MAE and R^2 metrics are not perfect mirrors of each other; a higher R^2 reflects a better measure of fit, but does not necessarily imply the model is \"better\" in the sense that it has less error.\n",
    "\n",
    "We also acknowledge that prices vary less in within-class samples, and economy tickets are cheaper than business tickets, so RMSE ought to be lower than in the between-class-trained model. It is entirely possible that this RMSE is not indicative of great model performance in this case. Nonetheless, it is nice to see a comparatively low RMSE.\n",
    "\n",
    "__We now recreate the validation curve (with respect to the polynomial degree) using this within_class dataset.__"
   ]
  },
  {
   "cell_type": "code",
   "execution_count": 58,
   "metadata": {},
   "outputs": [
    {
     "name": "stderr",
     "output_type": "stream",
     "text": [
      "[Parallel(n_jobs=1)]: Using backend SequentialBackend with 1 concurrent workers.\n",
      "[Parallel(n_jobs=1)]: Done   1 out of   1 | elapsed:    0.0s remaining:    0.0s\n"
     ]
    },
    {
     "name": "stdout",
     "output_type": "stream",
     "text": [
      "[CV] poly__degree=1 ..................................................\n",
      "[CV] ................................... poly__degree=1, total=   0.1s\n",
      "[CV] poly__degree=2 ..................................................\n",
      "[CV] ................................... poly__degree=2, total=   0.4s\n",
      "[CV] poly__degree=3 ..................................................\n",
      "[CV] ................................... poly__degree=3, total=   1.7s\n",
      "[CV] poly__degree=4 ..................................................\n",
      "[CV] ................................... poly__degree=4, total=   6.9s\n",
      "[CV] poly__degree=1 ..................................................\n",
      "[CV] ................................... poly__degree=1, total=   0.1s\n",
      "[CV] poly__degree=2 ..................................................\n",
      "[CV] ................................... poly__degree=2, total=   0.4s\n",
      "[CV] poly__degree=3 ..................................................\n",
      "[CV] ................................... poly__degree=3, total=   1.7s\n",
      "[CV] poly__degree=4 ..................................................\n",
      "[CV] ................................... poly__degree=4, total=   6.8s\n",
      "[CV] poly__degree=1 ..................................................\n",
      "[CV] ................................... poly__degree=1, total=   0.1s\n",
      "[CV] poly__degree=2 ..................................................\n",
      "[CV] ................................... poly__degree=2, total=   0.4s\n",
      "[CV] poly__degree=3 ..................................................\n",
      "[CV] ................................... poly__degree=3, total=   1.7s\n",
      "[CV] poly__degree=4 ..................................................\n",
      "[CV] ................................... poly__degree=4, total=   6.8s\n",
      "[CV] poly__degree=1 ..................................................\n",
      "[CV] ................................... poly__degree=1, total=   0.1s\n",
      "[CV] poly__degree=2 ..................................................\n",
      "[CV] ................................... poly__degree=2, total=   0.4s\n",
      "[CV] poly__degree=3 ..................................................\n",
      "[CV] ................................... poly__degree=3, total=   1.7s\n",
      "[CV] poly__degree=4 ..................................................\n",
      "[CV] ................................... poly__degree=4, total=   6.8s\n",
      "[CV] poly__degree=1 ..................................................\n",
      "[CV] ................................... poly__degree=1, total=   0.1s\n",
      "[CV] poly__degree=2 ..................................................\n",
      "[CV] ................................... poly__degree=2, total=   0.3s\n",
      "[CV] poly__degree=3 ..................................................\n",
      "[CV] ................................... poly__degree=3, total=   1.7s\n",
      "[CV] poly__degree=4 ..................................................\n",
      "[CV] ................................... poly__degree=4, total=   6.8s\n"
     ]
    },
    {
     "name": "stderr",
     "output_type": "stream",
     "text": [
      "[Parallel(n_jobs=1)]: Done  20 out of  20 | elapsed:   51.0s finished\n"
     ]
    }
   ],
   "source": [
    "#validation curve on entire dataset\n",
    "degrees = np.arange(1, 5)\n",
    "model = Pipeline(steps=[\n",
    "    ('poly', PolynomialFeatures(include_bias=False)),\n",
    "    ('model', LinearRegression(fit_intercept= True, normalize= True)),])\n",
    "\n",
    "train_scores, validation_scores = validation_curve(\n",
    "                 model, X, y,\n",
    "                 param_name='poly__degree',\n",
    "                 param_range=degrees, verbose = 2)"
   ]
  },
  {
   "cell_type": "code",
   "execution_count": 59,
   "metadata": {},
   "outputs": [
    {
     "data": {
      "image/png": "[encoded data removed]",
      "text/plain": [
       "<Figure size 432x288 with 1 Axes>"
      ]
     },
     "metadata": {
      "needs_background": "light"
     },
     "output_type": "display_data"
    }
   ],
   "source": [
    "plt.figure(figsize=(6, 4))\n",
    "plt.plot(degrees, validation_scores.mean(axis=1),\n",
    "         label='cross-validation')\n",
    "plt.plot(degrees, train_scores.mean(axis=1), label='training')\n",
    "\n",
    "plt.legend(loc='best')\n",
    "plt.xlabel('degree of fit')\n",
    "plt.ylabel('explained variance')\n",
    "plt.title('Validation curve')\n",
    "plt.tight_layout()"
   ]
  },
  {
   "cell_type": "markdown",
   "metadata": {},
   "source": [
    "Again, it seems that the best degree of fit for cross-validation (i.e. for testing) is 2, but the highest performance degree of fit (in regards to the training data) is degree 4. So, our highest accuracy comes from degree 4, but we should actually use a polynomial regression model with degree 2"
   ]
  },
  {
   "cell_type": "markdown",
   "metadata": {},
   "source": [
    "### Regression with fewer variables\n",
    "This is the same procedure as done above, except this time we want to limit the variables used to those which are the most salient. This means that we once again include ticket class, and 1-3 other variables.\n",
    "\n",
    "To start, we should generate a correlation matrix of all the variables to each other"
   ]
  },
  {
   "cell_type": "code",
   "execution_count": 60,
   "metadata": {},
   "outputs": [
    {
     "data": {
      "image/png": "[encoded data removed]",
      "text/plain": [
       "<Figure size 576x432 with 2 Axes>"
      ]
     },
     "metadata": {
      "needs_background": "light"
     },
     "output_type": "display_data"
    }
   ],
   "source": [
    "plt.figure(figsize = (8,6))\n",
    "corrmat = data.corr()\n",
    "sns.heatmap(corrmat, annot=True)\n",
    "plt.show()"
   ]
  },
  {
   "cell_type": "markdown",
   "metadata": {},
   "source": [
    "Aside from class, nothing has a correlation greater than .25. We'll include the duration, airline, and class labels, just to make it a bit more interesting. This means that we leave out the remaining 5 variables, each of which have a correlation of 5% or less.\n",
    "\n",
    "It is worth noting that increasing the amount of variables used in regression should always increase training accuracy, but this is just overfitting if the extra included variables have no correlation with the predicted variable (price). Thus, we attempt to strike a balance between regression performance and clarity: the fewer variables we use, the more interpretable the model is, and the less prone it is to overfitting."
   ]
  },
  {
   "cell_type": "code",
   "execution_count": 61,
   "metadata": {},
   "outputs": [
    {
     "name": "stdout",
     "output_type": "stream",
     "text": [
      "(240122, 4) (240122,)\n"
     ]
    }
   ],
   "source": [
    "X = data[['class', 'airline', 'duration', 'stops']]\n",
    "y = data['price']\n",
    "X_train, X_test, y_train, y_test = train_test_split(X, y, test_size = 0.20)\n",
    "print(X_train.shape, y_train.shape)"
   ]
  },
  {
   "cell_type": "code",
   "execution_count": 62,
   "metadata": {},
   "outputs": [
    {
     "name": "stdout",
     "output_type": "stream",
     "text": [
      "Fitting 5 folds for each of 5 candidates, totalling 25 fits\n",
      "[CV] poly__degree=1 ..................................................\n",
      "[CV] ................................... poly__degree=1, total=   0.0s\n",
      "[CV] poly__degree=1 ..................................................\n",
      "[CV] ................................... poly__degree=1, total=   0.0s\n",
      "[CV] poly__degree=1 ..................................................\n",
      "[CV] ................................... poly__degree=1, total=   0.0s\n",
      "[CV] poly__degree=1 ..................................................\n",
      "[CV] ................................... poly__degree=1, total=   0.0s\n",
      "[CV] poly__degree=1 ..................................................\n",
      "[CV] ................................... poly__degree=1, total=   0.0s"
     ]
    },
    {
     "name": "stderr",
     "output_type": "stream",
     "text": [
      "[Parallel(n_jobs=1)]: Using backend SequentialBackend with 1 concurrent workers.\n",
      "[Parallel(n_jobs=1)]: Done   1 out of   1 | elapsed:    0.0s remaining:    0.0s\n"
     ]
    },
    {
     "name": "stdout",
     "output_type": "stream",
     "text": [
      "\n",
      "[CV] poly__degree=2 ..................................................\n",
      "[CV] ................................... poly__degree=2, total=   0.1s\n",
      "[CV] poly__degree=2 ..................................................\n",
      "[CV] ................................... poly__degree=2, total=   0.1s\n",
      "[CV] poly__degree=2 ..................................................\n",
      "[CV] ................................... poly__degree=2, total=   0.1s\n",
      "[CV] poly__degree=2 ..................................................\n",
      "[CV] ................................... poly__degree=2, total=   0.1s\n",
      "[CV] poly__degree=2 ..................................................\n",
      "[CV] ................................... poly__degree=2, total=   0.1s\n",
      "[CV] poly__degree=3 ..................................................\n",
      "[CV] ................................... poly__degree=3, total=   0.2s\n",
      "[CV] poly__degree=3 ..................................................\n",
      "[CV] ................................... poly__degree=3, total=   0.3s\n",
      "[CV] poly__degree=3 ..................................................\n",
      "[CV] ................................... poly__degree=3, total=   0.2s\n",
      "[CV] poly__degree=3 ..................................................\n",
      "[CV] ................................... poly__degree=3, total=   0.2s\n",
      "[CV] poly__degree=3 ..................................................\n",
      "[CV] ................................... poly__degree=3, total=   0.2s\n",
      "[CV] poly__degree=4 ..................................................\n",
      "[CV] ................................... poly__degree=4, total=   0.6s\n",
      "[CV] poly__degree=4 ..................................................\n",
      "[CV] ................................... poly__degree=4, total=   0.5s\n",
      "[CV] poly__degree=4 ..................................................\n",
      "[CV] ................................... poly__degree=4, total=   0.6s\n",
      "[CV] poly__degree=4 ..................................................\n",
      "[CV] ................................... poly__degree=4, total=   0.5s\n",
      "[CV] poly__degree=4 ..................................................\n",
      "[CV] ................................... poly__degree=4, total=   0.5s\n",
      "[CV] poly__degree=5 ..................................................\n",
      "[CV] ................................... poly__degree=5, total=   1.0s\n",
      "[CV] poly__degree=5 ..................................................\n",
      "[CV] ................................... poly__degree=5, total=   1.0s\n",
      "[CV] poly__degree=5 ..................................................\n",
      "[CV] ................................... poly__degree=5, total=   1.0s\n",
      "[CV] poly__degree=5 ..................................................\n",
      "[CV] ................................... poly__degree=5, total=   1.0s\n",
      "[CV] poly__degree=5 ..................................................\n",
      "[CV] ................................... poly__degree=5, total=   1.0s\n"
     ]
    },
    {
     "name": "stderr",
     "output_type": "stream",
     "text": [
      "[Parallel(n_jobs=1)]: Done  25 out of  25 | elapsed:    9.5s finished\n"
     ]
    },
    {
     "data": {
      "text/plain": [
       "GridSearchCV(cv=5, error_score=nan,\n",
       "             estimator=Pipeline(memory=None,\n",
       "                                steps=[('poly',\n",
       "                                        PolynomialFeatures(degree=2,\n",
       "                                                           include_bias=False,\n",
       "                                                           interaction_only=False,\n",
       "                                                           order='C')),\n",
       "                                       ('model',\n",
       "                                        LinearRegression(copy_X=True,\n",
       "                                                         fit_intercept=True,\n",
       "                                                         n_jobs=None,\n",
       "                                                         normalize=True))],\n",
       "                                verbose=False),\n",
       "             iid='deprecated', n_jobs=None,\n",
       "             param_grid={'poly__degree': [1, 2, 3, 4, 5]},\n",
       "             pre_dispatch='2*n_jobs', refit=True, return_train_score=False,\n",
       "             scoring='r2', verbose=2)"
      ]
     },
     "execution_count": 62,
     "metadata": {},
     "output_type": "execute_result"
    }
   ],
   "source": [
    "pipe = Pipeline(steps=[\n",
    "    ('poly', PolynomialFeatures(include_bias=False)),\n",
    "    ('model', LinearRegression(fit_intercept= True, normalize= True)),])\n",
    "\n",
    "poly_search = GridSearchCV(\n",
    "    estimator=pipe,\n",
    "    param_grid={'poly__degree': [1,2,3,4,5]},\n",
    "    scoring='r2', verbose = 2,\n",
    "    cv=5\n",
    ")\n",
    "poly_search.fit(X_train, y_train)"
   ]
  },
  {
   "cell_type": "code",
   "execution_count": 63,
   "metadata": {},
   "outputs": [
    {
     "data": {
      "text/plain": [
       "Pipeline(memory=None,\n",
       "         steps=[('poly',\n",
       "                 PolynomialFeatures(degree=5, include_bias=False,\n",
       "                                    interaction_only=False, order='C')),\n",
       "                ('model',\n",
       "                 LinearRegression(copy_X=True, fit_intercept=True, n_jobs=None,\n",
       "                                  normalize=True))],\n",
       "         verbose=False)"
      ]
     },
     "execution_count": 63,
     "metadata": {},
     "output_type": "execute_result"
    }
   ],
   "source": [
    "poly_search.best_estimator_"
   ]
  },
  {
   "cell_type": "markdown",
   "metadata": {},
   "source": [
    "Again, we are suspicious of overfitting (degree 5 is likely only best for training). We generate another validation curve."
   ]
  },
  {
   "cell_type": "code",
   "execution_count": 64,
   "metadata": {},
   "outputs": [
    {
     "name": "stderr",
     "output_type": "stream",
     "text": [
      "[Parallel(n_jobs=1)]: Using backend SequentialBackend with 1 concurrent workers.\n",
      "[Parallel(n_jobs=1)]: Done   1 out of   1 | elapsed:    0.0s remaining:    0.0s\n"
     ]
    },
    {
     "name": "stdout",
     "output_type": "stream",
     "text": [
      "[CV] poly__degree=1 ..................................................\n",
      "[CV] ................................... poly__degree=1, total=   0.1s\n",
      "[CV] poly__degree=2 ..................................................\n",
      "[CV] ................................... poly__degree=2, total=   0.1s\n",
      "[CV] poly__degree=3 ..................................................\n",
      "[CV] ................................... poly__degree=3, total=   0.3s\n",
      "[CV] poly__degree=4 ..................................................\n",
      "[CV] ................................... poly__degree=4, total=   0.7s\n",
      "[CV] poly__degree=1 ..................................................\n",
      "[CV] ................................... poly__degree=1, total=   0.1s\n",
      "[CV] poly__degree=2 ..................................................\n",
      "[CV] ................................... poly__degree=2, total=   0.1s\n",
      "[CV] poly__degree=3 ..................................................\n",
      "[CV] ................................... poly__degree=3, total=   0.3s\n",
      "[CV] poly__degree=4 ..................................................\n",
      "[CV] ................................... poly__degree=4, total=   0.7s\n",
      "[CV] poly__degree=1 ..................................................\n",
      "[CV] ................................... poly__degree=1, total=   0.1s\n",
      "[CV] poly__degree=2 ..................................................\n",
      "[CV] ................................... poly__degree=2, total=   0.1s\n",
      "[CV] poly__degree=3 ..................................................\n",
      "[CV] ................................... poly__degree=3, total=   0.3s\n",
      "[CV] poly__degree=4 ..................................................\n",
      "[CV] ................................... poly__degree=4, total=   0.7s\n",
      "[CV] poly__degree=1 ..................................................\n",
      "[CV] ................................... poly__degree=1, total=   0.1s\n",
      "[CV] poly__degree=2 ..................................................\n",
      "[CV] ................................... poly__degree=2, total=   0.1s\n",
      "[CV] poly__degree=3 ..................................................\n",
      "[CV] ................................... poly__degree=3, total=   0.3s\n",
      "[CV] poly__degree=4 ..................................................\n",
      "[CV] ................................... poly__degree=4, total=   0.7s\n",
      "[CV] poly__degree=1 ..................................................\n",
      "[CV] ................................... poly__degree=1, total=   0.1s\n",
      "[CV] poly__degree=2 ..................................................\n",
      "[CV] ................................... poly__degree=2, total=   0.1s\n",
      "[CV] poly__degree=3 ..................................................\n",
      "[CV] ................................... poly__degree=3, total=   0.3s\n",
      "[CV] poly__degree=4 ..................................................\n",
      "[CV] ................................... poly__degree=4, total=   0.7s\n"
     ]
    },
    {
     "name": "stderr",
     "output_type": "stream",
     "text": [
      "[Parallel(n_jobs=1)]: Done  20 out of  20 | elapsed:    7.5s finished\n"
     ]
    }
   ],
   "source": [
    "from sklearn.preprocessing import StandardScaler\n",
    "from sklearn.model_selection import validation_curve\n",
    "degrees = np.arange(1, 5)\n",
    "model = Pipeline(steps=[\n",
    "    ('scaler', StandardScaler()),\n",
    "    ('poly', PolynomialFeatures(include_bias=False)),\n",
    "    ('model', LinearRegression(fit_intercept= True, normalize= False)),])\n",
    "train_scores, validation_scores = validation_curve(\n",
    "                 model, X, y,\n",
    "                 param_name='poly__degree',\n",
    "                 param_range=degrees, verbose = 2)"
   ]
  },
  {
   "cell_type": "markdown",
   "metadata": {},
   "source": [
    "In this case, it seems the best estimator actually is the 5th power!"
   ]
  },
  {
   "cell_type": "code",
   "execution_count": 65,
   "metadata": {},
   "outputs": [],
   "source": [
    "pipe = Pipeline(steps=[\n",
    "    ('scaler', StandardScaler()),\n",
    "    ('poly', PolynomialFeatures(degree=5, include_bias=False)),\n",
    "    ('model', LinearRegression(fit_intercept= True, normalize= False))])\n",
    "\n",
    "pipe.fit(X_train, y_train)\n",
    "y_pred = pipe.predict(X_test)"
   ]
  },
  {
   "cell_type": "code",
   "execution_count": 66,
   "metadata": {},
   "outputs": [
    {
     "data": {
      "text/plain": [
       "0.933190063252091"
      ]
     },
     "execution_count": 66,
     "metadata": {},
     "output_type": "execute_result"
    }
   ],
   "source": [
    "pipe.score(X_test,y_test)"
   ]
  },
  {
   "cell_type": "code",
   "execution_count": 67,
   "metadata": {},
   "outputs": [
    {
     "name": "stdout",
     "output_type": "stream",
     "text": [
      "RMSE:  5867.231275476457\n"
     ]
    }
   ],
   "source": [
    "rmse = np.sqrt(mean_squared_error(y_test, y_pred))\n",
    "print(\"RMSE: \", rmse)"
   ]
  },
  {
   "cell_type": "markdown",
   "metadata": {},
   "source": [
    "__We see that regression using only the 3-4 most highly correlated variables performs nearly as well as regression using each of the variables (5919 compared to 5604 in the all-variables case).__\n",
    "\n",
    "__Another note:__ This validation curve looks different than the others. In this case, cross-validation performance seems to include as the polynomial degree increases. It never peaks in the range we have provided. So, __let's recreate this gridsearch with even higher powers and check the performance.__"
   ]
  },
  {
   "cell_type": "code",
   "execution_count": 68,
   "metadata": {},
   "outputs": [
    {
     "name": "stderr",
     "output_type": "stream",
     "text": [
      "[Parallel(n_jobs=1)]: Using backend SequentialBackend with 1 concurrent workers.\n",
      "[Parallel(n_jobs=1)]: Done   1 out of   1 | elapsed:    0.0s remaining:    0.0s\n"
     ]
    },
    {
     "name": "stdout",
     "output_type": "stream",
     "text": [
      "[CV] poly__degree=1 ..................................................\n",
      "[CV] ................................... poly__degree=1, total=   0.1s\n",
      "[CV] poly__degree=3 ..................................................\n",
      "[CV] ................................... poly__degree=3, total=   0.3s\n",
      "[CV] poly__degree=5 ..................................................\n",
      "[CV] ................................... poly__degree=5, total=   1.2s\n",
      "[CV] poly__degree=7 ..................................................\n",
      "[CV] ................................... poly__degree=7, total=   4.3s\n",
      "[CV] poly__degree=9 ..................................................\n",
      "[CV] ................................... poly__degree=9, total=   9.9s\n",
      "[CV] poly__degree=1 ..................................................\n",
      "[CV] ................................... poly__degree=1, total=   0.1s\n",
      "[CV] poly__degree=3 ..................................................\n",
      "[CV] ................................... poly__degree=3, total=   0.3s\n",
      "[CV] poly__degree=5 ..................................................\n",
      "[CV] ................................... poly__degree=5, total=   1.2s\n",
      "[CV] poly__degree=7 ..................................................\n",
      "[CV] ................................... poly__degree=7, total=   4.3s\n",
      "[CV] poly__degree=9 ..................................................\n",
      "[CV] ................................... poly__degree=9, total=   9.9s\n",
      "[CV] poly__degree=1 ..................................................\n",
      "[CV] ................................... poly__degree=1, total=   0.1s\n",
      "[CV] poly__degree=3 ..................................................\n",
      "[CV] ................................... poly__degree=3, total=   0.3s\n",
      "[CV] poly__degree=5 ..................................................\n",
      "[CV] ................................... poly__degree=5, total=   1.3s\n",
      "[CV] poly__degree=7 ..................................................\n",
      "[CV] ................................... poly__degree=7, total=   4.2s\n",
      "[CV] poly__degree=9 ..................................................\n",
      "[CV] ................................... poly__degree=9, total=   9.9s\n",
      "[CV] poly__degree=1 ..................................................\n",
      "[CV] ................................... poly__degree=1, total=   0.1s\n",
      "[CV] poly__degree=3 ..................................................\n",
      "[CV] ................................... poly__degree=3, total=   0.3s\n",
      "[CV] poly__degree=5 ..................................................\n",
      "[CV] ................................... poly__degree=5, total=   1.2s\n",
      "[CV] poly__degree=7 ..................................................\n",
      "[CV] ................................... poly__degree=7, total=   4.3s\n",
      "[CV] poly__degree=9 ..................................................\n",
      "[CV] ................................... poly__degree=9, total=   9.9s\n",
      "[CV] poly__degree=1 ..................................................\n",
      "[CV] ................................... poly__degree=1, total=   0.1s\n",
      "[CV] poly__degree=3 ..................................................\n",
      "[CV] ................................... poly__degree=3, total=   0.3s\n",
      "[CV] poly__degree=5 ..................................................\n",
      "[CV] ................................... poly__degree=5, total=   1.2s\n",
      "[CV] poly__degree=7 ..................................................\n",
      "[CV] ................................... poly__degree=7, total=   4.3s\n",
      "[CV] poly__degree=9 ..................................................\n",
      "[CV] ................................... poly__degree=9, total=   9.9s\n"
     ]
    },
    {
     "name": "stderr",
     "output_type": "stream",
     "text": [
      "[Parallel(n_jobs=1)]: Done  25 out of  25 | elapsed:  1.5min finished\n"
     ]
    }
   ],
   "source": [
    "#how artificially low can we pump rmse using powers above 5, since the cv curve didn't peak on the validation curve?\n",
    "degrees = np.arange(1, 10, 2)\n",
    "model = Pipeline(steps=[\n",
    "    ('scaler', StandardScaler()),\n",
    "    ('poly', PolynomialFeatures(include_bias=False)),\n",
    "    ('model', LinearRegression(fit_intercept= True, normalize= False)),])\n",
    "train_scores, validation_scores = validation_curve(\n",
    "                 model, X, y,\n",
    "                 param_name='poly__degree',\n",
    "                 param_range=degrees, verbose = 2)"
   ]
  },
  {
   "cell_type": "code",
   "execution_count": 69,
   "metadata": {},
   "outputs": [
    {
     "data": {
      "image/png": "[encoded data removed]",
      "text/plain": [
       "<Figure size 432x288 with 1 Axes>"
      ]
     },
     "metadata": {
      "needs_background": "light"
     },
     "output_type": "display_data"
    }
   ],
   "source": [
    "plt.figure(figsize=(6, 4))\n",
    "plt.plot(degrees, validation_scores.mean(axis=1),\n",
    "         label='cross-validation')\n",
    "plt.plot(degrees, train_scores.mean(axis=1), label='training')\n",
    "\n",
    "plt.legend(loc='best')\n",
    "plt.xlabel('degree of fit')\n",
    "plt.ylabel('explained variance')\n",
    "plt.title('Validation curve')\n",
    "plt.tight_layout()"
   ]
  },
  {
   "cell_type": "code",
   "execution_count": 70,
   "metadata": {},
   "outputs": [
    {
     "name": "stdout",
     "output_type": "stream",
     "text": [
      "Fitting 5 folds for each of 5 candidates, totalling 25 fits\n",
      "[CV] poly__degree=1 ..................................................\n",
      "[CV] ................................... poly__degree=1, total=   0.0s\n",
      "[CV] poly__degree=1 ..................................................\n",
      "[CV] ................................... poly__degree=1, total=   0.0s\n",
      "[CV] poly__degree=1 ..................................................\n",
      "[CV] ................................... poly__degree=1, total=   0.0s\n",
      "[CV] poly__degree=1 ..................................................\n",
      "[CV] ................................... poly__degree=1, total=   0.0s\n",
      "[CV] poly__degree=1 ..................................................\n"
     ]
    },
    {
     "name": "stderr",
     "output_type": "stream",
     "text": [
      "[Parallel(n_jobs=1)]: Using backend SequentialBackend with 1 concurrent workers.\n",
      "[Parallel(n_jobs=1)]: Done   1 out of   1 | elapsed:    0.0s remaining:    0.0s\n"
     ]
    },
    {
     "name": "stdout",
     "output_type": "stream",
     "text": [
      "[CV] ................................... poly__degree=1, total=   0.0s\n",
      "[CV] poly__degree=3 ..................................................\n",
      "[CV] ................................... poly__degree=3, total=   0.3s\n",
      "[CV] poly__degree=3 ..................................................\n",
      "[CV] ................................... poly__degree=3, total=   0.2s\n",
      "[CV] poly__degree=3 ..................................................\n",
      "[CV] ................................... poly__degree=3, total=   0.2s\n",
      "[CV] poly__degree=3 ..................................................\n",
      "[CV] ................................... poly__degree=3, total=   0.3s\n",
      "[CV] poly__degree=3 ..................................................\n",
      "[CV] ................................... poly__degree=3, total=   0.2s\n",
      "[CV] poly__degree=5 ..................................................\n",
      "[CV] ................................... poly__degree=5, total=   0.9s\n",
      "[CV] poly__degree=5 ..................................................\n",
      "[CV] ................................... poly__degree=5, total=   0.9s\n",
      "[CV] poly__degree=5 ..................................................\n",
      "[CV] ................................... poly__degree=5, total=   0.9s\n",
      "[CV] poly__degree=5 ..................................................\n",
      "[CV] ................................... poly__degree=5, total=   0.9s\n",
      "[CV] poly__degree=5 ..................................................\n",
      "[CV] ................................... poly__degree=5, total=   0.9s\n",
      "[CV] poly__degree=7 ..................................................\n",
      "[CV] ................................... poly__degree=7, total=   3.3s\n",
      "[CV] poly__degree=7 ..................................................\n",
      "[CV] ................................... poly__degree=7, total=   3.3s\n",
      "[CV] poly__degree=7 ..................................................\n",
      "[CV] ................................... poly__degree=7, total=   3.2s\n",
      "[CV] poly__degree=7 ..................................................\n",
      "[CV] ................................... poly__degree=7, total=   3.3s\n",
      "[CV] poly__degree=7 ..................................................\n",
      "[CV] ................................... poly__degree=7, total=   3.3s\n",
      "[CV] poly__degree=9 ..................................................\n",
      "[CV] ................................... poly__degree=9, total=   7.6s\n",
      "[CV] poly__degree=9 ..................................................\n",
      "[CV] ................................... poly__degree=9, total=   7.6s\n",
      "[CV] poly__degree=9 ..................................................\n",
      "[CV] ................................... poly__degree=9, total=   7.5s\n",
      "[CV] poly__degree=9 ..................................................\n",
      "[CV] ................................... poly__degree=9, total=   7.6s\n",
      "[CV] poly__degree=9 ..................................................\n",
      "[CV] ................................... poly__degree=9, total=   7.6s\n"
     ]
    },
    {
     "name": "stderr",
     "output_type": "stream",
     "text": [
      "[Parallel(n_jobs=1)]: Done  25 out of  25 | elapsed:  1.0min finished\n"
     ]
    },
    {
     "data": {
      "text/plain": [
       "GridSearchCV(cv=5, error_score=nan,\n",
       "             estimator=Pipeline(memory=None,\n",
       "                                steps=[('scaler',\n",
       "                                        StandardScaler(copy=True,\n",
       "                                                       with_mean=True,\n",
       "                                                       with_std=True)),\n",
       "                                       ('poly',\n",
       "                                        PolynomialFeatures(degree=2,\n",
       "                                                           include_bias=False,\n",
       "                                                           interaction_only=False,\n",
       "                                                           order='C')),\n",
       "                                       ('model',\n",
       "                                        LinearRegression(copy_X=True,\n",
       "                                                         fit_intercept=True,\n",
       "                                                         n_jobs=None,\n",
       "                                                         normalize=False))],\n",
       "                                verbose=False),\n",
       "             iid='deprecated', n_jobs=None,\n",
       "             param_grid={'poly__degree': [1, 3, 5, 7, 9]},\n",
       "             pre_dispatch='2*n_jobs', refit=True, return_train_score=False,\n",
       "             scoring='r2', verbose=2)"
      ]
     },
     "execution_count": 70,
     "metadata": {},
     "output_type": "execute_result"
    }
   ],
   "source": [
    "pipe = Pipeline(steps=[\n",
    "    ('scaler', StandardScaler()),\n",
    "    ('poly', PolynomialFeatures(include_bias=False)),\n",
    "    ('model', LinearRegression(fit_intercept= True, normalize= False)),])\n",
    "\n",
    "poly_search = GridSearchCV(\n",
    "    estimator=pipe,\n",
    "    param_grid={'poly__degree': [1,3,5,7,9]},\n",
    "    scoring='r2', verbose = 2,\n",
    "    cv=5\n",
    ")\n",
    "poly_search.fit(X_train, y_train)"
   ]
  },
  {
   "cell_type": "code",
   "execution_count": 71,
   "metadata": {},
   "outputs": [],
   "source": [
    "high_poly_est = poly_search.best_estimator_"
   ]
  },
  {
   "cell_type": "code",
   "execution_count": 72,
   "metadata": {},
   "outputs": [],
   "source": [
    "y_pred = high_poly_est.predict(X_test)"
   ]
  },
  {
   "cell_type": "code",
   "execution_count": 73,
   "metadata": {},
   "outputs": [
    {
     "name": "stdout",
     "output_type": "stream",
     "text": [
      "RMSE:  6712.387642301849\n"
     ]
    }
   ],
   "source": [
    "rmse = np.sqrt(mean_squared_error(y_test, y_pred))\n",
    "print(\"RMSE: \", rmse)"
   ]
  },
  {
   "cell_type": "code",
   "execution_count": 74,
   "metadata": {},
   "outputs": [
    {
     "data": {
      "text/plain": [
       "0.9125562641518167"
      ]
     },
     "execution_count": 74,
     "metadata": {},
     "output_type": "execute_result"
    }
   ],
   "source": [
    "poly_search.score(X_test,y_test)"
   ]
  },
  {
   "cell_type": "markdown",
   "metadata": {},
   "source": [
    "Though the validation curve looks a bit different now, it seems clear that the validation performance peaks at about a 7th degree polynomial. This gives us higher R^2 but a somewhat similar RMSE. Additionally, we're not sure if it's overfitting. 7-degree polynomials are quite large and it's entirely possible this is just fitting the training as much as possible. Nonetheless, it is interesting to evaluate, and we are happy with the prospect that ideal regression performance can be approximated using less than half the original variables."
   ]
  },
  {
   "cell_type": "markdown",
   "metadata": {},
   "source": [
    "## Decision Tree Exploration"
   ]
  },
  {
   "cell_type": "markdown",
   "metadata": {},
   "source": [
    "### Basic Tree"
   ]
  },
  {
   "cell_type": "markdown",
   "metadata": {},
   "source": [
    "The next model we explored was the DecisionTree and its variations. Since the purpose of our project is to find out what factors impact flight price the most, the decision tree makes intuitive sense to be used in our analysis because it will tell us exactly what decisions lead to each price. \n",
    "\n",
    "We first established a \"baseline\" tree to see how our tree would look with the default hyperparameters. "
   ]
  },
  {
   "cell_type": "code",
   "execution_count": 75,
   "metadata": {},
   "outputs": [],
   "source": [
    "extra_trees_data = main_dataset\n",
    "\n",
    "#Label Encoder encodes target labels with values between 0 and n_classes-1\n",
    "#Labels are then normalized using the encoder\n",
    "encoder = LabelEncoder()\n",
    "extra_trees_data = extra_trees_data.drop(['flight'],axis=1)\n",
    "extra_trees_data['airline'] = encoder.fit_transform(extra_trees_data['airline'])\n",
    "extra_trees_data['source_city'] = encoder.fit_transform(extra_trees_data['source_city'])\n",
    "extra_trees_data['departure_time'] = encoder.fit_transform(extra_trees_data['departure_time'])\n",
    "extra_trees_data['stops'] = encoder.fit_transform(extra_trees_data['stops'])\n",
    "extra_trees_data['arrival_time'] = encoder.fit_transform(extra_trees_data['arrival_time'])\n",
    "extra_trees_data['destination_city'] = encoder.fit_transform(extra_trees_data['destination_city'])\n",
    "extra_trees_data['class'] = encoder.fit_transform(extra_trees_data['class'])\n",
    "\n",
    "X = extra_trees_data.drop('price', axis=1)\n",
    "y = extra_trees_data['price']\n",
    "\n",
    "feature_names = X.columns\n",
    "labels = [\"\".join(item) for item in y.unique().astype(str)]\n",
    "\n",
    "X_train, X_test, y_train, y_test = train_test_split(X, y, random_state = 42)"
   ]
  },
  {
   "cell_type": "code",
   "execution_count": 76,
   "metadata": {},
   "outputs": [],
   "source": [
    "dTree = DecisionTreeClassifier(max_depth = None, random_state = 42)\n",
    "dTree.fit(X_train, y_train)\n",
    "y_pred_dTree = dTree.predict(X_test)"
   ]
  },
  {
   "cell_type": "code",
   "execution_count": 77,
   "metadata": {},
   "outputs": [
    {
     "name": "stdout",
     "output_type": "stream",
     "text": [
      "40\n"
     ]
    }
   ],
   "source": [
    "print(dTree.get_depth())"
   ]
  },
  {
   "cell_type": "markdown",
   "metadata": {},
   "source": [
    "Without changing any of the parameters, our baseline tree achieves a depth of 40. Unfortunately plotting this tree takes quite a while and so we were unable to get a plotted tree but we did get a text version of it and it saved under our repository: LINK\n",
    "\n",
    "Unlike with the LinearRegression, with the DecisionTree we are actually able to see which factors were the most impactful in classifying price. The \"class\" feature was the first split followed by \"destination city\" and \"source city\" as the next two. Just from this baseline model we were able to gain insight on which factors are most influential - something which was not possible with the LinearRegression.\n",
    "\n",
    "The training accuracy of this classifier is very high, but the testing accuracy is much lower which could indicate that the model does not generalize well. To combat this, our next step was to tune the hyperparameters while accounting for overfitting and we will do so with a GridSearch."
   ]
  },
  {
   "cell_type": "code",
   "execution_count": 78,
   "metadata": {},
   "outputs": [
    {
     "name": "stdout",
     "output_type": "stream",
     "text": [
      "Fitting 10 folds for each of 36 candidates, totalling 360 fits\n"
     ]
    },
    {
     "name": "stderr",
     "output_type": "stream",
     "text": [
      "C:\\Users\\jasqi\\anaconda3\\lib\\site-packages\\sklearn\\model_selection\\_split.py:667: UserWarning: The least populated class in y has only 1 members, which is less than n_splits=10.\n",
      "  % (min_groups, self.n_splits)), UserWarning)\n",
      "[Parallel(n_jobs=-1)]: Using backend LokyBackend with 12 concurrent workers.\n",
      "[Parallel(n_jobs=-1)]: Done  26 tasks      | elapsed:   50.4s\n",
      "[Parallel(n_jobs=-1)]: Done 176 tasks      | elapsed:  2.2min\n",
      "[Parallel(n_jobs=-1)]: Done 360 out of 360 | elapsed:  3.9min finished\n"
     ]
    },
    {
     "data": {
      "text/plain": [
       "GridSearchCV(cv=10, error_score=nan,\n",
       "             estimator=DecisionTreeClassifier(ccp_alpha=0.0, class_weight=None,\n",
       "                                              criterion='gini', max_depth=None,\n",
       "                                              max_features=None,\n",
       "                                              max_leaf_nodes=None,\n",
       "                                              min_impurity_decrease=0.0,\n",
       "                                              min_impurity_split=None,\n",
       "                                              min_samples_leaf=1,\n",
       "                                              min_samples_split=2,\n",
       "                                              min_weight_fraction_leaf=0.0,\n",
       "                                              presort='deprecated',\n",
       "                                              random_state=42,\n",
       "                                              splitter='best'),\n",
       "             iid='deprecated', n_jobs=-1,\n",
       "             param_grid={'max_depth': [10, 40, 60],\n",
       "                         'min_impurity_decrease': [0.0001, 0.001, 0.01],\n",
       "                         'min_samples_split': [20, 40, 60, 80]},\n",
       "             pre_dispatch='2*n_jobs', refit=True, return_train_score=False,\n",
       "             scoring=None, verbose=1)"
      ]
     },
     "execution_count": 78,
     "metadata": {},
     "output_type": "execute_result"
    }
   ],
   "source": [
    "param = {\n",
    "    \"max_depth\": [10,40,60],\n",
    "    \"min_samples_split\":[20,40,60,80],\n",
    "    \"min_impurity_decrease\": [0.0001, 0.001, 0.01]\n",
    "}\n",
    "\n",
    "grid = GridSearchCV(DecisionTreeClassifier(random_state = 42), param_grid = param, cv = 10, verbose = 1, n_jobs = -1)\n",
    "grid.fit(X_train, y_train)"
   ]
  },
  {
   "cell_type": "code",
   "execution_count": 79,
   "metadata": {},
   "outputs": [
    {
     "name": "stdout",
     "output_type": "stream",
     "text": [
      "{'max_depth': 40, 'min_impurity_decrease': 0.0001, 'min_samples_split': 20}\n",
      "DecisionTreeClassifier(ccp_alpha=0.0, class_weight=None, criterion='gini',\n",
      "                       max_depth=40, max_features=None, max_leaf_nodes=None,\n",
      "                       min_impurity_decrease=0.0001, min_impurity_split=None,\n",
      "                       min_samples_leaf=1, min_samples_split=20,\n",
      "                       min_weight_fraction_leaf=0.0, presort='deprecated',\n",
      "                       random_state=42, splitter='best')\n",
      "0.5068143509607574\n"
     ]
    }
   ],
   "source": [
    "print(grid.best_params_)\n",
    "print(grid.best_estimator_)\n",
    "print(grid.best_score_)"
   ]
  },
  {
   "cell_type": "markdown",
   "metadata": {},
   "source": [
    "After doing some research we decided to vary the tree parameters max_depth, min_samples_split, and min_impurity_decrease. We tried many ranges and combinations of these parameters and although this manual search was not exhaustive, we were able to narrow it down to one set of parameters that got the best accuracy within our search.\n",
    "\n",
    "The best combination of the parameters was: \n",
    "{'max_depth': 40, 'min_impurity_decrease': 0.0001, 'min_samples_split': 20}\n",
    "\n",
    "With these tuned parameters, we were able to get the accuracies below. "
   ]
  },
  {
   "cell_type": "code",
   "execution_count": 80,
   "metadata": {},
   "outputs": [
    {
     "name": "stdout",
     "output_type": "stream",
     "text": [
      "Training Accuracy: 0.5119184057855131\n",
      "Testing Accuracy: 0.5047508628846333\n"
     ]
    }
   ],
   "source": [
    "dTree_best = DecisionTreeClassifier(max_depth = 40, random_state = 42, min_impurity_decrease = 0.0001, min_samples_split = 20)\n",
    "dTree_best.fit(X_train, y_train)\n",
    "y_pred_dTree_best = dTree_best.predict(X_test)\n",
    "print(\"Training Accuracy:\",metrics.accuracy_score(y_train, dTree_best.predict(X_train)))\n",
    "print(\"Testing Accuracy:\",metrics.accuracy_score(y_test, y_pred_dTree_best))"
   ]
  },
  {
   "cell_type": "markdown",
   "metadata": {},
   "source": [
    "### DecisionTreeRegressor"
   ]
  },
  {
   "attachments": {
    "b97a3dc2-9575-406f-8b87-59ec6be527a3.png": {
     "image/png": "[encoded data removed]"
    }
   },
   "cell_type": "markdown",
   "metadata": {},
   "source": [
    "During our research with the DecisionTree, we came across the DecisionTreeRegressor, and we decided to explore it and compare it to the LinearRegression we had implemented earlier. Using the same hyperparameters as our \"best\" DecisionTree, we implemented the regressor. We got the following results:\n",
    "![Screen Shot 2022-06-09 at 4.15.59 PM.png](attachment:b97a3dc2-9575-406f-8b87-59ec6be527a3.png)"
   ]
  },
  {
   "cell_type": "markdown",
   "metadata": {},
   "source": [
    "Clearly, there are still errors occuring, but to use a more concrete metric we calculated the RSME and MAE of this regressor.\n",
    "\n",
    "RMSE:  3003.7394485653826\n",
    "MAE:  1220.8235647611773\n",
    "\n",
    "These values are much better than the values we got earlier for the linear regression, and in fact they are almost half of what we had gotten then."
   ]
  },
  {
   "cell_type": "markdown",
   "metadata": {},
   "source": [
    "### Bucketing DecisionTree"
   ]
  },
  {
   "cell_type": "markdown",
   "metadata": {},
   "source": [
    "Moving back to our original DecisionTreeClassifier, we realized that the reason that our accuracies are so low may be due to the fact that there are so many different prices in our datatset and each prediction is being compared to one of these many prices. So, to fix this hurdle, we decided to \"bucket\" our prices or assign them to ranges so that our classifier had more leeway when being compared to the true values."
   ]
  },
  {
   "cell_type": "code",
   "execution_count": 81,
   "metadata": {},
   "outputs": [
    {
     "data": {
      "text/plain": [
       "(300153, 12157)"
      ]
     },
     "execution_count": 81,
     "metadata": {},
     "output_type": "execute_result"
    }
   ],
   "source": [
    "bucket_price = extra_trees_data.get(\"price\")\n",
    "len(bucket_price), len(bucket_price.unique())"
   ]
  },
  {
   "cell_type": "code",
   "execution_count": 82,
   "metadata": {},
   "outputs": [],
   "source": [
    "extra_trees_data[\"bucket_price\"] = bucket_price\n",
    "bins = np.arange(0, 100000, 1000)\n",
    "extra_trees_data[\"bucket_price\"] = pd.cut(extra_trees_data.bucket_price, bins).apply(lambda x: x.left)"
   ]
  },
  {
   "cell_type": "code",
   "execution_count": 83,
   "metadata": {},
   "outputs": [],
   "source": [
    "extra_trees_data = extra_trees_data.dropna()"
   ]
  },
  {
   "cell_type": "code",
   "execution_count": 84,
   "metadata": {},
   "outputs": [],
   "source": [
    "X = extra_trees_data.drop('price', axis=1)\n",
    "X = X.drop('bucket_price', axis=1)\n",
    "y = extra_trees_data['bucket_price']\n",
    "\n",
    "feature_names = X.columns\n",
    "labels = [\"\".join(item) for item in y.unique().astype(str)]\n",
    "\n",
    "X_train, X_test, y_train, y_test = train_test_split(X, y, random_state = 42)"
   ]
  },
  {
   "cell_type": "markdown",
   "metadata": {},
   "source": [
    "We then ran a GridSearch with even more hyperparameters to try to get the highest accuracy we could. "
   ]
  },
  {
   "cell_type": "code",
   "execution_count": 86,
   "metadata": {},
   "outputs": [
    {
     "name": "stdout",
     "output_type": "stream",
     "text": [
      "Fitting 10 folds for each of 3136 candidates, totalling 31360 fits\n"
     ]
    },
    {
     "name": "stderr",
     "output_type": "stream",
     "text": [
      "C:\\Users\\jasqi\\anaconda3\\lib\\site-packages\\sklearn\\model_selection\\_split.py:667: UserWarning: The least populated class in y has only 7 members, which is less than n_splits=10.\n",
      "  % (min_groups, self.n_splits)), UserWarning)\n",
      "[Parallel(n_jobs=-1)]: Using backend LokyBackend with 12 concurrent workers.\n",
      "[Parallel(n_jobs=-1)]: Done  26 tasks      | elapsed:    6.3s\n",
      "[Parallel(n_jobs=-1)]: Done 176 tasks      | elapsed:   22.4s\n",
      "[Parallel(n_jobs=-1)]: Done 426 tasks      | elapsed:   38.4s\n",
      "[Parallel(n_jobs=-1)]: Done 776 tasks      | elapsed:   54.7s\n",
      "[Parallel(n_jobs=-1)]: Done 1226 tasks      | elapsed:  1.2min\n",
      "[Parallel(n_jobs=-1)]: Done 1776 tasks      | elapsed:  1.8min\n",
      "[Parallel(n_jobs=-1)]: Done 2426 tasks      | elapsed:  2.4min\n",
      "[Parallel(n_jobs=-1)]: Done 3176 tasks      | elapsed:  2.8min\n",
      "[Parallel(n_jobs=-1)]: Done 4026 tasks      | elapsed:  3.5min\n",
      "[Parallel(n_jobs=-1)]: Done 4976 tasks      | elapsed:  4.3min\n",
      "[Parallel(n_jobs=-1)]: Done 6026 tasks      | elapsed:  5.5min\n",
      "[Parallel(n_jobs=-1)]: Done 7176 tasks      | elapsed:  6.5min\n",
      "[Parallel(n_jobs=-1)]: Done 8426 tasks      | elapsed:  7.9min\n",
      "[Parallel(n_jobs=-1)]: Done 9776 tasks      | elapsed:  9.2min\n",
      "[Parallel(n_jobs=-1)]: Done 11226 tasks      | elapsed: 10.6min\n",
      "[Parallel(n_jobs=-1)]: Done 12776 tasks      | elapsed: 12.3min\n",
      "[Parallel(n_jobs=-1)]: Done 14426 tasks      | elapsed: 14.1min\n",
      "[Parallel(n_jobs=-1)]: Done 16176 tasks      | elapsed: 16.0min\n",
      "[Parallel(n_jobs=-1)]: Done 18026 tasks      | elapsed: 18.1min\n",
      "[Parallel(n_jobs=-1)]: Done 19976 tasks      | elapsed: 19.8min\n",
      "[Parallel(n_jobs=-1)]: Done 22026 tasks      | elapsed: 22.0min\n",
      "[Parallel(n_jobs=-1)]: Done 24176 tasks      | elapsed: 24.7min\n",
      "[Parallel(n_jobs=-1)]: Done 26426 tasks      | elapsed: 27.5min\n",
      "[Parallel(n_jobs=-1)]: Done 28776 tasks      | elapsed: 30.3min\n",
      "[Parallel(n_jobs=-1)]: Done 31226 tasks      | elapsed: 33.5min\n",
      "[Parallel(n_jobs=-1)]: Done 31360 out of 31360 | elapsed: 33.7min finished\n"
     ]
    },
    {
     "data": {
      "text/plain": [
       "GridSearchCV(cv=10, error_score=nan,\n",
       "             estimator=DecisionTreeClassifier(ccp_alpha=0.0, class_weight=None,\n",
       "                                              criterion='gini', max_depth=None,\n",
       "                                              max_features=None,\n",
       "                                              max_leaf_nodes=None,\n",
       "                                              min_impurity_decrease=0.0,\n",
       "                                              min_impurity_split=None,\n",
       "                                              min_samples_leaf=1,\n",
       "                                              min_samples_split=2,\n",
       "                                              min_weight_fraction_leaf=0.0,\n",
       "                                              presort='deprecated',\n",
       "                                              random_state=42,\n",
       "                                              splitter='best'),\n",
       "             iid='deprecated', n_jobs=-1,\n",
       "             param_grid={'criterion': ['gini', 'entropy'],\n",
       "                         'max_depth': [None, 5, 10, 20, 30, 40, 50, 60],\n",
       "                         'max_features': [None, 'sqrt', 'log2', 0.2, 0.4, 0.6,\n",
       "                                          0.8],\n",
       "                         'min_impurity_decrease': [1e-05, 0.0001, 0.001, 0.01],\n",
       "                         'min_samples_split': [5, 10, 20, 30, 40, 60, 80]},\n",
       "             pre_dispatch='2*n_jobs', refit=True, return_train_score=False,\n",
       "             scoring=None, verbose=1)"
      ]
     },
     "execution_count": 86,
     "metadata": {},
     "output_type": "execute_result"
    }
   ],
   "source": [
    "param = {\n",
    "    \"criterion\": ['gini', 'entropy'],\n",
    "    \"max_depth\": [None, 5, 10, 20, 30, 40, 50, 60],\n",
    "    \"max_features\": [None, 'sqrt', 'log2', 0.2, 0.4, 0.6, 0.8],\n",
    "    \"min_samples_split\":[5, 10, 20, 30, 40, 60, 80],\n",
    "    \"min_impurity_decrease\": [0.00001, 0.0001, 0.001, 0.01]\n",
    "}\n",
    "\n",
    "grid = GridSearchCV(DecisionTreeClassifier(random_state = 42), param_grid = param, cv = 10, verbose = 1, n_jobs = -1)\n",
    "grid.fit(X_train, y_train)"
   ]
  },
  {
   "cell_type": "markdown",
   "metadata": {},
   "source": [
    "The best parameter combination we got was:\n",
    "\n",
    "    criterion: \"entropy\"\n",
    "    max_depth: 30\n",
    "    max_features: None\n",
    "    min_impurity_decrease: 1e-05\n",
    "    min_samples_split: 5\n",
    "\n",
    "with a best score of 0.7667739447517467\n",
    "\n",
    "Using these paramters we calculated the new accuracies with the bucketed data. "
   ]
  },
  {
   "cell_type": "code",
   "execution_count": 87,
   "metadata": {},
   "outputs": [
    {
     "name": "stdout",
     "output_type": "stream",
     "text": [
      "Training Accuracy: 0.8893397090062305\n",
      "Testing Accuracy: 0.7759305674061433\n"
     ]
    }
   ],
   "source": [
    "dTree_best = grid.best_estimator_\n",
    "dTree_best.fit(X_train, y_train)\n",
    "y_pred_dTree_best = dTree_best.predict(X_test)\n",
    "print(\"Training Accuracy:\",metrics.accuracy_score(y_train, dTree_best.predict(X_train)))\n",
    "print(\"Testing Accuracy:\",metrics.accuracy_score(y_test, y_pred_dTree_best))"
   ]
  },
  {
   "cell_type": "markdown",
   "metadata": {},
   "source": [
    "These accuracies were significantly better than the ones without the bucketed data and the difference between test and train accuracies decreased, meaning that this model generalizes better than the previous one."
   ]
  },
  {
   "cell_type": "code",
   "execution_count": 88,
   "metadata": {},
   "outputs": [
    {
     "name": "stderr",
     "output_type": "stream",
     "text": [
      "C:\\Users\\jasqi\\anaconda3\\lib\\site-packages\\ipykernel_launcher.py:2: SettingWithCopyWarning: \n",
      "A value is trying to be set on a copy of a slice from a DataFrame.\n",
      "Try using .loc[row_indexer,col_indexer] = value instead\n",
      "\n",
      "See the caveats in the documentation: https://pandas.pydata.org/pandas-docs/stable/user_guide/indexing.html#returning-a-view-versus-a-copy\n",
      "  \n",
      "C:\\Users\\jasqi\\anaconda3\\lib\\site-packages\\ipykernel_launcher.py:3: SettingWithCopyWarning: \n",
      "A value is trying to be set on a copy of a slice from a DataFrame.\n",
      "Try using .loc[row_indexer,col_indexer] = value instead\n",
      "\n",
      "See the caveats in the documentation: https://pandas.pydata.org/pandas-docs/stable/user_guide/indexing.html#returning-a-view-versus-a-copy\n",
      "  This is separate from the ipykernel package so we can avoid doing imports until\n"
     ]
    },
    {
     "data": {
      "text/plain": [
       "array([0], dtype=int64)"
      ]
     },
     "execution_count": 88,
     "metadata": {},
     "output_type": "execute_result"
    }
   ],
   "source": [
    "out = X_test\n",
    "out[\"prediction\"] = y_pred_dTree_best\n",
    "out[\"diff\"] = out[\"prediction\"] - y_pred_dTree_best\n",
    "out[out.get(\"diff\") != 0]\n",
    "out.get(\"diff\").unique()"
   ]
  },
  {
   "cell_type": "code",
   "execution_count": 89,
   "metadata": {},
   "outputs": [
    {
     "data": {
      "text/html": [
       "<div>\n",
       "<style scoped>\n",
       "    .dataframe tbody tr th:only-of-type {\n",
       "        vertical-align: middle;\n",
       "    }\n",
       "\n",
       "    .dataframe tbody tr th {\n",
       "        vertical-align: top;\n",
       "    }\n",
       "\n",
       "    .dataframe thead th {\n",
       "        text-align: right;\n",
       "    }\n",
       "</style>\n",
       "<table border=\"1\" class=\"dataframe\">\n",
       "  <thead>\n",
       "    <tr style=\"text-align: right;\">\n",
       "      <th></th>\n",
       "      <th>bucket</th>\n",
       "      <th>pred</th>\n",
       "      <th>diff</th>\n",
       "    </tr>\n",
       "  </thead>\n",
       "  <tbody>\n",
       "    <tr>\n",
       "      <th>2</th>\n",
       "      <td>5000</td>\n",
       "      <td>6000</td>\n",
       "      <td>-1000</td>\n",
       "    </tr>\n",
       "    <tr>\n",
       "      <th>9</th>\n",
       "      <td>57000</td>\n",
       "      <td>51000</td>\n",
       "      <td>6000</td>\n",
       "    </tr>\n",
       "    <tr>\n",
       "      <th>26</th>\n",
       "      <td>6000</td>\n",
       "      <td>7000</td>\n",
       "      <td>-1000</td>\n",
       "    </tr>\n",
       "    <tr>\n",
       "      <th>27</th>\n",
       "      <td>4000</td>\n",
       "      <td>7000</td>\n",
       "      <td>-3000</td>\n",
       "    </tr>\n",
       "    <tr>\n",
       "      <th>30</th>\n",
       "      <td>53000</td>\n",
       "      <td>45000</td>\n",
       "      <td>8000</td>\n",
       "    </tr>\n",
       "    <tr>\n",
       "      <th>...</th>\n",
       "      <td>...</td>\n",
       "      <td>...</td>\n",
       "      <td>...</td>\n",
       "    </tr>\n",
       "    <tr>\n",
       "      <th>74993</th>\n",
       "      <td>54000</td>\n",
       "      <td>70000</td>\n",
       "      <td>-16000</td>\n",
       "    </tr>\n",
       "    <tr>\n",
       "      <th>75000</th>\n",
       "      <td>5000</td>\n",
       "      <td>4000</td>\n",
       "      <td>1000</td>\n",
       "    </tr>\n",
       "    <tr>\n",
       "      <th>75003</th>\n",
       "      <td>16000</td>\n",
       "      <td>15000</td>\n",
       "      <td>1000</td>\n",
       "    </tr>\n",
       "    <tr>\n",
       "      <th>75005</th>\n",
       "      <td>58000</td>\n",
       "      <td>66000</td>\n",
       "      <td>-8000</td>\n",
       "    </tr>\n",
       "    <tr>\n",
       "      <th>75007</th>\n",
       "      <td>4000</td>\n",
       "      <td>5000</td>\n",
       "      <td>-1000</td>\n",
       "    </tr>\n",
       "  </tbody>\n",
       "</table>\n",
       "<p>16807 rows × 3 columns</p>\n",
       "</div>"
      ],
      "text/plain": [
       "       bucket   pred   diff\n",
       "2        5000   6000  -1000\n",
       "9       57000  51000   6000\n",
       "26       6000   7000  -1000\n",
       "27       4000   7000  -3000\n",
       "30      53000  45000   8000\n",
       "...       ...    ...    ...\n",
       "74993   54000  70000 -16000\n",
       "75000    5000   4000   1000\n",
       "75003   16000  15000   1000\n",
       "75005   58000  66000  -8000\n",
       "75007    4000   5000  -1000\n",
       "\n",
       "[16807 rows x 3 columns]"
      ]
     },
     "execution_count": 89,
     "metadata": {},
     "output_type": "execute_result"
    }
   ],
   "source": [
    "data = {\"bucket\": np.asarray(y_test), \n",
    "        \"pred\": y_pred_dTree_best}\n",
    "out = pd.DataFrame(data)\n",
    "out = out[out.get(\"bucket\") != out.get(\"pred\")]\n",
    "out.get(\"bucket\")\n",
    "out[\"diff\"] = out[\"bucket\"] - out[\"pred\"]\n",
    "out"
   ]
  },
  {
   "cell_type": "code",
   "execution_count": 90,
   "metadata": {},
   "outputs": [
    {
     "data": {
      "text/plain": [
       "(1.3607425477479622, 1.0)"
      ]
     },
     "execution_count": 90,
     "metadata": {},
     "output_type": "execute_result"
    }
   ],
   "source": [
    "# on average, each misclassification was off by just over 1 'bucket'\n",
    "np.mean(out[\"diff\"]) / 1000, np.median(out[\"diff\"]) / 1000"
   ]
  },
  {
   "cell_type": "markdown",
   "metadata": {},
   "source": [
    "On average each misclassification that our model had was off by just over 1 \"bucket\". For the purposes of our model, this error is still pretty useful because when predicting a price for a ticket a range gives the user a good estimate of their flight price. "
   ]
  },
  {
   "cell_type": "markdown",
   "metadata": {},
   "source": [
    "### RandomForest"
   ]
  },
  {
   "cell_type": "markdown",
   "metadata": {},
   "source": [
    "Lastly, as a fun extension, we decided to attempt a RandomForest with the hyperparameters we found for our bucketed DecisionTree.\n",
    "\n",
    "Training Accuracy: 0.907106860662513  \n",
    "Testing Acccuracy: 0.786182807672355\n",
    "\n",
    "You can see see that the testing accuracy did increase slightly when our best-parameter tree was combined into a forest. Given more time we could conduct grid search of the RandomForest's parameters to increase our accuracies even further."
   ]
  },
  {
   "cell_type": "markdown",
   "metadata": {},
   "source": [
    "# Discussion\n",
    "\n",
    "### Interpreting the result\n",
    "\n",
    "We found that the ticket class was the most important factor in determining the price, which makes sense intuitively with how flights work – business class seats are always significantly more expensive than economy class. However, running a LinearRegression model within each class of ticket did not produce high accuracy scores, indicating that either other features are not as important in determining ticket price, or they are not linear without taking ticket class into account. It is still worth noting, however, that the next most important factors in determining the price were the number of stops and the duration of the flight.  \n",
    "After running the models, we found that the best one (based on test accuracy) is Random Forest, followed by Bucket Decision Tree, basic Decision Tree, and Linear Regression. It makes sense that a Random Forest would be better than the Decision Trees, since it is a collection of them, but it also suffers from being more computationally intensive and less interpretable. Considering it is only slightly better than Bucket Decision Trees, which are less computationally intensive, it may not be the most practical option. Using either a Random Forest or Bucket Decision Tree would predict the price of a flight with relatively good accuracy (~0.78) compared to basic Decision Trees or Linear Regression.\n",
    "\n",
    "### Limitations\n",
    "\n",
    "We were definitely limited by the processing power of our devices. For the grid searches we conducted, the more hyperparameters we varied, the longer it took to run, which restricted a lot of our progress. If we had more time to run or a device with faster processing, we would have been able to explore more hyperparameters and potentially reach a better accuracy for our models. Similarly, some of our members had issues running the RandomForest and for those who were able to run it, it took a very long time. Therefore one of our biggest challenges was finding ways to optimize our models and analysis while still being able to get a result from the run. \n",
    "We also faced the issue on how to compare our models because we comparing classifiers to regressors. There was not one metric across these models, therefore we had to rely on our intuition to decide which models worked better and this limitation was one of the main reasons we decided to implement a DecisionTreeRegressor because we were at least able to compare RSME with the LinearRegression. Thus, while we did draw conclusions from our analysis, it was not as cohesive as it could have been due to the difference in metrics.\n",
    "Lastly, we had a lot of data which, besides being a challenge for running the code, may have also hindered the clarity of the results returned by the algorithms. If we had more time, it would be worth exploring if separating the data in different ways might give more meaningful and useful results.\n",
    "\n",
    "\n",
    "### Ethics & Privacy\n",
    "\n",
    "We have chosen this particular dataset as it minimizes the exposure of personally identifiable information, containing only details about the airline itself. Furthermore, this data is sourced from a publicly available website ‘Easemytrip’ and published on Kaggle, which provides users consent to explore, publish, and access the information.\n",
    "Our model itself is used to predict the price alone and nothing that may cause ethical concerns once in production such as the specific flight route, passenger details, etc. Additionally, the data is based on previous flight routes alone.\n",
    "We do acknowledge the possible bias in our dataset because all the flight routes are within a single country (India). This is a limitation in the generalizability of our model and will therefore limit its uses in production. We will ensure that this bias is highlighted to the users.\n",
    "\n",
    "\n",
    "### Conclusion\n",
    "\n",
    "Most importantly, ticket class is the main factor that determines the price of a ticket. However within ticket classes, predicting price very accurately is difficult. For future work, it may be worth separating the data by factors such as departure and arrival location, even if they may not be the most important factors in determining the price, since they are generally important to peoples’ travel plans. It is also worth trying out other algorithms and models for price prediction, since the ones in this project all gave accuracies of less than 0.8."
   ]
  },
  {
   "cell_type": "markdown",
   "metadata": {},
   "source": [
    "# **Footnotes**\n",
    "<a name=\"grovesnote\"></a>1.[^](#groves): Groves, William, and Maria Gini. \"An agent for optimizing airline ticket purchasing.\" Proceedings of the 2013 international conference on Autonomous agents and multi-agent systems. 2013.<br> \n",
    "<a name=\"Wohlfarthnote\"></a>2.[^](#Wohlfarth): Wohlfarth, Till, et al. \"A data-mining approach to travel price forecasting.\" 2011 10th International Conference on Machine Learning and Applications and Workshops. Vol. 1. IEEE, 2011.<br>\n",
    "<a name=\"Guonote\"></a>3.[^](#Guo): Guo, Jau-Jia, and Peter B. Luh. \"Improving market clearing price prediction by using a committee machine of neural networks.\" IEEE Transactions on Power Systems. 2004. <br>\n",
    "<a name=\"Etzioninote\"></a>4.[^](#Etzioni): Etzioni, Oren, et al. \"To buy or not to buy: mining airfare data to minimize ticket purchase price.\" Proceedings of the ninth ACM SIGKDD international conference on Knowledge discovery and data mining. 2003."
   ]
  },
  {
   "cell_type": "code",
   "execution_count": null,
   "metadata": {},
   "outputs": [],
   "source": []
  }
 ],
 "metadata": {
  "kernelspec": {
   "display_name": "Python 3",
   "language": "python",
   "name": "python3"
  },
  "language_info": {
   "codemirror_mode": {
    "name": "ipython",
    "version": 3
   },
   "file_extension": ".py",
   "mimetype": "text/x-python",
   "name": "python",
   "nbconvert_exporter": "python",
   "pygments_lexer": "ipython3",
   "version": "3.7.6"
  }
 },
 "nbformat": 4,
 "nbformat_minor": 4
}
